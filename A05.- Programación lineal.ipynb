{
 "cells": [
  {
   "cell_type": "markdown",
   "id": "63803adb-6d1e-4ff9-91aa-869894f55519",
   "metadata": {},
   "source": [
    "Diego Yael Islas Santoyo\n",
    "\n",
    "05/09/2024"
   ]
  },
  {
   "cell_type": "markdown",
   "id": "01705968-6a4b-4b4b-a2ba-19a17d5f020a",
   "metadata": {},
   "source": [
    "# Programación lineal"
   ]
  },
  {
   "cell_type": "markdown",
   "id": "928c75e3-58fa-4454-9408-9a38299b6bdb",
   "metadata": {},
   "source": [
    "### Plantea los siguientes ejercicios como problemas de optimización con la estructura vista en clase:"
   ]
  },
  {
   "cell_type": "markdown",
   "id": "d1c7660f-1880-41d1-83eb-46321a3b07de",
   "metadata": {},
   "source": [
    "**Ejercicio 1**"
   ]
  },
  {
   "cell_type": "markdown",
   "id": "353e9de1-720b-4dfa-a7d8-15f5ee770154",
   "metadata": {},
   "source": [
    "Se quiere producir comida para gatos de la manera más barata, no obstante se debe también asegurar que se cumplan los datos requeridos de analisis nutricional. Por lo que se quiere variar la cantidad de cada ingrediente para cumplir con los estandares nutricionales. Los requisitos que se tienen es que en **100 gramos**, se deben tener por lo menos **9 gramos de proteína y  7 gramos de grasa**. Así mismo, no se debe tener más de **2.5 gramos de fibra y 0.5 gramos de sal.**"
   ]
  },
  {
   "cell_type": "markdown",
   "id": "e8f732e7-43a4-409a-b459-8979e5467061",
   "metadata": {},
   "source": [
    "Ingrediente\tProteína\tGrasa\tFibra\tSal\n",
    "Pollo\t     10.0%\t    08.0%\t00.1%\t00.2%\n",
    "Carne\t     20.0%\t    10.0%\t00.5%\t00.5%\n",
    "Cordero\t     15.0%\t    11.0%\t00.5%\t00.7%\n",
    "Arroz\t     00.0%\t    01.0%\t10.0%\t00.2%\n",
    "Trigo\t     04.0%\t    01.0%\t15.0%\t00.8%\n",
    "Gel\t         00.0%\t    00.0%\t00.0%\t00.0%\n",
    "Los costos de cada producto son:\n",
    "\n",
    "Ingrediente\tCosto por gramo\n",
    "Pollo\t       $0.012\n",
    "Carne\t       $0.009\n",
    "Cordero\t       $0.010\n",
    "Arroz\t       $0.003\n",
    "Trigo\t       $0.005\n",
    "Gel\t           $0.002"
   ]
  },
  {
   "cell_type": "markdown",
   "id": "6dfc69a3-dfcc-468b-9b1d-3a729a8264f2",
   "metadata": {},
   "source": [
    "Lo que se busca optimizar en este caso es la cantidad de productos que se debe utilizar en la comida de gato, minimizando el costo total."
   ]
  },
  {
   "cell_type": "markdown",
   "id": "d1257ba2-a02f-46af-aba1-abbf001009a5",
   "metadata": {},
   "source": [
    "**1.- Identificar criterio de optimización (minimizar costos)**\n",
    "\n",
    "**2.-¿Sabes que puedo influir? (Cantidad de A, cantidad de B, cantidad de C y cantidad de D)**\n",
    "\n",
    "**3.-f(xA, xB, xC, xD, xE, xF)** $$0.012xA + 0.009xB + 0.010xC + 0.003xD + 0.005xE + 0.002xF = Minimizar_C$$\n",
    "\n",
    "\n",
    "**4.- Información adicional (restricciones)**\n",
    "+ Proteina >= 9gr, $$0.1xA + 0.2xB + 0.15xC + 0xD + 0.04xE + 0.00xF \\geq 9$$\n",
    "+ Grasas >= 7gr, $$0.08xA + 0.1xB + 0.11xC + 0.01xD + 0.01xE + 0.00xF \\geq 7$$\n",
    "+ Sal =< 0.5gr, $$0.001xA + 0.005xB + 0.005xC + 0.1xD + 0.15xE + 0.00xF \\leq 0.5$$\n",
    "+ Fibras =< 2.5gr, $$0.002xA + 0.005xB + 0.007xC + 0.002xD + 0.008xE + 0.00xF \\leq 2.5$$"
   ]
  },
  {
   "cell_type": "markdown",
   "id": "be77bfa7-7d00-45a1-9aff-2945480b3dbb",
   "metadata": {},
   "source": [
    "**Ejercicio 2**"
   ]
  },
  {
   "cell_type": "markdown",
   "id": "c34ac688-b721-46ef-81e3-58858b9b8778",
   "metadata": {},
   "source": [
    "La Comisión Federal de Electricidad (CFE) dispone de cuatro plantas de generación para satisfacer la demanda diaria eléctrica en cuatro ciudades, Guadalajara, León y Morelia. Las plantas 1, 2 y 3 pueden satisfacer 75, 50 y 60 millones de kW al día respectivamente. Las necesidades de las ciudades de Guadalajara, León y Morelia son de 60, 45 y 60 millones de Kw al día respectivamente.\n",
    "\n",
    "Los costos asociados al envío de suministro energético por cada millón de kW entre cada planta y cada ciudad son los registrados en la siguiente tabla.\n",
    "\n"
   ]
  },
  {
   "cell_type": "markdown",
   "id": "626cbb18-ea6b-42cd-b972-3bf8bf6d3ea2",
   "metadata": {},
   "source": [
    "\t       Guadalajara\t   León\t   Morelia\r\n",
    "Planta 1    \t5         \t2      \t7\r\n",
    "Planta     2\t         3\t      4\t5\r\n",
    "Planta     3         \t5      \t2\t3"
   ]
  },
  {
   "cell_type": "markdown",
   "id": "eec26045-b359-40c6-85d0-b3048a3d789a",
   "metadata": {},
   "source": [
    "**1.- Identificar criterio de optimización (minimizar costos)**\n",
    "\n",
    "**2.-¿Sabes que puedo influir? (Cantidad de A, cantidad de B, cantidad de C y cantidad de D)**\n",
    "\n",
    "**3.-f(x11, x12, x13, x21, x22, x23, x31, x32, x33)** $$x11 + x12 + x13 + x21 + x22 + x23 + x31 + x32 + x33 = Minimizar_C$$\n",
    "\n",
    "\n",
    "**4.- Información adicional (restricciones)**\n",
    "+ Necesidad de las plantas\n",
    " $$x11 + x21 + x31 = 60$$\n",
    " $$x12 + x22 + x32 = 45$$\n",
    " $$x13 + x23 + x33 = 60$$\n",
    "\n",
    "+ Capacidad de las plantas\n",
    " $$x11 + x12 + x13 \\leq 75$$\n",
    " $$x21 + x22 + x23 \\leq 50$$\n",
    " $$x31 + x32 + x33 \\leq 60$$"
   ]
  }
 ],
 "metadata": {
  "kernelspec": {
   "display_name": "Python 3 (ipykernel)",
   "language": "python",
   "name": "python3"
  },
  "language_info": {
   "codemirror_mode": {
    "name": "ipython",
    "version": 3
   },
   "file_extension": ".py",
   "mimetype": "text/x-python",
   "name": "python",
   "nbconvert_exporter": "python",
   "pygments_lexer": "ipython3",
   "version": "3.12.4"
  }
 },
 "nbformat": 4,
 "nbformat_minor": 5
}
