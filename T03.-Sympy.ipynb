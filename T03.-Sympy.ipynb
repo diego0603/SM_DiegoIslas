{
 "cells": [
  {
   "cell_type": "markdown",
   "id": "d9d13241-eb6d-45a6-a0f0-35ef84ab129d",
   "metadata": {},
   "source": [
    "Diego Yael Islas Santoyo\n",
    "\n",
    "05/09/2024"
   ]
  },
  {
   "cell_type": "markdown",
   "id": "166153ba-f8f6-4243-8ea9-49d8e4fa3275",
   "metadata": {},
   "source": [
    "# Sympy\n"
   ]
  },
  {
   "cell_type": "markdown",
   "id": "c7fb7bfe-80dc-4852-9360-2b24360866c9",
   "metadata": {},
   "source": [
    "Resuelve los siguientes problemas usando sympy:\r\n",
    "\r\n",
    "1. El perímetro de un triángulo isósceles es de 20 cm. Imagina que este triángulo rota centrado en su eje de simetría para formar la ilusión de un cono."
   ]
  },
  {
   "cell_type": "markdown",
   "id": "6573dbeb-b408-4fb4-854a-7df028a569b6",
   "metadata": {},
   "source": [
    "![Imagen 3](imagen3.png)"
   ]
  },
  {
   "cell_type": "markdown",
   "id": "d02cfde8-b244-457b-b9d7-1aa68022dd49",
   "metadata": {},
   "source": [
    "¿Cuánto deben medir sus lados para que el volumen generado por la rotación sea el mayor posible?"
   ]
  },
  {
   "cell_type": "code",
   "execution_count": 31,
   "id": "f7effe45-ca8b-48e2-88d2-1e226271aa12",
   "metadata": {},
   "outputs": [
    {
     "name": "stdout",
     "output_type": "stream",
     "text": [
      "La longitud óptima de los lados iguales es: 6.0000 cm\n",
      "La longitud de la base es: 8.0000 cm\n",
      "La altura del triángulo es: 4.4721 cm\n",
      "El volumen máximo es: 74.9314 cm³\n"
     ]
    }
   ],
   "source": [
    "import sympy as sp\n",
    "\n",
    "x = sp.var('x')\n",
    "\n",
    "y = 20 - 2*x\n",
    "h = sp.sqrt(x**2 - (y/2)**2)\n",
    "V = (1/3) * sp.pi * (y/2)**2 * h\n",
    "\n",
    "V_simple = sp.simplify(V)\n",
    "dV_dx = sp.diff(V_simple, x)\n",
    "\n",
    "solucion = sp.solve(dV_dx, x)\n",
    "soluciones_validas = [sol for sol in solucion if sol.is_real and 5 < sol < 10]\n",
    "\n",
    "if soluciones_validas:\n",
    "    x_optimo = soluciones_validas[0]\n",
    "    y_optimo = 20 - 2*x_optimo\n",
    "    h_optimo = sp.sqrt(x_optimo**2 - (y_optimo/2)**2)\n",
    "    V_maximo = V_simple.subs(x, x_optimo)\n",
    "\n",
    "    print(f\"La longitud óptima de los lados iguales es: {x_optimo.evalf():.4f} cm\")\n",
    "    print(f\"La longitud de la base es: {y_optimo.evalf():.4f} cm\")\n",
    "    print(f\"La altura del triángulo es: {h_optimo.evalf():.4f} cm\")\n",
    "    print(f\"El volumen máximo es: {V_maximo.evalf():.4f} cm³\")\n",
    "else:\n",
    "    print(\"No se encontraron soluciones válidas.\")"
   ]
  },
  {
   "cell_type": "markdown",
   "id": "bcb5a00e-236d-4b6d-b70a-e27a4ea4f714",
   "metadata": {},
   "source": [
    "2. Disponemos de una barra de aluminio de 6 metros para construir una portería de fútbol en un parque. Es una portería simple que tendrá sólo dos postes y el travesaño:"
   ]
  },
  {
   "cell_type": "markdown",
   "id": "982cdb06-0928-4821-88c9-9bc5908af7f8",
   "metadata": {},
   "source": [
    "![Imagen2](imagen2.png)"
   ]
  },
  {
   "cell_type": "markdown",
   "id": "cc033640-779f-4bd1-976a-269f36e15804",
   "metadata": {},
   "source": [
    "Si queremos que el área de la portería sea máxima, ¿cuánto deben medir los postes y el travesaño?"
   ]
  },
  {
   "cell_type": "code",
   "execution_count": 39,
   "id": "575d7b75-311d-40c9-9df8-48e115437057",
   "metadata": {},
   "outputs": [
    {
     "name": "stdout",
     "output_type": "stream",
     "text": [
      "El ancho óptimo (travesaño) es: 3.0000 metros\n",
      "La altura óptima (postes) es: 1.5000 metros\n",
      "El área máxima es: 4.5000 metros cuadrados\n"
     ]
    }
   ],
   "source": [
    "import sympy as sp\n",
    "x = sp.var('x')\n",
    "\n",
    "altura = (6-x)/2\n",
    "area = x * altura\n",
    "area_simple = sp.simplify(area)\n",
    "\n",
    "dA_dx = sp.diff(area_simple, x)\n",
    "solucion = sp.solve(dA_dx, x)\n",
    "\n",
    "soluciones_validas = [sol for sol in solucion if sol.is_real and 0 < sol < 6]\n",
    "\n",
    "if soluciones_validas:\n",
    "    x_optimo = soluciones_validas[0]\n",
    "    altura_optima = (6 - x_optimo) / 2\n",
    "    area_maxima = area_simple.subs(x, x_optimo)\n",
    "\n",
    "    print(f\"El ancho óptimo (travesaño) es: {x_optimo.evalf():.4f} metros\")\n",
    "    print(f\"La altura óptima (postes) es: {altura_optima.evalf():.4f} metros\")\n",
    "    print(f\"El área máxima es: {area_maxima.evalf():.4f} metros cuadrados\")\n",
    "else:\n",
    "    print(\"No se encontraron soluciones válidas.\")"
   ]
  },
  {
   "cell_type": "markdown",
   "id": "5c5a58af-be6a-47e5-a9ce-11a33e89a944",
   "metadata": {},
   "source": [
    "![Imagen3](imagen4.png)"
   ]
  },
  {
   "cell_type": "markdown",
   "id": "3e1d619b-7d03-4f16-a00f-87366def49c5",
   "metadata": {},
   "source": [
    "![Imagen5](imagen5.png)"
   ]
  },
  {
   "cell_type": "code",
   "execution_count": 41,
   "id": "d6d3783c-8ef7-4924-99e1-2ea32abbaa68",
   "metadata": {},
   "outputs": [
    {
     "name": "stdout",
     "output_type": "stream",
     "text": [
      "La altura óptima (h) es: 19.5959 pulgadas\n",
      "El ancho óptimo (w) es: 13.8564 pulgadas\n",
      "La resistencia máxima es proporcional a: 5320.8601\n"
     ]
    }
   ],
   "source": [
    "import sympy as sp\n",
    "\n",
    "\n",
    "h, w = sp.var('h w')\n",
    "S = w * h**2\n",
    "\n",
    "constraint = sp.Eq((24/2)**2, (w/2)**2 + (h/2)**2)\n",
    "\n",
    "\n",
    "w_expr = sp.solve(constraint, w)[1] \n",
    "S_expr = S.subs(w, w_expr)\n",
    "\n",
    "dS_dh = sp.diff(S_expr, h)\n",
    "solution = sp.solve(dS_dh, h)\n",
    "\n",
    "valid_solutions = [sol for sol in solution if sol.is_real and sol > 0]\n",
    "\n",
    "if valid_solutions:\n",
    "    h_optimal = valid_solutions[0]\n",
    "    w_optimal = w_expr.subs(h, h_optimal)\n",
    "    \n",
    "    print(f\"La altura óptima (h) es: {h_optimal.evalf():.4f} pulgadas\")\n",
    "    print(f\"El ancho óptimo (w) es: {w_optimal.evalf():.4f} pulgadas\")\n",
    "    print(f\"La resistencia máxima es proporcional a: {S_expr.subs(h, h_optimal).evalf():.4f}\")\n",
    "else:\n",
    "    print(\"No se encontraron soluciones válidas.\")"
   ]
  },
  {
   "cell_type": "markdown",
   "id": "58b2dc64-03a2-42cc-9017-60630c26c14c",
   "metadata": {},
   "source": [
    "![Imagen 6](imagen6.png)"
   ]
  },
  {
   "cell_type": "markdown",
   "id": "78089713-ddc1-499e-bb67-d5cedb5d8313",
   "metadata": {},
   "source": [
    "![Imagen 7](imagen7.png)"
   ]
  },
  {
   "cell_type": "code",
   "execution_count": 91,
   "id": "d6567ebf-deac-4a47-a018-ce00b7932d3b",
   "metadata": {},
   "outputs": [
    {
     "data": {
      "text/latex": [
       "$\\displaystyle 1.4142135623731$"
      ],
      "text/plain": [
       "1.41421356237310"
      ]
     },
     "execution_count": 91,
     "metadata": {},
     "output_type": "execute_result"
    }
   ],
   "source": [
    "import sympy as sp\n",
    "sp.var('h')\n",
    "def I(h):\n",
    "  return h/(h**2+4)**1.5\n",
    "I(h)\n",
    "dI=sp.diff(I(h),h)\n",
    "c=sp.solve(dI,h)\n",
    "c[1]\n"
   ]
  },
  {
   "cell_type": "code",
   "execution_count": 93,
   "id": "19de3729-39d4-4d4a-8e49-fe232ae8e5ab",
   "metadata": {},
   "outputs": [
    {
     "data": {
      "text/latex": [
       "$\\displaystyle 0.0962250448649376$"
      ],
      "text/plain": [
       "0.0962250448649376"
      ]
     },
     "execution_count": 93,
     "metadata": {},
     "output_type": "execute_result"
    }
   ],
   "source": [
    "I(c[1])"
   ]
  },
  {
   "cell_type": "markdown",
   "id": "e120a4a4-120f-4f74-a834-ea44c9856e64",
   "metadata": {},
   "source": [
    "La altura máxima es **h= 1.14** mientras que la iluminación máxima es **i=0.09**"
   ]
  },
  {
   "cell_type": "markdown",
   "id": "8af757c9-b40e-4351-a474-a185396402d8",
   "metadata": {},
   "source": [
    "![Imagen 8](imagen8.png)"
   ]
  },
  {
   "cell_type": "markdown",
   "id": "758a6cad-80b8-4344-ba69-ef69ab7dce4a",
   "metadata": {},
   "source": [
    "![Imagen 9](imagen9.png)"
   ]
  },
  {
   "cell_type": "code",
   "execution_count": 118,
   "id": "b100acc7-ec9f-49ad-b760-9c00c62c118b",
   "metadata": {},
   "outputs": [
    {
     "data": {
      "text/plain": [
       "0.0996686524911605"
      ]
     },
     "execution_count": 118,
     "metadata": {},
     "output_type": "execute_result"
    }
   ],
   "source": [
    "sp.var('theta')\n",
    "sp.var('k')\n",
    "sp.var('W')\n",
    "f=k*W/(sp.cos(theta)+k*sp.sin(theta))\n",
    "df=sp.diff(f,theta)\n",
    "c=sp.solve(df,theta)\n",
    "float(c[0].subs(k,0.1))\n"
   ]
  },
  {
   "cell_type": "code",
   "execution_count": 124,
   "id": "c73cb6f3-b540-4775-973d-06665b13a915",
   "metadata": {},
   "outputs": [
    {
     "data": {
      "text/plain": [
       "0.9950371902099893"
      ]
     },
     "execution_count": 124,
     "metadata": {},
     "output_type": "execute_result"
    }
   ],
   "source": [
    "f_num=sp.lambdify(theta,f.subs({k:0.1,W:10}),'numpy')\n",
    "f_num(float(c[0].subs(k,0.1)))\n"
   ]
  },
  {
   "cell_type": "markdown",
   "id": "50555128-d0d1-4a3e-a692-91237f63ea17",
   "metadata": {},
   "source": [
    "El angulo **Tetha = 0.0996**, con una **f = 0.9950**"
   ]
  }
 ],
 "metadata": {
  "kernelspec": {
   "display_name": "Python 3 (ipykernel)",
   "language": "python",
   "name": "python3"
  },
  "language_info": {
   "codemirror_mode": {
    "name": "ipython",
    "version": 3
   },
   "file_extension": ".py",
   "mimetype": "text/x-python",
   "name": "python",
   "nbconvert_exporter": "python",
   "pygments_lexer": "ipython3",
   "version": "3.12.4"
  }
 },
 "nbformat": 4,
 "nbformat_minor": 5
}
