{
 "cells": [
  {
   "cell_type": "markdown",
   "id": "c90bd560-3cee-4433-be81-e2c82f725937",
   "metadata": {},
   "source": [
    "Diego Yael Islas Santoyo 15/08/2024"
   ]
  },
  {
   "cell_type": "markdown",
   "id": "389730fc-53a0-42ef-bdc2-aba98f9e5c52",
   "metadata": {},
   "source": [
    "# A01-Python"
   ]
  },
  {
   "cell_type": "markdown",
   "id": "58fa7feb-66cc-4024-a2bb-ebb330427b94",
   "metadata": {},
   "source": [
    "## Ejercicio 1"
   ]
  },
  {
   "cell_type": "code",
   "execution_count": 24,
   "id": "7e39cde4-9eb8-48e6-bf17-75a65b6455f1",
   "metadata": {},
   "outputs": [
    {
     "name": "stdin",
     "output_type": "stream",
     "text": [
      "Dame un número: 9\n"
     ]
    },
    {
     "name": "stdout",
     "output_type": "stream",
     "text": [
      "El factorial de 9 es: 362880\n"
     ]
    }
   ],
   "source": [
    "\n",
    "a = int(input(\"Dame un número:\"))  \n",
    "\n",
    "factorial = 1\n",
    "\n",
    "for i in range(1, a + 1):\n",
    "    factorial *= i\n",
    "\n",
    "print(\"El factorial de\", a , \"es:\", factorial)"
   ]
  },
  {
   "cell_type": "markdown",
   "id": "b9c67284-1bc0-482c-bcc6-b0362255b6e4",
   "metadata": {},
   "source": [
    "## Ejercicio 2"
   ]
  },
  {
   "cell_type": "code",
   "execution_count": 21,
   "id": "b02ae4dd-8e99-4ff0-95bc-49c2f036bb7e",
   "metadata": {},
   "outputs": [
    {
     "name": "stdin",
     "output_type": "stream",
     "text": [
      "Dame un número: 9\n"
     ]
    },
    {
     "name": "stdout",
     "output_type": "stream",
     "text": [
      "9 no es un número primo.\n"
     ]
    }
   ],
   "source": [
    "\n",
    "a =  int(input(\"Dame un número:\"))\n",
    "\n",
    "es_primo = True\n",
    "\n",
    "if a <= 1:\n",
    "    es_primo = False\n",
    "else:\n",
    "    for i in range(2, a):\n",
    "        if a % i == 0:\n",
    "            es_primo = False\n",
    "            break\n",
    "if es_primo:\n",
    "    print( a, \"es un número primo.\")\n",
    "else:\n",
    "    print( a, \"no es un número primo.\")"
   ]
  },
  {
   "cell_type": "code",
   "execution_count": null,
   "id": "190bebe7-6bab-498c-a9da-6aad7470cdc9",
   "metadata": {},
   "outputs": [],
   "source": []
  }
 ],
 "metadata": {
  "kernelspec": {
   "display_name": "Python 3 (ipykernel)",
   "language": "python",
   "name": "python3"
  },
  "language_info": {
   "codemirror_mode": {
    "name": "ipython",
    "version": 3
   },
   "file_extension": ".py",
   "mimetype": "text/x-python",
   "name": "python",
   "nbconvert_exporter": "python",
   "pygments_lexer": "ipython3",
   "version": "3.12.4"
  }
 },
 "nbformat": 4,
 "nbformat_minor": 5
}
