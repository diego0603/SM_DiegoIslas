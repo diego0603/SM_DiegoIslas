{
 "cells": [
  {
   "cell_type": "markdown",
   "id": "5cf7ed4d-83e5-41fb-b1b2-2a2b63477698",
   "metadata": {},
   "source": [
    "Diego Yael Islas Santoyo\n",
    "\n",
    "07/11/2024\n"
   ]
  },
  {
   "cell_type": "markdown",
   "id": "7281bb02-c8a9-48c6-81c3-2ad0b4f6e89f",
   "metadata": {},
   "source": [
    "# Problema del viajante"
   ]
  },
  {
   "cell_type": "code",
   "execution_count": 50,
   "id": "4c8289ba-33c3-41c9-b520-1fcabbe10ab2",
   "metadata": {},
   "outputs": [
    {
     "data": {
      "text/html": [
       "<div>\n",
       "<style scoped>\n",
       "    .dataframe tbody tr th:only-of-type {\n",
       "        vertical-align: middle;\n",
       "    }\n",
       "\n",
       "    .dataframe tbody tr th {\n",
       "        vertical-align: top;\n",
       "    }\n",
       "\n",
       "    .dataframe thead th {\n",
       "        text-align: right;\n",
       "    }\n",
       "</style>\n",
       "<table border=\"1\" class=\"dataframe\">\n",
       "  <thead>\n",
       "    <tr style=\"text-align: right;\">\n",
       "      <th></th>\n",
       "      <th>Tijuana</th>\n",
       "      <th>Mérida</th>\n",
       "      <th>GDL</th>\n",
       "      <th>México</th>\n",
       "      <th>León</th>\n",
       "      <th>Monterrey</th>\n",
       "      <th>Tapachula</th>\n",
       "      <th>Chihuahua</th>\n",
       "    </tr>\n",
       "    <tr>\n",
       "      <th>Unnamed: 0</th>\n",
       "      <th></th>\n",
       "      <th></th>\n",
       "      <th></th>\n",
       "      <th></th>\n",
       "      <th></th>\n",
       "      <th></th>\n",
       "      <th></th>\n",
       "      <th></th>\n",
       "    </tr>\n",
       "  </thead>\n",
       "  <tbody>\n",
       "    <tr>\n",
       "      <th>Tijuana</th>\n",
       "      <td>0</td>\n",
       "      <td>4180</td>\n",
       "      <td>2306</td>\n",
       "      <td>2848</td>\n",
       "      <td>2529</td>\n",
       "      <td>2409</td>\n",
       "      <td>4005</td>\n",
       "      <td>1583</td>\n",
       "    </tr>\n",
       "    <tr>\n",
       "      <th>Mérida</th>\n",
       "      <td>4180</td>\n",
       "      <td>0</td>\n",
       "      <td>1874</td>\n",
       "      <td>1332</td>\n",
       "      <td>1719</td>\n",
       "      <td>2046</td>\n",
       "      <td>1062</td>\n",
       "      <td>2819</td>\n",
       "    </tr>\n",
       "    <tr>\n",
       "      <th>GDL</th>\n",
       "      <td>2306</td>\n",
       "      <td>1874</td>\n",
       "      <td>0</td>\n",
       "      <td>542</td>\n",
       "      <td>223</td>\n",
       "      <td>789</td>\n",
       "      <td>1699</td>\n",
       "      <td>1202</td>\n",
       "    </tr>\n",
       "    <tr>\n",
       "      <th>México</th>\n",
       "      <td>2848</td>\n",
       "      <td>1332</td>\n",
       "      <td>542</td>\n",
       "      <td>0</td>\n",
       "      <td>389</td>\n",
       "      <td>933</td>\n",
       "      <td>1157</td>\n",
       "      <td>1487</td>\n",
       "    </tr>\n",
       "    <tr>\n",
       "      <th>León</th>\n",
       "      <td>2529</td>\n",
       "      <td>1719</td>\n",
       "      <td>223</td>\n",
       "      <td>389</td>\n",
       "      <td>0</td>\n",
       "      <td>711</td>\n",
       "      <td>1544</td>\n",
       "      <td>1140</td>\n",
       "    </tr>\n",
       "    <tr>\n",
       "      <th>Monterrey</th>\n",
       "      <td>2409</td>\n",
       "      <td>2046</td>\n",
       "      <td>789</td>\n",
       "      <td>933</td>\n",
       "      <td>711</td>\n",
       "      <td>0</td>\n",
       "      <td>1803</td>\n",
       "      <td>826</td>\n",
       "    </tr>\n",
       "    <tr>\n",
       "      <th>Tapachula</th>\n",
       "      <td>4005</td>\n",
       "      <td>1062</td>\n",
       "      <td>1699</td>\n",
       "      <td>1157</td>\n",
       "      <td>1544</td>\n",
       "      <td>1803</td>\n",
       "      <td>0</td>\n",
       "      <td>2644</td>\n",
       "    </tr>\n",
       "    <tr>\n",
       "      <th>Chihuahua</th>\n",
       "      <td>1583</td>\n",
       "      <td>2819</td>\n",
       "      <td>1202</td>\n",
       "      <td>1487</td>\n",
       "      <td>1140</td>\n",
       "      <td>826</td>\n",
       "      <td>2644</td>\n",
       "      <td>0</td>\n",
       "    </tr>\n",
       "  </tbody>\n",
       "</table>\n",
       "</div>"
      ],
      "text/plain": [
       "            Tijuana  Mérida   GDL  México  León  Monterrey  Tapachula  \\\n",
       "Unnamed: 0                                                              \n",
       "Tijuana           0    4180  2306    2848  2529       2409       4005   \n",
       "Mérida         4180       0  1874    1332  1719       2046       1062   \n",
       "GDL            2306    1874     0     542   223        789       1699   \n",
       "México         2848    1332   542       0   389        933       1157   \n",
       "León           2529    1719   223     389     0        711       1544   \n",
       "Monterrey      2409    2046   789     933   711          0       1803   \n",
       "Tapachula      4005    1062  1699    1157  1544       1803          0   \n",
       "Chihuahua      1583    2819  1202    1487  1140        826       2644   \n",
       "\n",
       "            Chihuahua  \n",
       "Unnamed: 0             \n",
       "Tijuana          1583  \n",
       "Mérida           2819  \n",
       "GDL              1202  \n",
       "México           1487  \n",
       "León             1140  \n",
       "Monterrey         826  \n",
       "Tapachula        2644  \n",
       "Chihuahua           0  "
      ]
     },
     "execution_count": 50,
     "metadata": {},
     "output_type": "execute_result"
    }
   ],
   "source": [
    "import pandas as pd\n",
    "archivo = pd.read_excel(\"datosCT.xlsx\", sheet_name=\"8c\").set_index(\"Unnamed: 0\")\n",
    "archivo"
   ]
  },
  {
   "cell_type": "code",
   "execution_count": 48,
   "id": "de1bec8f-313a-44a4-8033-a67d1f2b5bc5",
   "metadata": {},
   "outputs": [
    {
     "data": {
      "text/plain": [
       "['León',\n",
       " 'Monterrey',\n",
       " 'México',\n",
       " 'Chihuahua',\n",
       " 'Tapachula',\n",
       " 'Mérida',\n",
       " 'Tijuana',\n",
       " 'GDL']"
      ]
     },
     "execution_count": 48,
     "metadata": {},
     "output_type": "execute_result"
    }
   ],
   "source": [
    "import numpy as np\n",
    "def ciudades_aleatorias(df):\n",
    "    ciudades = df.index.tolist()\n",
    "    np.random.shuffle(ciudades)\n",
    "    return ciudades\n",
    "\n",
    "ciudades_aleatorias(archivo)\n"
   ]
  },
  {
   "cell_type": "markdown",
   "id": "cfbcbd04-b7a5-444b-b8ad-641a8e3c76eb",
   "metadata": {},
   "source": [
    "# PASO 1"
   ]
  },
  {
   "cell_type": "code",
   "execution_count": 93,
   "id": "7b36d1f1-2f25-43ee-93d7-fe1e4d74d5aa",
   "metadata": {},
   "outputs": [],
   "source": [
    "def calcular_distancia(ruta,df):\n",
    "    distancia_total = 0\n",
    "    for i in range(len(ruta)-1):\n",
    "        ciudad_actual = ruta[i]\n",
    "        ciudad_siguiente = ruta[i + 1]\n",
    "        distancia_total += df.loc[ciudad_actual, ciudad_siguiente]\n",
    "    return distancia_total   "
   ]
  },
  {
   "cell_type": "markdown",
   "id": "77c229c9-3b81-463f-90c1-a4b1a2c622c6",
   "metadata": {},
   "source": [
    "**1.- Generamos 2 rutas aleatorias con los datos de la tabla**"
   ]
  },
  {
   "cell_type": "code",
   "execution_count": 95,
   "id": "993e2145-eecd-4f42-8899-462c20339fce",
   "metadata": {},
   "outputs": [],
   "source": [
    "ruta1 = ciudades_aleatorias(archivo)\n",
    "ruta2 = ciudades_aleatorias(archivo)"
   ]
  },
  {
   "cell_type": "markdown",
   "id": "aa1ae292-42db-4e69-8c91-0b1fbac836a3",
   "metadata": {},
   "source": [
    "**2.- Calculamos la distancia de las 2 rutas**"
   ]
  },
  {
   "cell_type": "code",
   "execution_count": 97,
   "id": "305f5010-dace-40f6-a1af-908e0b3d9966",
   "metadata": {},
   "outputs": [],
   "source": [
    "distancia1 = calcular_distancia(ruta1, archivo)\n",
    "distancia2 = calcular_distancia(ruta2, archivo)"
   ]
  },
  {
   "cell_type": "markdown",
   "id": "6eb01ed5-161e-4b1b-817c-5a895165d2f6",
   "metadata": {},
   "source": [
    "**3.- Creamos la condición**"
   ]
  },
  {
   "cell_type": "code",
   "execution_count": 99,
   "id": "c0608686-c097-42ea-a9dc-c1f193d15643",
   "metadata": {},
   "outputs": [],
   "source": [
    "if distancia1 < distancia2:\n",
    "    ruta_mas_eficiente = ruta1\n",
    "    distancia_mas_corta = distancia1\n",
    "else:\n",
    "    ruta_mas_eficiente = ruta2\n",
    "    distancia_mas_corta = distancia2\n",
    "    \n",
    "    "
   ]
  },
  {
   "cell_type": "code",
   "execution_count": 118,
   "id": "aab736a1-c2e9-401a-a9d9-3f556bfe97e7",
   "metadata": {},
   "outputs": [
    {
     "name": "stdout",
     "output_type": "stream",
     "text": [
      "La ruta 1 es: ['México', 'GDL', 'León', 'Tapachula', 'Monterrey', 'Mérida', 'Tijuana', 'Chihuahua']\n",
      "La ruta 2 es: ['León', 'Tapachula', 'GDL', 'Tijuana', 'Monterrey', 'Mérida', 'México', 'Chihuahua']\n",
      "La distancia 1 es: 11921\n",
      "La distancia 2 es: 12823\n",
      "La ruta más corta es: 11921\n"
     ]
    }
   ],
   "source": [
    "print(\"La ruta 1 es:\", ruta1)\n",
    "print(\"La ruta 2 es:\", ruta2)\n",
    "print(\"La distancia 1 es:\", distancia1)\n",
    "print(\"La distancia 2 es:\", distancia2)\n",
    "print(\"La ruta más corta es:\", distancia_mas_corta)"
   ]
  },
  {
   "cell_type": "markdown",
   "id": "1ff59775-6f6b-46e1-a694-86c782ed4184",
   "metadata": {},
   "source": [
    "# PASO 2"
   ]
  },
  {
   "cell_type": "code",
   "execution_count": 112,
   "id": "ed68e686-c765-4331-bb39-655b0ad17b9a",
   "metadata": {},
   "outputs": [],
   "source": [
    "N = 100 \n",
    "rutas = []\n",
    "distancias = []\n",
    "\n",
    "for i in range(N + 1):\n",
    "    ruta = ciudades_aleatorias(archivo)\n",
    "    distancia = calcular_distancia(ruta, archivo)\n",
    "    rutas.append(ruta)\n",
    "    distancias.append(distancia)\n",
    "\n",
    "distancia_minima = min(distancias)\n",
    "indice_minimo = distancias.index(distancia_minima)\n",
    "ruta_mas_corta = rutas[indice_minimo]\n"
   ]
  },
  {
   "cell_type": "code",
   "execution_count": 120,
   "id": "6c4d95d0-0e55-49f4-a4af-4744d75a1e08",
   "metadata": {},
   "outputs": [
    {
     "name": "stdout",
     "output_type": "stream",
     "text": [
      "Distancia mínima: 7218\n",
      "Ruta mas corta: ['GDL', 'León', 'México', 'Mérida', 'Tapachula', 'Monterrey', 'Chihuahua', 'Tijuana']\n"
     ]
    }
   ],
   "source": [
    "print(\"Distancia mínima:\", distancia_minima)\n",
    "print(\"Ruta mas corta:\", ruta_mas_corta)"
   ]
  },
  {
   "cell_type": "markdown",
   "id": "c88fed5c-b838-4eb2-b243-bf6136bd30de",
   "metadata": {},
   "source": [
    "# Paso 3"
   ]
  },
  {
   "cell_type": "code",
   "execution_count": null,
   "id": "21a97f21-4b18-41eb-b8df-397d0d28808e",
   "metadata": {},
   "outputs": [],
   "source": [
    "T = 10\n",
    "alpha = 0.9\n",
    "mejor_ruta = ciudades_aleatorias(archivo)\n",
    "mejor_distancia = calcular_distancia(mejor_ruta,archivo)\n",
    "\n",
    "\n",
    "while T > 1:\n",
    "    ruta = ciudades_aleatorias(archivo)\n",
    "    distancia = calcular_distancia(ruta,archivo)\n",
    "\n",
    "if distancia < mejor_distancia:\n",
    "    mejor_ruta = ruta\n",
    "    mejor_distancia = distancia\n",
    "    T*= alpha"
   ]
  },
  {
   "cell_type": "code",
   "execution_count": null,
   "id": "30f903b6-4130-4597-bbd4-a0b875fff27f",
   "metadata": {},
   "outputs": [],
   "source": [
    "print(\"La mejor ruta es:\" mejor_ruta)\n",
    "print(\"La mejor distancia es:\" mejor_distancia)"
   ]
  }
 ],
 "metadata": {
  "kernelspec": {
   "display_name": "Python 3 (ipykernel)",
   "language": "python",
   "name": "python3"
  },
  "language_info": {
   "codemirror_mode": {
    "name": "ipython",
    "version": 3
   },
   "file_extension": ".py",
   "mimetype": "text/x-python",
   "name": "python",
   "nbconvert_exporter": "python",
   "pygments_lexer": "ipython3",
   "version": "3.12.4"
  }
 },
 "nbformat": 4,
 "nbformat_minor": 5
}
