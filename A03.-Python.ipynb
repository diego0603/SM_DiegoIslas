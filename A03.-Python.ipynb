{
 "cells": [
  {
   "cell_type": "markdown",
   "id": "160170b3-0a76-479d-8944-ddde4b876021",
   "metadata": {},
   "source": [
    "Diego Yael Islas Santoyo\n",
    "26/08/2024"
   ]
  },
  {
   "cell_type": "markdown",
   "id": "30540a51-9ee6-4f34-a154-58f3c17ab0ed",
   "metadata": {},
   "source": [
    "# Datos y Numpy\n"
   ]
  },
  {
   "cell_type": "markdown",
   "id": "980f1ed4-1baa-4e74-85f5-6234abe963de",
   "metadata": {},
   "source": [
    "## Problema 1"
   ]
  },
  {
   "cell_type": "code",
   "execution_count": 15,
   "id": "83bcef05-552c-4873-9682-f5f351dcaef0",
   "metadata": {},
   "outputs": [
    {
     "name": "stdout",
     "output_type": "stream",
     "text": [
      "DataFrame con Utilidad calculada:\n",
      "           Mes  Ingreso  Gasto  Utilidad\n",
      "0        Enero     1340   1880      -540\n",
      "1      Febrero     2590   3130      -540\n",
      "2        Marzo     3570   2140      1430\n",
      "3        Abril     4450   3370      1080\n",
      "4         Mayo     1330   2990     -1660\n",
      "5        Junio     1610   1970      -360\n",
      "6        Julio     1500   2230      -730\n",
      "7       Agosto     2270   1240      1030\n",
      "8   Septiembre     1910   1470       440\n",
      "9      Octubre     2120   2280      -160\n",
      "10   Noviembre     3950   1870      2080\n",
      "11   Diciembre     1380   3140     -1760\n",
      "\n",
      "Promedio de Gastos en meses con Utilidad negativa:\n",
      "$2517.14\n",
      "\n",
      "Ingresos totales del año:\n",
      "$28,020.00\n"
     ]
    }
   ],
   "source": [
    "import pandas as pd\n",
    "\n",
    "data = {\n",
    "    'Mes': ['Enero', 'Febrero', 'Marzo', 'Abril', 'Mayo', 'Junio', 'Julio', 'Agosto', 'Septiembre', 'Octubre', 'Noviembre', 'Diciembre'],\n",
    "    'Ingreso': [1340, 2590, 3570, 4450, 1330, 1610, 1500, 2270, 1910, 2120, 3950, 1380],\n",
    "    'Gasto': [1880, 3130, 2140, 3370, 2990, 1970, 2230, 1240, 1470, 2280, 1870, 3140]\n",
    "}\n",
    "\n",
    "df = pd.DataFrame(data)\n",
    "\n",
    "df['Utilidad'] = df['Ingreso'] - df['Gasto']\n",
    "\n",
    "gasto_promedio_utilidad_negativa = df[df['Utilidad'] < 0]['Gasto'].mean()\n",
    "\n",
    "ingresos_totales = df['Ingreso'].sum()\n",
    "\n",
    "print(\"DataFrame con Utilidad calculada:\")\n",
    "print(df)\n",
    "print(\"\\nPromedio de Gastos en meses con Utilidad negativa:\")\n",
    "print(f\"${gasto_promedio_utilidad_negativa:.2f}\")\n",
    "print(\"\\nIngresos totales del año:\")\n",
    "print(f\"${ingresos_totales:,.2f}\")"
   ]
  },
  {
   "cell_type": "markdown",
   "id": "073025f9-9237-42e4-82ce-d39c193fd4e4",
   "metadata": {},
   "source": [
    "## Problema 2"
   ]
  },
  {
   "cell_type": "code",
   "execution_count": 23,
   "id": "926a2ec9-6927-493d-9e16-73d950649c2c",
   "metadata": {},
   "outputs": [
    {
     "name": "stdout",
     "output_type": "stream",
     "text": [
      "Matriz A:\n",
      "[[1 2]\n",
      " [3 4]]\n",
      "\n",
      "Matriz b:\n",
      "[[2]\n",
      " [4]]\n",
      "\n",
      "Resultado de A*b:\n",
      "[[10]\n",
      " [22]]\n"
     ]
    }
   ],
   "source": [
    "import numpy as np\n",
    "\n",
    "A = np.array([[1, 2],\n",
    "              [3, 4]])\n",
    "\n",
    "b = np.array([[2],\n",
    "              [4]])\n",
    "\n",
    "resultado = np.dot(A, b)\n",
    "\n",
    "print(\"Matriz A:\")\n",
    "print(A)\n",
    "print(\"\\nMatriz b:\")\n",
    "print(b)\n",
    "print(\"\\nResultado de A*b:\")\n",
    "print(resultado)"
   ]
  },
  {
   "cell_type": "code",
   "execution_count": null,
   "id": "44a01817-871c-4919-b2e2-1c0ceb12ec11",
   "metadata": {},
   "outputs": [],
   "source": []
  }
 ],
 "metadata": {
  "kernelspec": {
   "display_name": "Python 3 (ipykernel)",
   "language": "python",
   "name": "python3"
  },
  "language_info": {
   "codemirror_mode": {
    "name": "ipython",
    "version": 3
   },
   "file_extension": ".py",
   "mimetype": "text/x-python",
   "name": "python",
   "nbconvert_exporter": "python",
   "pygments_lexer": "ipython3",
   "version": "3.12.4"
  }
 },
 "nbformat": 4,
 "nbformat_minor": 5
}
