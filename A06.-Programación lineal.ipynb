{
 "cells": [
  {
   "cell_type": "markdown",
   "id": "15b658c7-4278-4eb7-905a-80de34ac1cab",
   "metadata": {},
   "source": [
    "Diego Yael Islas Santoyo\n",
    "\n",
    "09/09/2024"
   ]
  },
  {
   "cell_type": "markdown",
   "id": "fda188ef-2c3a-422b-937d-5ff349955bbf",
   "metadata": {},
   "source": [
    "# Programación lineal"
   ]
  },
  {
   "cell_type": "markdown",
   "id": "b76c2229-002b-4bb4-b4fe-479522fec666",
   "metadata": {},
   "source": [
    "Usa los 5 pasos vistos en clase para plantear adecuadamente el siguiente ejercicio. Después, utiliza linprog para resolverlo.\n",
    "\n",
    "**Ejercicio 1.**\n",
    "\n",
    "Una carpintería local fabrica sillas, mesas, libreros y bases de cama. Hay dos empleados en esta carpintería: un empleado experimentado y un aprendiz. El aprendiz tarda aproximadamente 50% más tiempo que el carpintero experimentado en construir cualquier cosa, además de que tiene un desperdicio de alrededor de 20% de material. Los materiales y tiempos necesarios para construir algo se desglozan en la siguiente tabla:"
   ]
  },
  {
   "attachments": {
    "d45a7f74-7936-47cb-9087-7267d8b6fa30.png": {
     "image/png": "[encoded data removed]"
    }
   },
   "cell_type": "markdown",
   "id": "a2e9a450-4bf4-4fb5-ae38-d3f4fc1b34af",
   "metadata": {},
   "source": [
    "![image.png](attachment:d45a7f74-7936-47cb-9087-7267d8b6fa30.png)"
   ]
  },
  {
   "cell_type": "markdown",
   "id": "4806476c-b92f-4a88-9a4e-3055577bb5f1",
   "metadata": {},
   "source": [
    "Las mesas se venden en $9000$, las sillas en $3000$, los libreros en $10000$, y las bases de cama en $9000$. Suponiendo una jornada de 40 horas a la semana y que tienen 100 unidades de madera, ¿qué les conviene construir durante una semana para maximizar su ganancia?\n",
    "\n",
    "¿Cuántas horas trabaja cada quién?\n",
    "\n",
    "¿Cuánto material se usa?\n",
    "\n",
    "¿Cuál se el ingreso total si se vende todo lo fabricado?\n",
    "\n",
    "2. La carpintería recibió una orden por 3 combos de mesa + 6 sillas.\n",
    "\n",
    "¿Se puede cumplir la orden?\n",
    "\n",
    "Si sí, ¿qué es lo que tienen que fabricar en el resto del tiempo y con el resto del material para maximizar su ganancia?\n",
    "\n",
    "¿Cuántas horas trabaja cada quién?\n",
    "\n",
    "¿Cuánto material se usa?\n",
    "\n",
    "¿Cuál es el nuevo ingreso total?"
   ]
  },
  {
   "cell_type": "markdown",
   "id": "bfa75f4c-d14a-4e32-8772-fe2f1426abad",
   "metadata": {},
   "source": [
    "**1.- Identificar criterio de optimización (Maximizar las ganancias)**\n",
    "\n",
    "**2.-¿Sabes que puedo influir?**\n",
    "+ $$x_{ME} : Num. de Mesas$$\n",
    "+ $$x_{SE} : Num. de Sillas$$\n",
    "+ $$x_{LE} : Num. de Libreros$$\n",
    "+ $$x_{BE} : Num. de Bases de cama$$\n",
    "+ $$x_{MA} : Num. de Mesas, APRENDIZ$$\n",
    "+ $$x_{SA} : Num. de Sillas, APRENDIZ$$\n",
    "+ $$x_{LA} : Num. de Libreros, APRENDIZ$$\n",
    "+ $$x_{BA} : Num. de Bases de cama, APRENDIZ$$\n",
    "\n",
    "\n",
    "**3.-f(xME,xSE,xLE,xBE,xMA,xSA,xLA,xBA)** $$Maximizar =9000x_{ME} + 3000x_{SE} + 10000x_{LE} + 9000x_{BE} + 9000x_{MA} + 3000x_{SA} + 10000x_{LA} + 9000x_{BA}$$\n",
    "\n",
    "\n",
    "**4.- Información adicional (restricciones)**\n",
    "\n",
    "**Trabajador experimentado**\n",
    "+ $$Mesas: 3x_{ME} hrs$$\n",
    "+ $$Sillas: x_{SE} hrs$$\n",
    "+ $$Libreros: 4x_{LE} hrs$$\n",
    "+ $$Bases de cama: 3x_{BE} hrs$$\n",
    "**Tiempo total $$\\leq 40$$**\n",
    "\n",
    "+ $$Mesas: 6x_{ME} unidades$$\n",
    "+ $$Sillas: 2x_{SE} unidades $$\n",
    "+ $$Libreros : 5x_{LE} unidades$$\n",
    "+ $$Bases de cama : 5x_{BE} unidades$$\n",
    "**Unidades totales $$\\leq 100$$**\n",
    "\n",
    "**Aprendiz (50% mas)**\n",
    "+ $$Mesas: 4.5x_{MA} hrs$$\n",
    "+ $$Sillas: 1.5x_{SA} hrs$$\n",
    "+ $$Libreros: 6x_{LA} hrs$$\n",
    "+ $$Bases de cama: 4.5x_{BA} hrs$$\n",
    "**Tiempo total $$\\leq 40$$**\n",
    "  \n",
    "**Aprendiz (20% mas)**\n",
    "+ $$Mesas: 7.2x_{MA} unidades$$\n",
    "+ $$Sillas: 2.4x_{SA} unidades $$\n",
    "+ $$Libreros : 6x_{LA} unidades$$\n",
    "+ $$Bases de cama : 6x_{BA} unidades$$\n",
    "**Unidades totales $$\\leq 100$$**\n",
    "  \n",
    "  "
   ]
  },
  {
   "cell_type": "markdown",
   "id": "b6f97734-7d54-4709-a94a-9034aebb9cec",
   "metadata": {},
   "source": [
    "$$ 3x_{ME} + x_{SE} + 4x_{LE} + 3x_{BE} \\leq 40$$\n",
    "$$ 4.5x_{MA} + 1.5x_{SA} + 6x_{LA} + 4x_{BA} \\leq 40$$\n",
    "$$ 6x_{ME} + 2x_{SE} + 5x_{LE} + 5x_{BE} + 7.2x_{MA} + 2.4x_{SA} + 6x_{LA} + 6x_{BA} \\leq 100$$\n"
   ]
  },
  {
   "cell_type": "code",
   "execution_count": 170,
   "id": "ae969e64-abb8-452c-8520-5372478bf3fa",
   "metadata": {},
   "outputs": [
    {
     "name": "stdout",
     "output_type": "stream",
     "text": [
      "Problema #1\n",
      "el ingreso total es: 176000.0\n",
      "las horas trabajadas por el experto son:  40.0\n",
      "las horas trabajadas por el aprendiz son:  39.0\n",
      "las unidades usadas son:  100.0\n"
     ]
    }
   ],
   "source": [
    "import numpy as np\n",
    "c = np.array([\n",
    "    -9000,\n",
    "    -3000,\n",
    "    -10000,\n",
    "    -9000,\n",
    "    -9000,\n",
    "    -3000,\n",
    "    -10000,\n",
    "    -9000,\n",
    "\n",
    "])\n",
    "\n",
    "aub = np.array([\n",
    "    [3,1,4,3,0,0,0,0],\n",
    "    [6,2,5,5,7.2,2.4,6,6],\n",
    "    [0,0,0,0,4.5,1.5,6,4.5],\n",
    "    \n",
    "])\n",
    "\n",
    "bub =np.array([\n",
    "    40, \n",
    "    100, \n",
    "    40, \n",
    "\n",
    "])\n",
    "\n",
    "import scipy.optimize as opt\n",
    "sol = opt.linprog(c, aub, bub,integrality=1)\n",
    "print(\"Problema #1\")\n",
    "print(\"el ingreso total es:\", sol.fun*-1)\n",
    "print(\"las horas trabajadas por el experto son: \", np.dot(sol.x,[3,1,4,3,0,0,0,0]))\n",
    "print(\"las horas trabajadas por el aprendiz son: \", np.dot(sol.x,[0,0,0,0,4.5,1.5,6,4.5]))\n",
    "print(\"las unidades usadas son: \", np.dot(sol.x,[6,2,5,5,7.2,2.4,6,6]))"
   ]
  },
  {
   "cell_type": "code",
   "execution_count": 172,
   "id": "81ed83fa-29ff-4eea-bb78-fe1bd09e7b26",
   "metadata": {},
   "outputs": [
    {
     "name": "stdout",
     "output_type": "stream",
     "text": [
      "Problema #2\n",
      "el ingreso total es: 161000.0\n",
      "las horas trabajadas por el experto son:  39.0\n",
      "las horas trabajadas por el aprendiz son:  30.0\n",
      "las unidades usadas son:  99.0\n"
     ]
    }
   ],
   "source": [
    "import numpy as np\n",
    "c = np.array([\n",
    "    -9000,\n",
    "    -3000,\n",
    "    -10000,\n",
    "    -9000,\n",
    "    -9000,\n",
    "    -3000,\n",
    "    -10000,\n",
    "    -9000,\n",
    "])\n",
    "\n",
    "aub = np.array([\n",
    "    [3,1,4,3,0,0,0,0],\n",
    "    [6,2,5,5,7.2,2.4,6,6],\n",
    "    [0,0,0,0,4.5,1.5,6,4.5],\n",
    "    [-1,0,0,0,-1,0,0,0],\n",
    "    [0,-1,0,0,0,-1,0,0],\n",
    "    \n",
    "])\n",
    "\n",
    "bub =np.array([\n",
    "    40, \n",
    "    100, \n",
    "    40,\n",
    "    -3,\n",
    "    -18,\n",
    "\n",
    "])\n",
    "\n",
    "import scipy.optimize as opt\n",
    "sol = opt.linprog(c, aub, bub,integrality=1)\n",
    "sol\n",
    "print(\"Problema #2\")\n",
    "print(\"el ingreso total es:\", sol.fun*-1)\n",
    "print(\"las horas trabajadas por el experto son: \", np.dot(sol.x,[3,1,4,3,0,0,0,0]))\n",
    "print(\"las horas trabajadas por el aprendiz son: \", np.dot(sol.x,[0,0,0,0,4.5,1.5,6,4.5]))\n",
    "print(\"las unidades usadas son: \", np.dot(sol.x,[6,2,5,5,7.2,2.4,6,6]))"
   ]
  }
 ],
 "metadata": {
  "kernelspec": {
   "display_name": "Python 3 (ipykernel)",
   "language": "python",
   "name": "python3"
  },
  "language_info": {
   "codemirror_mode": {
    "name": "ipython",
    "version": 3
   },
   "file_extension": ".py",
   "mimetype": "text/x-python",
   "name": "python",
   "nbconvert_exporter": "python",
   "pygments_lexer": "ipython3",
   "version": "3.12.4"
  }
 },
 "nbformat": 4,
 "nbformat_minor": 5
}
