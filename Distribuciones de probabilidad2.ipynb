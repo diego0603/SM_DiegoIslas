{
 "cells": [
  {
   "cell_type": "markdown",
   "id": "7aa4a7e0-9230-4472-919d-165c9f01916f",
   "metadata": {},
   "source": [
    "# Distribuciones de probabiliad\n"
   ]
  },
  {
   "cell_type": "markdown",
   "id": "e8c0c403-72a6-405e-9130-d2f7f9d6fb6d",
   "metadata": {},
   "source": [
    "#### 1.- Menciona tres ejemplos de variables aleatorias discretas:"
   ]
  },
  {
   "cell_type": "markdown",
   "id": "b2069777-d03d-4915-8546-17d7a205152c",
   "metadata": {},
   "source": [
    "**Número de caras al lanzar un dado:** Los posibles resultados son 1, 2, 3, 4, 5 y 6. Cada uno es un valor entero y la variable solo puede tomar esos valores específicos.\n",
    "\n",
    "**Número de clientes que llegan a una tienda en una hora:** Esta variable solo puede tomar valores enteros como 0, 1, 2, etc., ya que no se pueden tener fracciones de clientes.\n",
    "\n",
    "**Número de éxitos en una serie de lanzamientos de una moneda**: Al lanzar una moneda varias veces y contar cuántas veces sale \"cara\", el resultado puede ser 0, 1, 2, etc., dependiendo del número de lanzamientos."
   ]
  },
  {
   "cell_type": "markdown",
   "id": "d2079c91-395c-46ad-8868-1b41cb852958",
   "metadata": {},
   "source": [
    "#### 2.- Menciona tres ejemplos de variables aleatorias continuas:"
   ]
  },
  {
   "cell_type": "markdown",
   "id": "5df01ee6-f19f-4a5a-85f2-8e613f8658dd",
   "metadata": {},
   "source": [
    "**Temperatura de una ciudad durante el día:** Puede tomar cualquier valor real dentro de un rango (por ejemplo, 23.4°C, 23.45°C, etc.), lo que significa que tiene un número infinito de posibles resultados.\n",
    "\n",
    "**Tiempo que tarda un vehículo en recorrer una distancia:** El tiempo puede medirse con mucha precisión (segundos, milisegundos, etc.), lo cual implica que puede tomar cualquier valor dentro de un intervalo continuo.\n",
    "\n",
    "**Altura de las personas:** Puede tomar cualquier valor dentro de un rango, como 1.75 m, 1.751 m, etc., ya que se puede medir con diferentes grados de precisión."
   ]
  },
  {
   "cell_type": "markdown",
   "id": "ac178c5a-0179-44e1-82cd-2b376ca2b2c9",
   "metadata": {},
   "source": [
    "#### 3.- Dos equipos juegan una serie de juegos (4 de 7, el que gane 4 juegos gana). Cada equipo tiene un 50% de probabilidad de ganar cada juego (no empates). ¿Cuál es la probabilidad de que la serie se vaya a 7 juegos? (5/16)"
   ]
  },
  {
   "cell_type": "markdown",
   "id": "bdaa279f-ce2a-417e-a92e-7d1685205942",
   "metadata": {},
   "source": [
    "**1.- Identiificar los casos posibles**\n",
    "\n",
    "+ La serie debe estar empatada 3-3 después de 6 juegos para que se juegue un séptimo partido.\n",
    "  \n",
    "+ Cada combinación de 6 juegos puede ocurrir de diferentes formas, dependiendo de cuántas veces gane cada equipo.\n",
    "\n",
    "**Usar la fórmula de combinaciones**\n",
    "\n",
    "$ C_k = \\frac{n!}{k!(n-k)!}$\n",
    "\n",
    "donde n = 6\n",
    "\n",
    "donde k = 3\n",
    "\n",
    "**Usar la formula binomial**\n",
    "\n",
    "$ P(X=k) = {n\\choose k}p^k(1-p)^{n-k} $\n",
    "donde ${n\\choose k} = C_k$\n",
    "\n",
    "donde p = 0.5\n",
    "\n",
    "donde n = 6\n",
    "\n",
    "donde k = 3"
   ]
  },
  {
   "cell_type": "code",
   "execution_count": 4,
   "id": "46367116-d8fa-47fc-a406-26f5b984af72",
   "metadata": {},
   "outputs": [
    {
     "data": {
      "text/plain": [
       "Fraction(5, 16)"
      ]
     },
     "execution_count": 4,
     "metadata": {},
     "output_type": "execute_result"
    }
   ],
   "source": [
    "import math\n",
    "from fractions import Fraction\n",
    "\n",
    "# Número de juegos posibles (n - 1)\n",
    "n = 6\n",
    "# Número de victorias necesarias para ir al séptimo juego\n",
    "k = 3\n",
    "p = 0.5\n",
    "\n",
    "# Fórmula de combinaciones\n",
    "C = math.factorial(n) // (math.factorial(k) * math.factorial(n - k))\n",
    "\n",
    "# Fórmula binomial\n",
    "P = C * (p**k) * (p**(n - k))\n",
    "\n",
    "# Convertir a fracción\n",
    "f = Fraction(P).limit_denominator()\n",
    "f\n"
   ]
  },
  {
   "cell_type": "markdown",
   "id": "b2e92d35-e8c8-456d-8dbb-3257dce0a0b2",
   "metadata": {},
   "source": [
    "#### 4.- Una en mil personas tienen una enfermedad H, y la prueba de la enfermedad sale correcta 98% de las veces cuando la persona está enferma. Por otro lado, si la persona está enferma la prueba tiene un error del 1%. Si alguien se hace una prueba y sale positiva, ¿cuál es la probabilidad de que tengan la enfermedad? (98/1097)"
   ]
  },
  {
   "cell_type": "markdown",
   "id": "4cc2834b-f06b-4678-9037-fe3bfb474e1a",
   "metadata": {},
   "source": [
    "**1.- Teorema de Bayes**\n",
    "\n",
    "$P(H|+)= \\frac{P(+|H)P(H)}{P(+|H)P(H)+P(+|¬H)P(¬H)}$\n",
    "\n",
    "**Donde**\n",
    "\n",
    "+ 𝑃(𝐻) es la probabilidad de que una persona tenga la enfermedad (1 en 1000 = 0.001).\n",
    "  \n",
    "+ 𝑃(¬𝐻)es la probabilidad de que una persona no tenga la enfermedad (1 - 0.001 = 0.999).\n",
    "  \n",
    "+ 𝑃(+∣𝐻)es la probabilidad de que la prueba sea positiva dado que la persona tiene la enfermedad (98% = 0.98).\n",
    "  \n",
    "+ 𝑃(+∣¬𝐻) es la probabilidad de que la prueba sea positiva dado que la persona no tiene la enfermedad (1% = 0.01)."
   ]
  },
  {
   "cell_type": "code",
   "execution_count": 25,
   "id": "d0308b47-c23f-447d-8674-2877bd0df8be",
   "metadata": {},
   "outputs": [
    {
     "data": {
      "text/plain": [
       "Fraction(98, 1097)"
      ]
     },
     "execution_count": 25,
     "metadata": {},
     "output_type": "execute_result"
    }
   ],
   "source": [
    "from fractions import Fraction\n",
    "\n",
    "# Probabilidades dadas\n",
    "P_H = 0.001  # Probabilidad de que alguien tenga la enfermedad\n",
    "P_H2 = 1 - P_H  # Probabilidad de que alguien no tenga la enfermedad\n",
    "P_H3 = 0.98  # Probabilidad de que la prueba sea positiva dado que tiene la enfermedad\n",
    "P_H4 = 0.01  # Probabilidad de que la prueba sea positiva dado que no tiene la enfermedad\n",
    "\n",
    "# Aplicamos el teorema de Bayes\n",
    "P_H5 = (P_H3 * P_H) / ((P_H3 * P_H) + (P_H4 * P_H2))\n",
    "\n",
    "# Convertir el resultado a fracción\n",
    "resultado = Fraction(P_H5).limit_denominator()\n",
    "resultado\n"
   ]
  },
  {
   "cell_type": "markdown",
   "id": "ca59ede5-2700-40e2-b145-46f8fa6e6354",
   "metadata": {},
   "source": [
    "#### 5.- Tres amigos diferentes te dijeron que está lloviendo, y cada persona tiene 1/3 de probabilidad de mentir. Si el pronóstico del clima dijo que la probabilidad de lluvia era 25%, ¿cuál es la probabilidad de que sí esté lloviendo? (8/11)"
   ]
  },
  {
   "cell_type": "markdown",
   "id": "b141f437-5d42-4229-9239-1fe5f85a4266",
   "metadata": {},
   "source": [
    "**1.- Teorema de Bayes**\n",
    "\n",
    "$P(R|L)= \\frac{P(DL|R)P(R)}{P(DL|R)P(R)+P(DL|-R)P(-R)}$\n",
    "\n",
    "**Donde**\n",
    "\n",
    "+ 𝑃(R)como la probabilidad de que esté lloviendo (25% = 0.25).\n",
    "  \n",
    "+ 𝑃(-R)como la probabilidad de que no esté lloviendo (1 - 0.25 = 0.75).\n",
    "  \n",
    "+ 𝑃(DL∣R)es la probabilidad de que los amigos digan que llueve dado que está lloviendo. Dado que solo tienen 1/3 de probabilidad de mentir, esto es $(\\frac{2}{3})^3 = \\frac{8}{27}$\n",
    "\n",
    "+ 𝑃(DL∣-R)es la probabilidad de que los amigos digan que llueve dado que no está lloviendo, lo cual será $(\\frac{1}{3})^3 =  \\frac{1}{27}$"
   ]
  },
  {
   "cell_type": "code",
   "execution_count": 30,
   "id": "3a072580-8d3d-4d23-9038-804992a8e159",
   "metadata": {},
   "outputs": [
    {
     "data": {
      "text/plain": [
       "Fraction(8, 11)"
      ]
     },
     "execution_count": 30,
     "metadata": {},
     "output_type": "execute_result"
    }
   ],
   "source": [
    "from fractions import Fraction\n",
    "\n",
    "# Probabilidades\n",
    "P_R = 0.25  # Probabilidad de que esté lloviendo\n",
    "P_not_R = 1 - P_R  # Probabilidad de que no esté lloviendo\n",
    "P_DL_R = (2/3)**3  # Probabilidad de que digan que llueve dado que llueve\n",
    "P_DL_not_R = (1/3)**3  # Probabilidad de que digan que llueve dado que no llueve\n",
    "\n",
    "# Aplicamos el teorema de Bayes\n",
    "P_R_A = (P_DL_R * P_R) / ((P_DL_R * P_R) + (P_DL_not_R * P_not_R))\n",
    "\n",
    "# Convertir a fracción\n",
    "resultado = Fraction(P_R_A).limit_denominator()\n",
    "resultado\n"
   ]
  },
  {
   "cell_type": "markdown",
   "id": "61cfe36a-64b2-44c7-9c88-fcd5dc06d177",
   "metadata": {},
   "source": [
    "#### 6.- Resuelve y añade a esta actividad los ejercicios que están en el notebook \"Distribuciones de probabilidad.ipynb\""
   ]
  },
  {
   "cell_type": "markdown",
   "id": "0048bf4a-46c4-4010-906d-d92ee2b684dd",
   "metadata": {},
   "source": [
    "1.- Avientas un dado tres veces. ¿Cuál es la probabilidad de tirar dos 6 seguidos?"
   ]
  },
  {
   "cell_type": "code",
   "execution_count": 33,
   "id": "530fe860-f973-488c-9670-2b7f9906f59c",
   "metadata": {},
   "outputs": [
    {
     "data": {
      "text/plain": [
       "0.0510668"
      ]
     },
     "execution_count": 33,
     "metadata": {},
     "output_type": "execute_result"
    }
   ],
   "source": [
    "import numpy as np\n",
    "n = 10000000\n",
    "np.random.seed(10)\n",
    "d1 = np.random.randint(1,7,n)\n",
    "d2 = np.random.randint(1,7,n)\n",
    "d3 = np.random.randint(1,7,n)\n",
    "\n",
    "caso1 = ((d1 == 6) & (d2 == 6) & (d3 != 6))\n",
    "caso2 = ((d2 == 6) & (d3 == 6) & (d1 != 6))\n",
    "caso3 = ((d1 == 6) & (d2 == 6) & (d3 == 6))\n",
    "\n",
    "(caso1.sum() + caso2.sum() + caso3.sum())/n"
   ]
  },
  {
   "cell_type": "markdown",
   "id": "cde48f10-eb98-4d82-81aa-2b002cf38c45",
   "metadata": {},
   "source": [
    "2.- Avientas tres dados, uno tras otro. ¿Cuál es la probabilidad de obtener número sólo en orden ascendente?"
   ]
  },
  {
   "cell_type": "code",
   "execution_count": 37,
   "id": "597a32ec-5634-4a76-927d-0f2d54626012",
   "metadata": {},
   "outputs": [
    {
     "data": {
      "text/plain": [
       "0.0924843"
      ]
     },
     "execution_count": 37,
     "metadata": {},
     "output_type": "execute_result"
    }
   ],
   "source": [
    "n = 10000000\n",
    "np.random.seed(10)\n",
    "d1 = np.random.randint(1,7,n)\n",
    "d2 = np.random.randint(1,7,n)\n",
    "d3 = np.random.randint(1,7,n)\n",
    "\n",
    "exito = (d3 > d2) & (d2 > d1 ) \n",
    "exito.sum()/n"
   ]
  },
  {
   "cell_type": "markdown",
   "id": "5f7cc3b0-0f50-4e8e-994b-f597e111fd15",
   "metadata": {},
   "source": [
    "3.- Tienes una baraja con 100 cartas, con valores del 1 al 100. Tomas dos cartas aleatoriamente sin reemplazo. ¿Cuál es la probabilidad de que una carta valga el doble que la otra?"
   ]
  },
  {
   "cell_type": "markdown",
   "id": "aa33d77d-97a1-4ada-a79b-b8c4a6e34b8a",
   "metadata": {},
   "source": [
    "**Total de pares posibles:** Si tienes 100 cartas y seleccionas 2 sin reemplazo, el número total de pares posibles es ${100\\choose2}$\n",
    "$\\frac{100x99}{2} = 4950$\n",
    "\n",
    "**Pares que cumplen la condición:** Debemos encontrar cuántos pares (𝑎,𝑏) cumplen que 𝑏 = 2𝑎\n",
    "b=2a, donde ambos 𝑎 y 𝑏 están entre 1 y 100.\n",
    "\n",
    "Para cada 𝑎 entre 1 y 50, hay exactamente un 𝑏 = 2𝑎 que también está en el rango (entre 2 y 100). Esto se debe a que si 𝑎 es mayor a 50, 2𝑎 será mayor a 100, lo cual no es válido. Así que los valores de 𝑎 van desde 1 hasta 50.\n",
    "\n",
    "Por lo tanto, hay 50 pares que cumplen la condición (𝑎,2𝑎)\n",
    "\n",
    "**Cálculo de la probabilidad:** La probabilidad es el número de pares que cumplen la condición dividido por el número total de pares posibles:\n",
    "$ P = \\frac{50}{4950} $\n",
    "\n",
    "​\n"
   ]
  },
  {
   "cell_type": "code",
   "execution_count": 53,
   "id": "f191b3cb-aaaa-41d8-abe1-98e0888847dd",
   "metadata": {},
   "outputs": [
    {
     "data": {
      "text/plain": [
       "Fraction(1, 99)"
      ]
     },
     "execution_count": 53,
     "metadata": {},
     "output_type": "execute_result"
    }
   ],
   "source": [
    "from fractions import Fraction\n",
    "\n",
    "# Número de pares que cumplen la condición\n",
    "pares_validos = 50\n",
    "\n",
    "# Número total de pares posibles\n",
    "total_pares = 4950\n",
    "\n",
    "# Probabilidad\n",
    "probabilidad = Fraction(pares_validos, total_pares)\n",
    "probabilidad\n"
   ]
  },
  {
   "cell_type": "markdown",
   "id": "f550d6ee-375b-471a-a509-27dd836465a4",
   "metadata": {},
   "source": [
    "4.- Tienes dos monedas: una con águila y sello, y la otra con doble sello. Escoges una al azar y la tiras 5 veces; cae sello 5 veces. ¿Cuál es la probabilidad de que tomaste la moneda con doble sello?"
   ]
  },
  {
   "cell_type": "markdown",
   "id": "234a3f05-97bb-4179-b471-ee1078810baf",
   "metadata": {},
   "source": [
    "**1.- Teorema de Bayes**\n",
    "\n",
    "$P(D|S_5)= \\frac{P(S_5|D)P(D)}{P(S_5|D)P(D)+P(S_5|N)P(N)}$\n",
    "\n",
    "**Donde**\n",
    "\n",
    "+ 𝑃(D)Probabilidad de haber escogido la moneda con doble sello $= \\frac{1}{2}$\n",
    "  \n",
    "+ 𝑃(N)Probabilidad de haber escogido la moneda normal $= \\frac{1}{2}$\n",
    "  \n",
    "+ 𝑃(S_5∣D)Probabilidad de obtener sello 5 veces seguidas dado que escogiste la moneda con doble sello = 1 (porque siempre será sello con esa moneda).\n",
    "\n",
    "+ 𝑃(S_5∣N)Probabilidad de obtener sello 5 veces seguidas con la moneda normal $ = (\\frac{1}{2})^5 = \\frac{1}{32}$"
   ]
  },
  {
   "cell_type": "code",
   "execution_count": 59,
   "id": "1c471fed-3304-4cd0-9f41-a6daada82316",
   "metadata": {},
   "outputs": [
    {
     "data": {
      "text/plain": [
       "Fraction(32, 33)"
      ]
     },
     "execution_count": 59,
     "metadata": {},
     "output_type": "execute_result"
    }
   ],
   "source": [
    "from fractions import Fraction\n",
    "\n",
    "# Probabilidades\n",
    "P_D = 1/2  # Probabilidad de escoger la moneda con doble sello\n",
    "P_N = 1/2  # Probabilidad de escoger la moneda normal\n",
    "P_S5_D = 1  # Probabilidad de obtener 5 sellos con la moneda de doble sello\n",
    "P_S5_N = (1/2)**5  # Probabilidad de obtener 5 sellos con la moneda normal\n",
    "\n",
    "# Aplicamos el teorema de Bayes\n",
    "P_D_S5 = (P_S5_D * P_D) / ((P_S5_D * P_D) + (P_S5_N * P_N))\n",
    "\n",
    "# Convertimos el resultado a fracción\n",
    "resultado = Fraction(P_D_S5).limit_denominator()\n",
    "resultado\n"
   ]
  },
  {
   "cell_type": "markdown",
   "id": "54defa47-ca43-48d8-bcf1-fc4032e6d09b",
   "metadata": {},
   "source": [
    "5.- Dos personas juegan tenis y están empatadas en 40-40. Esto significa que el set continúa hasta que alguien haya anotado 2 puntos sobre el otro:\n",
    "- Si un jugador anota la puntuación es A-40\n",
    "- Si el segundo jugador anota la puntuación regresa a 40-40\n",
    "\n",
    "El jugador 1 tiene una probabilidad de 60\\% de ganar cada punto, mientras que la probabilidad del segundo jugador es de 40\\%. ¿Cuál es la probabilidad de que el primer jugador gane el set?"
   ]
  },
  {
   "cell_type": "code",
   "execution_count": 68,
   "id": "44a87662-2d2c-4159-803c-e9ddc35a828e",
   "metadata": {},
   "outputs": [
    {
     "data": {
      "text/plain": [
       "Fraction(9, 19)"
      ]
     },
     "execution_count": 68,
     "metadata": {},
     "output_type": "execute_result"
    }
   ],
   "source": [
    "from fractions import Fraction\n",
    "\n",
    "# Probabilidades\n",
    "P1_win = 0.6 * 0.6  # Probabilidad de que el jugador 1 gane directamente\n",
    "P1_lose = 0.6 * 0.4  # Probabilidad de que el jugador 1 gane un punto pero luego pierda\n",
    "\n",
    "# Resolviendo la ecuación para P1\n",
    "P1 = P1_win / (1 - P1_lose)\n",
    "\n",
    "# Convertimos el resultado a fracción\n",
    "resultado = Fraction(P1).limit_denominator()\n",
    "resultado\n"
   ]
  }
 ],
 "metadata": {
  "kernelspec": {
   "display_name": "Python 3 (ipykernel)",
   "language": "python",
   "name": "python3"
  },
  "language_info": {
   "codemirror_mode": {
    "name": "ipython",
    "version": 3
   },
   "file_extension": ".py",
   "mimetype": "text/x-python",
   "name": "python",
   "nbconvert_exporter": "python",
   "pygments_lexer": "ipython3",
   "version": "3.12.4"
  }
 },
 "nbformat": 4,
 "nbformat_minor": 5
}
