{
 "cells": [
  {
   "cell_type": "markdown",
   "id": "7aa4a7e0-9230-4472-919d-165c9f01916f",
   "metadata": {},
   "source": [
    "# Distribuciones de probabiliad\n"
   ]
  },
  {
   "cell_type": "markdown",
   "id": "e8c0c403-72a6-405e-9130-d2f7f9d6fb6d",
   "metadata": {},
   "source": [
    "#### 1.- Menciona tres ejemplos de variables aleatorias discretas:"
   ]
  },
  {
   "cell_type": "markdown",
   "id": "b2069777-d03d-4915-8546-17d7a205152c",
   "metadata": {},
   "source": [
    "**Número de caras al lanzar un dado:** Los posibles resultados son 1, 2, 3, 4, 5 y 6. Cada uno es un valor entero y la variable solo puede tomar esos valores específicos.\n",
    "\n",
    "**Número de clientes que llegan a una tienda en una hora:** Esta variable solo puede tomar valores enteros como 0, 1, 2, etc., ya que no se pueden tener fracciones de clientes.\n",
    "\n",
    "**Número de éxitos en una serie de lanzamientos de una moneda**: Al lanzar una moneda varias veces y contar cuántas veces sale \"cara\", el resultado puede ser 0, 1, 2, etc., dependiendo del número de lanzamientos."
   ]
  },
  {
   "cell_type": "markdown",
   "id": "d2079c91-395c-46ad-8868-1b41cb852958",
   "metadata": {},
   "source": [
    "#### 2.- Menciona tres ejemplos de variables aleatorias continuas:"
   ]
  },
  {
   "cell_type": "markdown",
   "id": "5df01ee6-f19f-4a5a-85f2-8e613f8658dd",
   "metadata": {},
   "source": [
    "**Temperatura de una ciudad durante el día:** Puede tomar cualquier valor real dentro de un rango (por ejemplo, 23.4°C, 23.45°C, etc.), lo que significa que tiene un número infinito de posibles resultados.\n",
    "\n",
    "**Tiempo que tarda un vehículo en recorrer una distancia:** El tiempo puede medirse con mucha precisión (segundos, milisegundos, etc.), lo cual implica que puede tomar cualquier valor dentro de un intervalo continuo.\n",
    "\n",
    "**Altura de las personas:** Puede tomar cualquier valor dentro de un rango, como 1.75 m, 1.751 m, etc., ya que se puede medir con diferentes grados de precisión."
   ]
  },
  {
   "cell_type": "markdown",
   "id": "ac178c5a-0179-44e1-82cd-2b376ca2b2c9",
   "metadata": {},
   "source": [
    "#### 3.- Dos equipos juegan una serie de juegos (4 de 7, el que gane 4 juegos gana). Cada equipo tiene un 50% de probabilidad de ganar cada juego (no empates). ¿Cuál es la probabilidad de que la serie se vaya a 7 juegos? (5/16)"
   ]
  },
  {
   "cell_type": "markdown",
   "id": "bdaa279f-ce2a-417e-a92e-7d1685205942",
   "metadata": {},
   "source": [
    "**1.- Identiificar los casos posibles**\n",
    "\n",
    "+ La serie debe estar empatada 3-3 después de 6 juegos para que se juegue un séptimo partido.\n",
    "  \n",
    "+ Cada combinación de 6 juegos puede ocurrir de diferentes formas, dependiendo de cuántas veces gane cada equipo.\n",
    "\n",
    "**Usar la fórmula de combinaciones**\n",
    "\n",
    "$ C_k = \\frac{n!}{k!(n-k)!}$\n",
    "\n",
    "donde n = 6\n",
    "\n",
    "donde k = 3\n",
    "\n",
    "**Usar la formula binomial**\n",
    "\n",
    "$ P(X=k) = {n\\choose k}p^k(1-p)^{n-k} $\n",
    "donde ${n\\choose k} = C_k$\n",
    "\n",
    "donde p = 0.5\n",
    "\n",
    "donde n = 7\n",
    "\n",
    "donde k = 6"
   ]
  },
  {
   "cell_type": "code",
   "execution_count": 37,
   "id": "a75a17a9-a3f4-4abf-b41c-8adf9ce91064",
   "metadata": {},
   "outputs": [],
   "source": [
    "import math\n",
    "n = 6\n",
    "k = 3\n",
    "p = 0.5\n",
    "#Formula de combinaciones\n",
    "C = math.factorial(n)/(math.factorial(k)*math.factorial(n-k))\n"
   ]
  },
  {
   "cell_type": "code",
   "execution_count": 52,
   "id": "8a848653-23af-4b7b-afe3-edfb55fdaa10",
   "metadata": {},
   "outputs": [
    {
     "data": {
      "text/plain": [
       "Fraction(5, 32)"
      ]
     },
     "execution_count": 52,
     "metadata": {},
     "output_type": "execute_result"
    }
   ],
   "source": [
    "import math\n",
    "from fractions import Fraction\n",
    "\n",
    "n = 7\n",
    "k = 6\n",
    "p = 0.5\n",
    "\n",
    "#Formula binomial\n",
    "P = C * ((0.5)**k) * ((1-p)**(n-k))\n",
    "f = Fraction(P).limit_denominator()\n",
    "f"
   ]
  },
  {
   "cell_type": "markdown",
   "id": "b2e92d35-e8c8-456d-8dbb-3257dce0a0b2",
   "metadata": {},
   "source": [
    "#### 4.- Una en mil personas tienen una enfermedad H, y la prueba de la enfermedad sale correcta 98% de las veces cuando la persona está enferma. Por otro lado, si la persona está enferma la prueba tiene un error del 1%. Si alguien se hace una prueba y sale positiva, ¿cuál es la probabilidad de que tengan la enfermedad? (98/1097)"
   ]
  },
  {
   "cell_type": "markdown",
   "id": "ca59ede5-2700-40e2-b145-46f8fa6e6354",
   "metadata": {},
   "source": [
    "#### 5.- Tres amigos diferentes te dijeron que está lloviendo, y cada persona tiene 1/3 de probabilidad de mentir. Si el pronóstico del clima dijo que la probabilidad de lluvia era 25%, ¿cuál es la probabilidad de que sí esté lloviendo? (8/11)"
   ]
  },
  {
   "cell_type": "markdown",
   "id": "61cfe36a-64b2-44c7-9c88-fcd5dc06d177",
   "metadata": {},
   "source": [
    "#### 6.- Resuelve y añade a esta actividad los ejercicios que están en el notebook \"Distribuciones de probabilidad.ipynb\""
   ]
  }
 ],
 "metadata": {
  "kernelspec": {
   "display_name": "Python 3 (ipykernel)",
   "language": "python",
   "name": "python3"
  },
  "language_info": {
   "codemirror_mode": {
    "name": "ipython",
    "version": 3
   },
   "file_extension": ".py",
   "mimetype": "text/x-python",
   "name": "python",
   "nbconvert_exporter": "python",
   "pygments_lexer": "ipython3",
   "version": "3.12.4"
  }
 },
 "nbformat": 4,
 "nbformat_minor": 5
}
