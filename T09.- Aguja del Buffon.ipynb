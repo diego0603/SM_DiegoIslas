{
 "cells": [
  {
   "cell_type": "markdown",
   "id": "1c2a8150-5d76-4698-912b-5b1f1fc4310c",
   "metadata": {},
   "source": [
    "Diego Yael Islas Santoyo\n",
    "\n",
    "03/11/2024"
   ]
  },
  {
   "cell_type": "markdown",
   "id": "105dad42-dac1-4d4e-bcca-207a5a302570",
   "metadata": {},
   "source": [
    "# Aguja del Buffon"
   ]
  },
  {
   "cell_type": "markdown",
   "id": "185de5b2-e3ce-4b62-bcbb-6c9cd9cb281f",
   "metadata": {},
   "source": [
    "#### ¿De qué trata?"
   ]
  },
  {
   "cell_type": "markdown",
   "id": "36651605-5471-4975-ae42-42507a56d928",
   "metadata": {},
   "source": [
    "La Aguja de Buffon es un famoso experimento de probabilidad geométrica propuesto por el naturalista francés Georges-Louis Leclerc, conde de Buffon, en 1733 (colaboradores de Wikipedia, 2024). El experimento consiste en lanzar una aguja sobre un papel con líneas paralelas trazadas a una distancia igual a la longitud de la aguja y calcular la probabilidad de que la aguja cruce alguna de las líneas1. (colaboradores de Wikipedia, 2024)\n",
    "\n",
    "El método de Monte Carlo es una técnica de simulación que utiliza números aleatorios para resolver problemas que podrían ser deterministas en principio (Illanas, 2013). Para la Aguja de Buffon, se puede usar el método de Monte Carlo para aproximar el valor de π lanzando virtualmente la aguja muchas veces y calculando la proporción de veces que cruza una línea1. (colaboradores de Wikipedia, 2024)"
   ]
  },
  {
   "cell_type": "markdown",
   "id": "011f63bd-ee2d-49c0-adb0-6e4de1e339c9",
   "metadata": {},
   "source": [
    "#### Solución con cálculo integral usando tus palabras.\n",
    "\n",
    "Para resolver el problema de la aguja de Buffon usando cálculo integral, primero definimos que la aguja tiene longitud L y la distancia entre líneas paralelas es d. La probabilidad de que la aguja cruce una línea depende del ángulo en que cae la aguja y la distancia desde el centro de la aguja a la línea más cercana.\n",
    "\n",
    "$ P = \\frac{2}{\\pi} \\int_{0}^{\\frac{\\pi}{2}} (\\frac{L\\sin{\\theta}}{d})  {d\\theta} $\n",
    "\n",
    "Despues factoramos, calculamos y nos queda:\n",
    "\n",
    "$ P = \\frac{2L}{\\pi d} \\int_{0}^{\\frac{\\pi}{2}} \\sin\\theta {d\\theta}$\n",
    "\n",
    "Hacemo la integral y la evaluamos:\n",
    "\n",
    "$ P = \\frac{2L}{\\pi d} (-\\cos(\\frac{\\pi}{2}) + \\cos(0)) $\n",
    "\n",
    "Dando:\n",
    "\n",
    "$ P = \\frac{2L}{\\pi d} $"
   ]
  },
  {
   "cell_type": "markdown",
   "id": "70a8dbe2-036c-4e1f-bc51-ff1f88c80d87",
   "metadata": {},
   "source": [
    "#### Solución sin cálculo integral usando tus palabras\n",
    "\n",
    "Para calcular la probabilidad sin usar calculo integral de que una aguja lanzada aleatoriamente cruce una de las líneas en un papel con líneas paralelas, primero lanzamos la aguja muchas veces y anotamos cuántas veces cruza una línea.\n",
    "\n",
    "La idea es que, si sabemos la longitud de la aguja y la distancia entre las líneas, podemos usar la fórmula simple para calcular esta probabilidad.\n",
    "\n",
    "$ P = \\frac{2L}{\\pi d} $"
   ]
  },
  {
   "cell_type": "markdown",
   "id": "7d272bdd-fab4-4eb1-8bf0-12603ea5db0d",
   "metadata": {},
   "source": [
    "#### Crea una simulación con numpy donde se arrojen n agujas de longitud l dado que se tiene una distancia d entre cada línea paralela."
   ]
  },
  {
   "cell_type": "code",
   "execution_count": 43,
   "id": "4cafca87-093d-4812-b222-ff90ecb52fe8",
   "metadata": {},
   "outputs": [
    {
     "data": {
      "text/plain": [
       "3.1640563202024996"
      ]
     },
     "execution_count": 43,
     "metadata": {},
     "output_type": "execute_result"
    }
   ],
   "source": [
    "import numpy as np\n",
    "\n",
    "def simular_buffon(num_agujas, longitud_agujas, distancia_lineas):\n",
    "    cruces = 0\n",
    "    for i in range(num_agujas):\n",
    "        x_centro = np.random.uniform(0, distancia_lineas / 2)\n",
    "        angulo = np.random.uniform(0, np.pi / 2)\n",
    "        \n",
    "        if x_centro <= (longitud_agujas / 2) * np.sin(angulo):\n",
    "            cruces += 1\n",
    "    \n",
    "    probabilidad_cruce = cruces / num_agujas\n",
    "    pi_estimado = (2 * longitud_agujas) / (probabilidad_cruce * distancia_lineas)\n",
    "    \n",
    "    return pi_estimado\n",
    "\n",
    "n = 10000  \n",
    "l = 1    \n",
    "d = 1.5    \n",
    "\n",
    "\n",
    "pi_estimado = simular_buffon(n, l, d)\n",
    "pi_estimado\n"
   ]
  },
  {
   "cell_type": "markdown",
   "id": "ffc8a958-c99e-44b9-8227-2fb57a22884d",
   "metadata": {},
   "source": [
    "**¿Qué variables aleatorias hay en este caso?**"
   ]
  },
  {
   "cell_type": "markdown",
   "id": "090f2055-eda3-4179-8730-117bbe5002db",
   "metadata": {},
   "source": [
    "La posición del centro de la aguja respecto a las líneas paralelas y el ángulo de inclinación de la aguja al caer."
   ]
  },
  {
   "cell_type": "markdown",
   "id": "0eab476b-6d46-48c5-8ffd-d8058d020cbf",
   "metadata": {},
   "source": [
    "**¿Qué distribución siguen?**"
   ]
  },
  {
   "cell_type": "markdown",
   "id": "cd357eec-516c-405e-be04-343d9d23a245",
   "metadata": {},
   "source": [
    "Ambas una distribución uniforme"
   ]
  },
  {
   "cell_type": "markdown",
   "id": "6597db84-a662-42aa-a647-710f723fcaf8",
   "metadata": {},
   "source": [
    "**¿Cómo evoluciona el resultado contra la cantidad de agujas que se usa?**"
   ]
  },
  {
   "cell_type": "code",
   "execution_count": null,
   "id": "4592e48c-8376-4515-a9dc-79a8b35b4406",
   "metadata": {},
   "outputs": [],
   "source": []
  },
  {
   "cell_type": "markdown",
   "id": "be1d69bb-acde-421f-aee8-a1fd84f1ba31",
   "metadata": {},
   "source": [
    "#### Referencias\n",
    "+ colaboradores de Wikipedia. (2024, 27 julio). Aguja de Buffon. Wikipedia, la Enciclopedia Libre. https://es.wikipedia.org/wiki/Aguja_de_Buffon\n",
    "+ Illanas, J. S. I. (2013). Métodos de Montecarlo. Recuperado 3 de noviembre de 2024, de https://ugr.es/~jillana/Docencia/FM/mc.pdf\r\n",
    "\r\n"
   ]
  }
 ],
 "metadata": {
  "kernelspec": {
   "display_name": "Python 3 (ipykernel)",
   "language": "python",
   "name": "python3"
  },
  "language_info": {
   "codemirror_mode": {
    "name": "ipython",
    "version": 3
   },
   "file_extension": ".py",
   "mimetype": "text/x-python",
   "name": "python",
   "nbconvert_exporter": "python",
   "pygments_lexer": "ipython3",
   "version": "3.12.4"
  }
 },
 "nbformat": 4,
 "nbformat_minor": 5
}
