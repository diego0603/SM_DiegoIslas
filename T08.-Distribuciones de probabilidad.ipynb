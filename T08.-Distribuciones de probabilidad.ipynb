{
 "cells": [
  {
   "cell_type": "markdown",
   "id": "c1f9facb-074d-4085-9492-14e206b08a74",
   "metadata": {},
   "source": [
    "Diego Yael Islas Santoyo"
   ]
  },
  {
   "cell_type": "markdown",
   "id": "418c3a05-baf1-4c0f-8be6-3f61a1a67c57",
   "metadata": {},
   "source": [
    "# Distribuciones de probabilidad\n"
   ]
  },
  {
   "cell_type": "markdown",
   "id": "7266a587-377b-4479-a812-c2606378d45f",
   "metadata": {},
   "source": [
    "1.- Un proyecto de construcción está por comenzar. Se hace la compra de los materiales y el proveedor dice que en promedio tardan una semana con una desviación de 3 días en llegar. Una vez llegados los materiales se tarda entre 3 y 5 semanas en construir (uniforme). Después de la construcción se deben esperar 3 días antes de empezar a pintar, y toma 6 días en promedio con 2 días de desviación estándar hacerlo."
   ]
  },
  {
   "cell_type": "markdown",
   "id": "fe32315e-d768-46e0-9df0-9c04af514005",
   "metadata": {},
   "source": [
    "a) Describe en una celda qué distribución usarías para cada paso del proceso"
   ]
  },
  {
   "cell_type": "code",
   "execution_count": 33,
   "id": "97dd199a-d52d-41a3-9312-60ab99bc75bd",
   "metadata": {},
   "outputs": [
    {
     "name": "stdout",
     "output_type": "stream",
     "text": [
      "Llegada de los materiales: 11.30 días\n",
      "Tiempo de construcción: 23.40 días\n",
      "Espera antes de pintar: 3 días\n",
      "Tiempo de pintura: 8.45 días\n"
     ]
    }
   ],
   "source": [
    "import numpy as np\n",
    "#Llegada de materiales\n",
    "llegada_de_materiales = np.random.normal(loc=7, scale=3)\n",
    "\n",
    "#Tiempo de construcción\n",
    "tiempo_de_construccion = np.random.uniform(low=21, high=35)\n",
    "\n",
    "#Espera antes de pintar\n",
    "P = 3\n",
    "\n",
    "#Tiempo de pintura\n",
    "tiempo_de_pintura = np.random.normal(loc = 6, scale = 2)\n",
    "\n",
    "\n",
    "print(f\"Llegada de los materiales: {llegada_de_materiales:.2f} días\")\n",
    "print(f\"Tiempo de construcción: {tiempo_de_construccion:.2f} días\")\n",
    "print(f\"Espera antes de pintar: {P} días\")\n",
    "print(f\"Tiempo de pintura: {tiempo_de_pintura:.2f} días\")\n"
   ]
  },
  {
   "cell_type": "markdown",
   "id": "b0ceb3ed-fc37-4619-9908-adbe8e3ce16c",
   "metadata": {},
   "source": [
    "b) Simula cada paso en el proceso un millón de veces"
   ]
  },
  {
   "cell_type": "code",
   "execution_count": 37,
   "id": "823724f5-e525-4bcd-b9d5-7f6b9695bab4",
   "metadata": {},
   "outputs": [
    {
     "name": "stdout",
     "output_type": "stream",
     "text": [
      "Llegada de los materiales: [ 5.80869081 12.10205885 10.88321298 ...  9.23234631  6.98820385\n",
      "  7.22768965] días\n",
      "Tiempo de construcción: [26.54650303 29.53799255 32.76623316 ... 31.87672259 22.30023386\n",
      " 29.62054728] días\n",
      "Espera antes de pintar: [3 3 3 ... 3 3 3] días\n",
      "Tiempo de pintura: [8.62371812 4.01561342 4.83168787 ... 4.33593643 8.25558731 5.94982568] días\n"
     ]
    }
   ],
   "source": [
    "import numpy as np\n",
    "N = 1000000\n",
    "\n",
    "#Llegada de materiales\n",
    "llegada_de_materiales = np.random.normal(loc=7, scale=3, size = N)\n",
    "\n",
    "#Tiempo de construcción\n",
    "tiempo_de_construccion = np.random.uniform(low=21, high=35, size = N)\n",
    "\n",
    "#Espera antes de pintar\n",
    "P = np.full(N,3)\n",
    "\n",
    "#Tiempo de pintura\n",
    "tiempo_de_pintura = np.random.normal(loc = 6, scale = 2, size = N)\n",
    "\n",
    "\n",
    "print(f\"Llegada de los materiales: {llegada_de_materiales} días\")\n",
    "print(f\"Tiempo de construcción: {tiempo_de_construccion} días\")\n",
    "print(f\"Espera antes de pintar: {P} días\")\n",
    "print(f\"Tiempo de pintura: {tiempo_de_pintura} días\")"
   ]
  },
  {
   "cell_type": "markdown",
   "id": "5572042b-a969-4701-803b-4358adb581a6",
   "metadata": {},
   "source": [
    "c) Agrupa las simulaciones de cada paso para tener la simulación del proceso completo"
   ]
  },
  {
   "cell_type": "code",
   "execution_count": 54,
   "id": "9d8c28a0-cc7b-42c3-a8bf-cce2992ba8ab",
   "metadata": {},
   "outputs": [
    {
     "name": "stdout",
     "output_type": "stream",
     "text": [
      "Las primeras 5 simulaciones del proceso completo son: [43.97891195 48.65566482 51.48113401 45.77499495 34.87888495] días\n"
     ]
    }
   ],
   "source": [
    "import numpy as np\n",
    "Proceso_completo = llegada_de_materiales + tiempo_de_construccion + P + tiempo_de_pintura\n",
    "print(f\"Las primeras 5 simulaciones del proceso completo son: {Proceso_completo[:5]} días\")"
   ]
  },
  {
   "cell_type": "markdown",
   "id": "7ff58165-4495-4234-bc0e-4cdb82e88408",
   "metadata": {},
   "source": [
    "d) ¿Cuál es el tiempo promedio para de inicio-fin del proyecto?"
   ]
  },
  {
   "cell_type": "code",
   "execution_count": 56,
   "id": "c0b33203-2e63-44d3-8dca-4cb53182e7d6",
   "metadata": {},
   "outputs": [
    {
     "name": "stdout",
     "output_type": "stream",
     "text": [
      "Tiempo promedio para el inicio-fin del proyecto: 44.00180657811407 días\n"
     ]
    }
   ],
   "source": [
    "tiempo_promedio = np.mean(Proceso_completo)\n",
    "print(f\"Tiempo promedio para el inicio-fin del proyecto: {tiempo_promedio} días\")"
   ]
  },
  {
   "cell_type": "markdown",
   "id": "1d25ef66-c187-4ba7-b393-8ed1d0fa2d8c",
   "metadata": {},
   "source": [
    "e) De acuerdo a tus simulaciones, ¿cuál es el peor caso? ¿cuál es el mejor caso?"
   ]
  },
  {
   "cell_type": "code",
   "execution_count": 62,
   "id": "5f241043-6303-48c1-80f2-9d731bb0a46f",
   "metadata": {},
   "outputs": [
    {
     "name": "stdout",
     "output_type": "stream",
     "text": [
      "Mi peor caso fue:  66.07días\n",
      "Mi mejor caso fue:  19.48días\n"
     ]
    }
   ],
   "source": [
    "peor_caso = np.max(Proceso_completo)\n",
    "mejor_caso = np.min(Proceso_completo)\n",
    "print(f\"Mi peor caso fue: {peor_caso: .2f}días\")\n",
    "print(f\"Mi mejor caso fue: {mejor_caso: .2f}días\")"
   ]
  },
  {
   "cell_type": "markdown",
   "id": "662c69f5-d8d3-41fe-b48e-5daa71e4f6ad",
   "metadata": {},
   "source": [
    "f) Si el proyecto se tiene que entregar a más tardar en 50 días o se tiene que pagar una compensación al cliente, ¿cuál es la probabilidad de que el proyecto se entregue a tiempo?"
   ]
  },
  {
   "cell_type": "code",
   "execution_count": 67,
   "id": "0d4f2d0f-dba3-4cac-8ec5-ba45e9f8bb10",
   "metadata": {},
   "outputs": [
    {
     "name": "stdout",
     "output_type": "stream",
     "text": [
      "La probabilidad de que el proyecto se entregue a tiempo es:  85.75%\n"
     ]
    }
   ],
   "source": [
    "probabilidad_a_tiempo = np.mean(Proceso_completo <= 50)\n",
    "print(f\"La probabilidad de que el proyecto se entregue a tiempo es: {probabilidad_a_tiempo: .2%}\")"
   ]
  },
  {
   "cell_type": "markdown",
   "id": "bd59c206-92b1-48cb-8df6-5923b8bcab03",
   "metadata": {},
   "source": [
    "g) ¿Cuál es la probabilidad de que el proyecto tome entre 20 y 40 días?"
   ]
  },
  {
   "cell_type": "code",
   "execution_count": 79,
   "id": "3abda32c-fd93-46ce-b014-0b31c2b39b62",
   "metadata": {},
   "outputs": [
    {
     "name": "stdout",
     "output_type": "stream",
     "text": [
      "Probabilidad de que el proyecto tome entre 20 y 40 días:  24.31%\n"
     ]
    }
   ],
   "source": [
    "probabilidad_de_dias = np.mean((Proceso_completo >= 20) & (Proceso_completo <= 40))\n",
    "print(f\"Probabilidad de que el proyecto tome entre 20 y 40 días: {probabilidad_de_dias: .2%}\")"
   ]
  },
  {
   "cell_type": "markdown",
   "id": "57806379-8839-479d-b259-1e5393035aae",
   "metadata": {},
   "source": [
    "2.- Hay un elevador pequeño en una plaza donde se espera que entren máximo 4 personas a la vez, y su capacidad de peso para poder operar es de 300 kg. En el último censo se encontró que habían 378350 personas en la zona:\n",
    "\n",
    "+ 185392 mujeres\n",
    "  \n",
    "+ 162690 hombres\n",
    "  \n",
    "+ 30268 personas que o prefirieron no dar la información o se identificaron como no binarias\n",
    "\n",
    "El peso promedio medido en mujeres es de 70 kg con una desviación estándar de 11 kg. En los hombres se midió un peso promedio de 80 kg y una desviación estándar de 16 kg. En el tercer grupo se midió un peso promedio de 73 kg con una desviación estándar de 12 kg."
   ]
  },
  {
   "cell_type": "markdown",
   "id": "39de9446-83c3-4c68-9676-cf80a61209fb",
   "metadata": {},
   "source": [
    "a) Si el elevador se llenara 10,000 veces, ¿cuántas de esas veces se excedería el peso permitido?"
   ]
  },
  {
   "cell_type": "code",
   "execution_count": 8,
   "id": "a236c242-4c0a-412d-b31b-fe32692f55d2",
   "metadata": {},
   "outputs": [
    {
     "name": "stdout",
     "output_type": "stream",
     "text": [
      "Cuántas veces se excedería el peso permitido: 44.78%\n"
     ]
    }
   ],
   "source": [
    "import numpy as np\n",
    "N = 10000\n",
    "\n",
    "Hombres = np.random.normal(loc=80, scale=16, size=N)\n",
    "Mujeres = np.random.normal(loc=70, scale=11, size=N)\n",
    "Binarias = np.random.normal(loc=73, scale=12, size=N)\n",
    "\n",
    "excedencias = 0\n",
    "\n",
    "for _ in range(N):\n",
    "    grupo = np.random.choice([0, 1, 2], size=4, p=[0.4,0.5,0.1], replace=True)\n",
    "    \n",
    "    # Calcular el peso total basado en la selección\n",
    "    peso_total = sum(np.random.normal(loc=80, scale=16) if persona == 0 else\n",
    "                     np.random.normal(loc=70, scale=11) if persona == 1 else\n",
    "                     np.random.normal(loc=73, scale=12) for persona in grupo)\n",
    "\n",
    "    # Verificar si el peso total excede la capacidad\n",
    "    if peso_total > 300:\n",
    "        excedencias += 1\n",
    "\n",
    "# Calcular la probabilidad de exceder el peso\n",
    "probabilidad_excedencia = excedencias / N\n",
    "\n",
    "print(f\"Cuántas veces se excedería el peso permitido: {probabilidad_excedencia:.2%}\")\n"
   ]
  },
  {
   "cell_type": "markdown",
   "id": "302544c7-c65f-4db4-b8ce-83e6e1e1f359",
   "metadata": {},
   "source": [
    "b) ¿Qué peso total tendría que soportar el elevador si se quiere que el 95% de las veces que se llene no se exceda el peso permitido?"
   ]
  },
  {
   "cell_type": "code",
   "execution_count": 12,
   "id": "6e394ea7-4755-475c-a8ea-53a39c53a3f3",
   "metadata": {},
   "outputs": [
    {
     "name": "stdout",
     "output_type": "stream",
     "text": [
      "El peso total que el elevador debería soportar para no exceder el límite el 95% de las veces es: 344.74 kg\n"
     ]
    }
   ],
   "source": [
    "import numpy as np\n",
    "N = 100000 \n",
    "\n",
    "Hombres = np.random.normal(loc=80, scale=16, size=N)\n",
    "Mujeres = np.random.normal(loc=70, scale=11, size=N)\n",
    "Binarias = np.random.normal(loc=73, scale=12, size=N)\n",
    "\n",
    "pesos_totales = []\n",
    "\n",
    "for _ in range(N):\n",
    "    grupo = np.random.choice([0, 1, 2], size=4,  p=[0.4,0.5,0.1], replace=True)\n",
    "    \n",
    "    peso_total = sum(np.random.normal(loc=80, scale=16) if persona == 0 else\n",
    "                     np.random.normal(loc=70, scale=11) if persona == 1 else\n",
    "                     np.random.normal(loc=73, scale=12) for persona in grupo)\n",
    "\n",
    "    pesos_totales.append(peso_total)\n",
    "\n",
    "peso_maximo_95 = np.percentile(pesos_totales, 95)\n",
    "\n",
    "print(f\"El peso total que el elevador debería soportar para no exceder el límite el 95% de las veces es: {peso_maximo_95:.2f} kg\")\n"
   ]
  },
  {
   "cell_type": "markdown",
   "id": "d250bd10-9cb6-4ac3-aca0-b4ac694efee1",
   "metadata": {},
   "source": [
    "3.- Tienes diez dados justos. Si arrojas todos al mismo tiempo, ¿cuál es la probabilidad de que la suma de los dados sea múltiplo de 6?"
   ]
  },
  {
   "cell_type": "code",
   "execution_count": 108,
   "id": "1c2455cd-0476-435d-bb3c-bb983111cfe3",
   "metadata": {},
   "outputs": [
    {
     "name": "stdout",
     "output_type": "stream",
     "text": [
      "La probabilidad de que la suma de los dados sea un múltiplo de 6 es: 0.1682\n"
     ]
    }
   ],
   "source": [
    "import numpy as np\n",
    "N = 100000\n",
    "exitos = 0\n",
    "\n",
    "for i in range(N):\n",
    "    dados = np.random.randint(1, 7, size = 10)\n",
    "    suma = np.sum(dados)\n",
    "\n",
    "    if suma % 6 == 0:\n",
    "        exitos += 1\n",
    "\n",
    "probabilidad = exitos / N\n",
    "\n",
    "print(f\"La probabilidad de que la suma de los dados sea un múltiplo de 6 es: {probabilidad:.4f}\")\n",
    "    "
   ]
  },
  {
   "cell_type": "markdown",
   "id": "ecfb6eca-9e2e-443b-98cb-f83583a6456b",
   "metadata": {},
   "source": [
    "4.- A y B juegan al siguiente juego: un número k del 1 al 6 es elegido, y A y B avientan el dado por turnos hasta que alguien consiga que el dado caiga en k. El ganador recibe $100."
   ]
  },
  {
   "cell_type": "markdown",
   "id": "5e36d903-eb4d-48c9-b3d1-825320c55cc8",
   "metadata": {},
   "source": [
    "a) ¿Cuál es la probabilidad de que el primer jugador gane?"
   ]
  },
  {
   "cell_type": "code",
   "execution_count": 120,
   "id": "4659d4cd-2b85-40d2-a79d-f67b3d7c0afb",
   "metadata": {},
   "outputs": [
    {
     "name": "stdout",
     "output_type": "stream",
     "text": [
      "La probabilidad de que el primer jugador (A) gane es: 54.55%\n"
     ]
    }
   ],
   "source": [
    "import numpy as np\n",
    "\n",
    "p_ganar_A = 1 / 6  \n",
    "p_no_ganar_A = 5 / 6  \n",
    "p_no_ganar_B = 5 / 6  \n",
    "\n",
    "# P = (1/6) + (5/6 * 5/6) * P\n",
    "# (11/36) * P = (1/6)\n",
    "# P = (1/6) * (36/11)\n",
    "# P = (6/11)\n",
    "\n",
    "P = (6 / 11)\n",
    "\n",
    "# Mostrar el resultado\n",
    "print(f\"La probabilidad de que el primer jugador (A) gane es: {P * 100:.2f}%\")\n"
   ]
  },
  {
   "cell_type": "markdown",
   "id": "e7bf5cd8-ba3d-4a0e-99c7-26d91ade86ed",
   "metadata": {},
   "source": [
    "b) ¿Cuál es la probabilidad de que el segundo jugador gane?"
   ]
  },
  {
   "cell_type": "code",
   "execution_count": 115,
   "id": "8c4ba5fe-6fbb-40b3-84b6-1629530e2ed4",
   "metadata": {},
   "outputs": [
    {
     "name": "stdout",
     "output_type": "stream",
     "text": [
      "La probabilidad de que el segundo jugador (B) gane es: 45.45%\n"
     ]
    }
   ],
   "source": [
    "import numpy as np\n",
    "\n",
    "p_no_ganar_A = 5 / 6  \n",
    "p_ganar_B = 1 / 6  \n",
    "\n",
    "# P = (1/6 * 5/6) + (5/6 * 5/6) * P\n",
    "# PB - (25/36) * PB = (5/36)\n",
    "# PB = (5/11)\n",
    "P_B = (5 / 11)  \n",
    "\n",
    "# Mostrar el resultado\n",
    "print(f\"La probabilidad de que el segundo jugador (B) gane es: {P_B * 100:.2f}%\")\n"
   ]
  },
  {
   "cell_type": "markdown",
   "id": "efcb0812-751d-4c0c-8675-18d6e7d006fb",
   "metadata": {},
   "source": [
    "c) ¿Cuánto vale la pena pagar para ir primero?"
   ]
  },
  {
   "cell_type": "code",
   "execution_count": 122,
   "id": "e98eee12-8dbf-4ae7-8521-53769f35b7ce",
   "metadata": {},
   "outputs": [
    {
     "name": "stdout",
     "output_type": "stream",
     "text": [
      "Valor esperado de A: $54.55\n",
      "Valor esperado de B: $45.45\n",
      "Vale la pena pagar: $9.09 para lanzar primero.\n"
     ]
    }
   ],
   "source": [
    "p_ganar_A = 6 / 11\n",
    "p_ganar_B = 5 / 11\n",
    "\n",
    "recompensa = 100\n",
    "\n",
    "E_A = recompensa * p_ganar_A\n",
    "E_B = recompensa * p_ganar_B\n",
    "\n",
    "diferencia = E_A - E_B\n",
    "\n",
    "print(f\"Valor esperado de A: ${E_A:.2f}\")\n",
    "print(f\"Valor esperado de B: ${E_B:.2f}\")\n",
    "print(f\"Vale la pena pagar: ${diferencia:.2f} para lanzar primero.\")\n"
   ]
  }
 ],
 "metadata": {
  "kernelspec": {
   "display_name": "Python 3 (ipykernel)",
   "language": "python",
   "name": "python3"
  },
  "language_info": {
   "codemirror_mode": {
    "name": "ipython",
    "version": 3
   },
   "file_extension": ".py",
   "mimetype": "text/x-python",
   "name": "python",
   "nbconvert_exporter": "python",
   "pygments_lexer": "ipython3",
   "version": "3.12.4"
  }
 },
 "nbformat": 4,
 "nbformat_minor": 5
}
