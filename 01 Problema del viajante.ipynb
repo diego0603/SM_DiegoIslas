{
 "cells": [
  {
   "cell_type": "markdown",
   "id": "d76090e0-e6ed-4b3a-ad35-951cb1621ca2",
   "metadata": {},
   "source": [
    "# Problema del viajante"
   ]
  },
  {
   "cell_type": "markdown",
   "id": "b614eba1-92a2-4a90-b174-c3de5f619c89",
   "metadata": {},
   "source": [
    "Crédito al profesor **Fernando Ignacio Becerra López**. Actividad adaptada de su curso IDI1."
   ]
  },
  {
   "cell_type": "markdown",
   "id": "a8cf7c21-5c1a-45bf-a905-72a23bc42de2",
   "metadata": {},
   "source": [
    "## Planteamiento"
   ]
  },
  {
   "cell_type": "markdown",
   "id": "a129754f-fecf-4473-a599-ed25bacd6994",
   "metadata": {},
   "source": [
    "Eres un agente de viajes / alguien que quiere viajar, y tienes una lista de ciudades destino. Quieres planear una ruta cíclica que visite todas las ciudades, pero quieres optimizar o tiempo de viaje o costos de viaje (o una combinación de ambas).\n",
    "\n",
    "¿Cuál es el mejor orden para visitar todas estas ciudades?"
   ]
  },
  {
   "cell_type": "markdown",
   "id": "4e92e822-22c0-4976-9f6e-a37f4c74f831",
   "metadata": {},
   "source": [
    "1. Toma el archivo `datosCT.xlsx` y lee la hoja `8c` utilizando `pandas`.\n",
    "\n",
    "`nombre_de_variable = pd.read_excel(\"datosCT.xlsx\", sheet_name=\"8c\").set_index(\"Unnamed: 0\")`\n",
    "\n",
    "Imprime la tabla resultante."
   ]
  },
  {
   "cell_type": "code",
   "execution_count": 81,
   "id": "5e873f05-a919-4380-b160-cb1c4606ea39",
   "metadata": {},
   "outputs": [
    {
     "data": {
      "text/html": [
       "<div>\n",
       "<style scoped>\n",
       "    .dataframe tbody tr th:only-of-type {\n",
       "        vertical-align: middle;\n",
       "    }\n",
       "\n",
       "    .dataframe tbody tr th {\n",
       "        vertical-align: top;\n",
       "    }\n",
       "\n",
       "    .dataframe thead th {\n",
       "        text-align: right;\n",
       "    }\n",
       "</style>\n",
       "<table border=\"1\" class=\"dataframe\">\n",
       "  <thead>\n",
       "    <tr style=\"text-align: right;\">\n",
       "      <th></th>\n",
       "      <th>Tijuana</th>\n",
       "      <th>Mérida</th>\n",
       "      <th>GDL</th>\n",
       "      <th>México</th>\n",
       "      <th>León</th>\n",
       "      <th>Monterrey</th>\n",
       "      <th>Tapachula</th>\n",
       "      <th>Chihuahua</th>\n",
       "    </tr>\n",
       "    <tr>\n",
       "      <th>Unnamed: 0</th>\n",
       "      <th></th>\n",
       "      <th></th>\n",
       "      <th></th>\n",
       "      <th></th>\n",
       "      <th></th>\n",
       "      <th></th>\n",
       "      <th></th>\n",
       "      <th></th>\n",
       "    </tr>\n",
       "  </thead>\n",
       "  <tbody>\n",
       "    <tr>\n",
       "      <th>Tijuana</th>\n",
       "      <td>0</td>\n",
       "      <td>4180</td>\n",
       "      <td>2306</td>\n",
       "      <td>2848</td>\n",
       "      <td>2529</td>\n",
       "      <td>2409</td>\n",
       "      <td>4005</td>\n",
       "      <td>1583</td>\n",
       "    </tr>\n",
       "    <tr>\n",
       "      <th>Mérida</th>\n",
       "      <td>4180</td>\n",
       "      <td>0</td>\n",
       "      <td>1874</td>\n",
       "      <td>1332</td>\n",
       "      <td>1719</td>\n",
       "      <td>2046</td>\n",
       "      <td>1062</td>\n",
       "      <td>2819</td>\n",
       "    </tr>\n",
       "    <tr>\n",
       "      <th>GDL</th>\n",
       "      <td>2306</td>\n",
       "      <td>1874</td>\n",
       "      <td>0</td>\n",
       "      <td>542</td>\n",
       "      <td>223</td>\n",
       "      <td>789</td>\n",
       "      <td>1699</td>\n",
       "      <td>1202</td>\n",
       "    </tr>\n",
       "    <tr>\n",
       "      <th>México</th>\n",
       "      <td>2848</td>\n",
       "      <td>1332</td>\n",
       "      <td>542</td>\n",
       "      <td>0</td>\n",
       "      <td>389</td>\n",
       "      <td>933</td>\n",
       "      <td>1157</td>\n",
       "      <td>1487</td>\n",
       "    </tr>\n",
       "    <tr>\n",
       "      <th>León</th>\n",
       "      <td>2529</td>\n",
       "      <td>1719</td>\n",
       "      <td>223</td>\n",
       "      <td>389</td>\n",
       "      <td>0</td>\n",
       "      <td>711</td>\n",
       "      <td>1544</td>\n",
       "      <td>1140</td>\n",
       "    </tr>\n",
       "    <tr>\n",
       "      <th>Monterrey</th>\n",
       "      <td>2409</td>\n",
       "      <td>2046</td>\n",
       "      <td>789</td>\n",
       "      <td>933</td>\n",
       "      <td>711</td>\n",
       "      <td>0</td>\n",
       "      <td>1803</td>\n",
       "      <td>826</td>\n",
       "    </tr>\n",
       "    <tr>\n",
       "      <th>Tapachula</th>\n",
       "      <td>4005</td>\n",
       "      <td>1062</td>\n",
       "      <td>1699</td>\n",
       "      <td>1157</td>\n",
       "      <td>1544</td>\n",
       "      <td>1803</td>\n",
       "      <td>0</td>\n",
       "      <td>2644</td>\n",
       "    </tr>\n",
       "    <tr>\n",
       "      <th>Chihuahua</th>\n",
       "      <td>1583</td>\n",
       "      <td>2819</td>\n",
       "      <td>1202</td>\n",
       "      <td>1487</td>\n",
       "      <td>1140</td>\n",
       "      <td>826</td>\n",
       "      <td>2644</td>\n",
       "      <td>0</td>\n",
       "    </tr>\n",
       "  </tbody>\n",
       "</table>\n",
       "</div>"
      ],
      "text/plain": [
       "            Tijuana  Mérida   GDL  México  León  Monterrey  Tapachula  \\\n",
       "Unnamed: 0                                                              \n",
       "Tijuana           0    4180  2306    2848  2529       2409       4005   \n",
       "Mérida         4180       0  1874    1332  1719       2046       1062   \n",
       "GDL            2306    1874     0     542   223        789       1699   \n",
       "México         2848    1332   542       0   389        933       1157   \n",
       "León           2529    1719   223     389     0        711       1544   \n",
       "Monterrey      2409    2046   789     933   711          0       1803   \n",
       "Tapachula      4005    1062  1699    1157  1544       1803          0   \n",
       "Chihuahua      1583    2819  1202    1487  1140        826       2644   \n",
       "\n",
       "            Chihuahua  \n",
       "Unnamed: 0             \n",
       "Tijuana          1583  \n",
       "Mérida           2819  \n",
       "GDL              1202  \n",
       "México           1487  \n",
       "León             1140  \n",
       "Monterrey         826  \n",
       "Tapachula        2644  \n",
       "Chihuahua           0  "
      ]
     },
     "execution_count": 81,
     "metadata": {},
     "output_type": "execute_result"
    }
   ],
   "source": [
    "import pandas as pd\n",
    "archivo = pd.read_excel(\"datosCT.xlsx\", sheet_name=\"8c\").set_index(\"Unnamed: 0\")\n",
    "archivo"
   ]
  },
  {
   "cell_type": "markdown",
   "id": "57788b70-c8a2-427a-9468-6c802086275b",
   "metadata": {},
   "source": [
    "La tabla contiene una matriz de la distancia de recorrido entre cada ciudad. Por ejemplo, si quiero saber la distancia entre Tijuana y Tapachula busco el renglón Tijuana y la columna Tapachula / la columna Tijuana y el renglón Tapachula.\n",
    "\n",
    "2. Crea una función que retorne las ciudades de la tabla en un orden aleatorio."
   ]
  },
  {
   "cell_type": "code",
   "execution_count": 83,
   "id": "8910c0a0-a0ee-4912-b3e2-9d1bb0838341",
   "metadata": {},
   "outputs": [],
   "source": [
    "import numpy as np\n",
    "def ciudades_aleatorias(df):\n",
    "    ciudades = df.index.tolist()\n",
    "    np.random.shuffle(ciudades)\n",
    "    return ciudades"
   ]
  },
  {
   "cell_type": "code",
   "execution_count": 85,
   "id": "6bc4a556-15e9-4cab-8552-bb5aa5bc0604",
   "metadata": {},
   "outputs": [
    {
     "data": {
      "text/plain": [
       "['León',\n",
       " 'Chihuahua',\n",
       " 'Mérida',\n",
       " 'México',\n",
       " 'GDL',\n",
       " 'Tapachula',\n",
       " 'Tijuana',\n",
       " 'Monterrey']"
      ]
     },
     "execution_count": 85,
     "metadata": {},
     "output_type": "execute_result"
    }
   ],
   "source": [
    "ciudades_aleatorias(archivo)"
   ]
  },
  {
   "cell_type": "markdown",
   "id": "e04e03f2-740b-48f6-8903-f09d6b940782",
   "metadata": {},
   "source": [
    "3. Crea una función que dadas dos ciudades te indique la distancia entre ellas."
   ]
  },
  {
   "cell_type": "code",
   "execution_count": 87,
   "id": "a1b46a2e-c1a4-4610-aae9-37cb3b2b8ebc",
   "metadata": {},
   "outputs": [],
   "source": [
    "\n",
    "ciudad1 = \"Tijuana\"\n",
    "ciudad2 = \"Tapachula\"\n",
    "def distancia_entre_ciudades(df, ciudad1, ciudad2):\n",
    "    return df.at[ciudad1, ciudad2]\n",
    "    "
   ]
  },
  {
   "cell_type": "code",
   "execution_count": 89,
   "id": "e815ec31-67ed-4ab6-8801-b99ccebaa904",
   "metadata": {},
   "outputs": [
    {
     "data": {
      "text/plain": [
       "4005"
      ]
     },
     "execution_count": 89,
     "metadata": {},
     "output_type": "execute_result"
    }
   ],
   "source": [
    "distancia_entre_ciudades(archivo, ciudad1, ciudad2)"
   ]
  },
  {
   "cell_type": "markdown",
   "id": "d081dc58-5886-4c90-a42f-ed52e9edc10f",
   "metadata": {},
   "source": [
    "4. Crea una función que calcule la distancia total de recorrer una lista de ciudades:\n",
    "    - $C1 → C2 + C2 → C3 + ... + C_{n-1} → C_n + C_n → C_1$"
   ]
  },
  {
   "cell_type": "code",
   "execution_count": 91,
   "id": "527b40de-279b-4048-b162-4988182c1d85",
   "metadata": {},
   "outputs": [],
   "source": [
    "def distancia_total(df, lista_ciudades):\n",
    "    distancia = 0\n",
    "    for i in range(len(lista_ciudades) - 1):\n",
    "        ciudad_actual = lista_ciudades[i]\n",
    "        ciudad_siguiente = lista_ciudades[i + 1]\n",
    "        distancia += df.at[ciudad_actual, ciudad_siguiente]\n",
    "    distancia += df.at[lista_ciudades[-1], lista_ciudades[0]]\n",
    "    return distancia\n",
    "\n",
    "lista_ciudades = ciudades_aleatorias(archivo)\n",
    "\n",
    "\n"
   ]
  },
  {
   "cell_type": "code",
   "execution_count": 93,
   "id": "14eeb9bd-6eb6-4fa5-b040-da2d8a12bbf9",
   "metadata": {},
   "outputs": [
    {
     "name": "stdout",
     "output_type": "stream",
     "text": [
      "La distancia entre estos estados: ['Tijuana', 'Monterrey', 'Tapachula', 'Mérida', 'GDL', 'México', 'León', 'Chihuahua'] es 10802\n"
     ]
    }
   ],
   "source": [
    "distancia = distancia_total(archivo, lista_ciudades)\n",
    "print(f\"La distancia entre estos estados: {lista_ciudades} es {distancia}\")"
   ]
  },
  {
   "cell_type": "markdown",
   "id": "c5201501-d413-4091-8c45-facfcd7e81bc",
   "metadata": {},
   "source": [
    "5. Genera una lista con 100 listas de ciudades generadas con permutaciones aleatorias (no importa si hay repetidas)"
   ]
  },
  {
   "cell_type": "code",
   "execution_count": 119,
   "id": "45cc9051-1fed-4066-bac0-31e67c03bdbc",
   "metadata": {},
   "outputs": [],
   "source": [
    "\n",
    "\n",
    "\n",
    "archivo = pd.read_excel(\"datosCT.xlsx\", sheet_name=\"8c\").set_index(\"Unnamed: 0\")\n",
    "n = 100\n",
    "ciudades = archivo.index.tolist()\n",
    "\n",
    "def generar_permutaciones(ciudades, n):\n",
    "    permutaciones = []\n",
    "    for i in range(n):\n",
    "        permutacion = ciudades.copy()\n",
    "        np.random.shuffle(permutacion)\n",
    "        permutaciones.append(permutacion)\n",
    "    return permutaciones\n",
    "\n",
    "listas_permutaciones = generar_permutaciones(ciudades, 100)"
   ]
  },
  {
   "cell_type": "code",
   "execution_count": 121,
   "id": "b485fd14-b022-4fce-91e4-812abcd7c8c2",
   "metadata": {},
   "outputs": [
    {
     "name": "stdout",
     "output_type": "stream",
     "text": [
      "Permutación 1: ['Chihuahua', 'Tijuana', 'León', 'GDL', 'Monterrey', 'Tapachula', 'México', 'Mérida']\n",
      "Permutación 2: ['Monterrey', 'Mérida', 'Tijuana', 'Tapachula', 'León', 'Chihuahua', 'GDL', 'México']\n",
      "Permutación 3: ['México', 'Tijuana', 'León', 'Chihuahua', 'GDL', 'Mérida', 'Monterrey', 'Tapachula']\n",
      "Permutación 4: ['México', 'Chihuahua', 'GDL', 'Mérida', 'Tapachula', 'Monterrey', 'Tijuana', 'León']\n",
      "Permutación 5: ['Tijuana', 'León', 'GDL', 'México', 'Tapachula', 'Mérida', 'Chihuahua', 'Monterrey']\n",
      "Permutación 6: ['Tijuana', 'México', 'GDL', 'Tapachula', 'Chihuahua', 'Monterrey', 'Mérida', 'León']\n",
      "Permutación 7: ['GDL', 'Mérida', 'León', 'Chihuahua', 'Tijuana', 'México', 'Tapachula', 'Monterrey']\n",
      "Permutación 8: ['Tijuana', 'León', 'Monterrey', 'Tapachula', 'Chihuahua', 'México', 'GDL', 'Mérida']\n",
      "Permutación 9: ['León', 'Chihuahua', 'Tijuana', 'GDL', 'Monterrey', 'México', 'Mérida', 'Tapachula']\n",
      "Permutación 10: ['GDL', 'Tijuana', 'Mérida', 'Chihuahua', 'León', 'México', 'Monterrey', 'Tapachula']\n",
      "Permutación 11: ['Chihuahua', 'Tijuana', 'GDL', 'Mérida', 'Tapachula', 'León', 'México', 'Monterrey']\n",
      "Permutación 12: ['GDL', 'Monterrey', 'México', 'Tijuana', 'Mérida', 'Chihuahua', 'León', 'Tapachula']\n",
      "Permutación 13: ['Monterrey', 'México', 'Tijuana', 'Mérida', 'León', 'Chihuahua', 'GDL', 'Tapachula']\n",
      "Permutación 14: ['Mérida', 'León', 'Tapachula', 'GDL', 'Chihuahua', 'Monterrey', 'México', 'Tijuana']\n",
      "Permutación 15: ['Chihuahua', 'Mérida', 'Monterrey', 'León', 'Tijuana', 'Tapachula', 'GDL', 'México']\n",
      "Permutación 16: ['México', 'Tapachula', 'Monterrey', 'Tijuana', 'Mérida', 'León', 'Chihuahua', 'GDL']\n",
      "Permutación 17: ['Monterrey', 'GDL', 'Tijuana', 'Tapachula', 'Mérida', 'León', 'Chihuahua', 'México']\n",
      "Permutación 18: ['Tapachula', 'GDL', 'Chihuahua', 'Monterrey', 'Tijuana', 'León', 'Mérida', 'México']\n",
      "Permutación 19: ['Tapachula', 'GDL', 'Chihuahua', 'México', 'Mérida', 'Tijuana', 'Monterrey', 'León']\n",
      "Permutación 20: ['Tapachula', 'Monterrey', 'GDL', 'México', 'Chihuahua', 'León', 'Mérida', 'Tijuana']\n",
      "Permutación 21: ['Chihuahua', 'Mérida', 'Tijuana', 'León', 'Monterrey', 'Tapachula', 'GDL', 'México']\n",
      "Permutación 22: ['Tapachula', 'Chihuahua', 'Monterrey', 'México', 'León', 'GDL', 'Tijuana', 'Mérida']\n",
      "Permutación 23: ['GDL', 'Tapachula', 'Mérida', 'León', 'México', 'Tijuana', 'Chihuahua', 'Monterrey']\n",
      "Permutación 24: ['GDL', 'Monterrey', 'Tijuana', 'Tapachula', 'México', 'Mérida', 'Chihuahua', 'León']\n",
      "Permutación 25: ['Chihuahua', 'León', 'México', 'GDL', 'Tapachula', 'Tijuana', 'Monterrey', 'Mérida']\n",
      "Permutación 26: ['León', 'Tapachula', 'Monterrey', 'GDL', 'Mérida', 'Chihuahua', 'Tijuana', 'México']\n",
      "Permutación 27: ['León', 'Chihuahua', 'Monterrey', 'Tijuana', 'GDL', 'Tapachula', 'México', 'Mérida']\n",
      "Permutación 28: ['México', 'Tijuana', 'Chihuahua', 'GDL', 'Mérida', 'Tapachula', 'León', 'Monterrey']\n",
      "Permutación 29: ['Tapachula', 'Tijuana', 'GDL', 'Monterrey', 'México', 'Mérida', 'León', 'Chihuahua']\n",
      "Permutación 30: ['Tijuana', 'Monterrey', 'GDL', 'Mérida', 'Tapachula', 'Chihuahua', 'León', 'México']\n",
      "Permutación 31: ['Tijuana', 'Mérida', 'México', 'GDL', 'León', 'Chihuahua', 'Tapachula', 'Monterrey']\n",
      "Permutación 32: ['GDL', 'Chihuahua', 'Tijuana', 'México', 'Monterrey', 'Tapachula', 'León', 'Mérida']\n",
      "Permutación 33: ['Monterrey', 'Tijuana', 'Tapachula', 'México', 'GDL', 'León', 'Chihuahua', 'Mérida']\n",
      "Permutación 34: ['Tapachula', 'León', 'Chihuahua', 'Monterrey', 'GDL', 'Tijuana', 'México', 'Mérida']\n",
      "Permutación 35: ['Monterrey', 'GDL', 'León', 'Mérida', 'Tijuana', 'Chihuahua', 'Tapachula', 'México']\n",
      "Permutación 36: ['Tapachula', 'León', 'México', 'Monterrey', 'GDL', 'Tijuana', 'Chihuahua', 'Mérida']\n",
      "Permutación 37: ['Tijuana', 'Tapachula', 'León', 'Mérida', 'Chihuahua', 'Monterrey', 'México', 'GDL']\n",
      "Permutación 38: ['Tijuana', 'México', 'GDL', 'Mérida', 'Monterrey', 'León', 'Chihuahua', 'Tapachula']\n",
      "Permutación 39: ['Mérida', 'Tijuana', 'Monterrey', 'GDL', 'México', 'Tapachula', 'León', 'Chihuahua']\n",
      "Permutación 40: ['México', 'Tapachula', 'GDL', 'Monterrey', 'Chihuahua', 'León', 'Mérida', 'Tijuana']\n",
      "Permutación 41: ['GDL', 'Mérida', 'México', 'Monterrey', 'León', 'Chihuahua', 'Tapachula', 'Tijuana']\n",
      "Permutación 42: ['Mérida', 'Tijuana', 'Chihuahua', 'Tapachula', 'GDL', 'León', 'Monterrey', 'México']\n",
      "Permutación 43: ['Tapachula', 'Mérida', 'México', 'León', 'Chihuahua', 'Tijuana', 'GDL', 'Monterrey']\n",
      "Permutación 44: ['Tijuana', 'Tapachula', 'Monterrey', 'GDL', 'Chihuahua', 'Mérida', 'León', 'México']\n",
      "Permutación 45: ['Mérida', 'Tijuana', 'GDL', 'Monterrey', 'León', 'Tapachula', 'México', 'Chihuahua']\n",
      "Permutación 46: ['Mérida', 'Chihuahua', 'León', 'México', 'Monterrey', 'GDL', 'Tapachula', 'Tijuana']\n",
      "Permutación 47: ['Mérida', 'León', 'Tapachula', 'Tijuana', 'GDL', 'Monterrey', 'Chihuahua', 'México']\n",
      "Permutación 48: ['Chihuahua', 'Tijuana', 'Monterrey', 'GDL', 'Tapachula', 'León', 'México', 'Mérida']\n",
      "Permutación 49: ['Monterrey', 'León', 'Tijuana', 'México', 'GDL', 'Tapachula', 'Chihuahua', 'Mérida']\n",
      "Permutación 50: ['Tapachula', 'Tijuana', 'México', 'Mérida', 'Monterrey', 'León', 'Chihuahua', 'GDL']\n",
      "Permutación 51: ['Tijuana', 'Tapachula', 'León', 'Chihuahua', 'México', 'Mérida', 'Monterrey', 'GDL']\n",
      "Permutación 52: ['Tapachula', 'México', 'GDL', 'Chihuahua', 'Monterrey', 'Tijuana', 'Mérida', 'León']\n",
      "Permutación 53: ['Mérida', 'Monterrey', 'México', 'Tapachula', 'Chihuahua', 'GDL', 'León', 'Tijuana']\n",
      "Permutación 54: ['México', 'Chihuahua', 'Monterrey', 'GDL', 'Tijuana', 'Tapachula', 'Mérida', 'León']\n",
      "Permutación 55: ['Tijuana', 'Monterrey', 'Chihuahua', 'México', 'Tapachula', 'León', 'Mérida', 'GDL']\n",
      "Permutación 56: ['Chihuahua', 'Monterrey', 'Tijuana', 'Tapachula', 'GDL', 'México', 'Mérida', 'León']\n",
      "Permutación 57: ['GDL', 'León', 'Monterrey', 'México', 'Tijuana', 'Mérida', 'Tapachula', 'Chihuahua']\n",
      "Permutación 58: ['México', 'Mérida', 'Tapachula', 'Tijuana', 'Chihuahua', 'Monterrey', 'León', 'GDL']\n",
      "Permutación 59: ['Tijuana', 'Monterrey', 'León', 'México', 'Mérida', 'Chihuahua', 'Tapachula', 'GDL']\n",
      "Permutación 60: ['Tapachula', 'GDL', 'Mérida', 'México', 'Monterrey', 'Tijuana', 'León', 'Chihuahua']\n",
      "Permutación 61: ['Monterrey', 'León', 'Mérida', 'México', 'Tijuana', 'Chihuahua', 'Tapachula', 'GDL']\n",
      "Permutación 62: ['GDL', 'Chihuahua', 'Monterrey', 'León', 'Tapachula', 'Tijuana', 'México', 'Mérida']\n",
      "Permutación 63: ['Chihuahua', 'GDL', 'Tapachula', 'Monterrey', 'México', 'Tijuana', 'Mérida', 'León']\n",
      "Permutación 64: ['León', 'Chihuahua', 'Mérida', 'Monterrey', 'GDL', 'Tijuana', 'Tapachula', 'México']\n",
      "Permutación 65: ['Mérida', 'Tapachula', 'Monterrey', 'Tijuana', 'GDL', 'Chihuahua', 'León', 'México']\n",
      "Permutación 66: ['México', 'Chihuahua', 'GDL', 'Monterrey', 'León', 'Mérida', 'Tapachula', 'Tijuana']\n",
      "Permutación 67: ['León', 'Tapachula', 'GDL', 'Monterrey', 'México', 'Chihuahua', 'Mérida', 'Tijuana']\n",
      "Permutación 68: ['GDL', 'Monterrey', 'Tapachula', 'Chihuahua', 'León', 'Mérida', 'México', 'Tijuana']\n",
      "Permutación 69: ['León', 'GDL', 'Tijuana', 'Monterrey', 'México', 'Tapachula', 'Mérida', 'Chihuahua']\n",
      "Permutación 70: ['México', 'León', 'Tapachula', 'Monterrey', 'Chihuahua', 'Mérida', 'GDL', 'Tijuana']\n",
      "Permutación 71: ['GDL', 'Chihuahua', 'Tapachula', 'Tijuana', 'Monterrey', 'México', 'Mérida', 'León']\n",
      "Permutación 72: ['León', 'Tapachula', 'GDL', 'México', 'Monterrey', 'Tijuana', 'Mérida', 'Chihuahua']\n",
      "Permutación 73: ['GDL', 'Monterrey', 'León', 'Tijuana', 'Chihuahua', 'Tapachula', 'México', 'Mérida']\n",
      "Permutación 74: ['Mérida', 'Chihuahua', 'Monterrey', 'León', 'México', 'Tijuana', 'Tapachula', 'GDL']\n",
      "Permutación 75: ['Chihuahua', 'GDL', 'León', 'Mérida', 'Tijuana', 'Tapachula', 'Monterrey', 'México']\n",
      "Permutación 76: ['Tapachula', 'León', 'GDL', 'Chihuahua', 'Monterrey', 'Mérida', 'México', 'Tijuana']\n",
      "Permutación 77: ['Chihuahua', 'Mérida', 'México', 'Tapachula', 'GDL', 'León', 'Monterrey', 'Tijuana']\n",
      "Permutación 78: ['Tijuana', 'Chihuahua', 'Tapachula', 'México', 'Mérida', 'GDL', 'Monterrey', 'León']\n",
      "Permutación 79: ['Chihuahua', 'Mérida', 'Tapachula', 'GDL', 'León', 'Monterrey', 'México', 'Tijuana']\n",
      "Permutación 80: ['México', 'Tijuana', 'Chihuahua', 'León', 'Mérida', 'Tapachula', 'Monterrey', 'GDL']\n",
      "Permutación 81: ['Mérida', 'GDL', 'México', 'Chihuahua', 'Tapachula', 'León', 'Tijuana', 'Monterrey']\n",
      "Permutación 82: ['León', 'GDL', 'Mérida', 'Chihuahua', 'México', 'Tapachula', 'Monterrey', 'Tijuana']\n",
      "Permutación 83: ['Tijuana', 'Mérida', 'Tapachula', 'México', 'Chihuahua', 'GDL', 'Monterrey', 'León']\n",
      "Permutación 84: ['León', 'Tijuana', 'México', 'Mérida', 'Tapachula', 'GDL', 'Chihuahua', 'Monterrey']\n",
      "Permutación 85: ['GDL', 'Tijuana', 'Tapachula', 'México', 'Mérida', 'Chihuahua', 'Monterrey', 'León']\n",
      "Permutación 86: ['Monterrey', 'Mérida', 'México', 'Chihuahua', 'GDL', 'Tapachula', 'Tijuana', 'León']\n",
      "Permutación 87: ['México', 'Tijuana', 'GDL', 'Chihuahua', 'León', 'Mérida', 'Monterrey', 'Tapachula']\n",
      "Permutación 88: ['Tapachula', 'Monterrey', 'Mérida', 'GDL', 'Chihuahua', 'León', 'Tijuana', 'México']\n",
      "Permutación 89: ['León', 'México', 'GDL', 'Mérida', 'Chihuahua', 'Monterrey', 'Tapachula', 'Tijuana']\n",
      "Permutación 90: ['Tijuana', 'León', 'GDL', 'Mérida', 'Tapachula', 'México', 'Chihuahua', 'Monterrey']\n",
      "Permutación 91: ['Tijuana', 'México', 'Monterrey', 'Chihuahua', 'Mérida', 'León', 'GDL', 'Tapachula']\n",
      "Permutación 92: ['Tijuana', 'León', 'Monterrey', 'GDL', 'México', 'Mérida', 'Chihuahua', 'Tapachula']\n",
      "Permutación 93: ['Tijuana', 'Chihuahua', 'Mérida', 'México', 'León', 'Tapachula', 'Monterrey', 'GDL']\n",
      "Permutación 94: ['Mérida', 'Chihuahua', 'Tapachula', 'GDL', 'México', 'León', 'Monterrey', 'Tijuana']\n",
      "Permutación 95: ['León', 'Monterrey', 'Tapachula', 'GDL', 'Mérida', 'México', 'Tijuana', 'Chihuahua']\n",
      "Permutación 96: ['México', 'Mérida', 'Chihuahua', 'Monterrey', 'Tapachula', 'GDL', 'León', 'Tijuana']\n",
      "Permutación 97: ['Monterrey', 'León', 'Chihuahua', 'Tapachula', 'Tijuana', 'México', 'Mérida', 'GDL']\n",
      "Permutación 98: ['México', 'Chihuahua', 'León', 'Tijuana', 'Mérida', 'GDL', 'Tapachula', 'Monterrey']\n",
      "Permutación 99: ['León', 'México', 'Monterrey', 'Chihuahua', 'Tapachula', 'Tijuana', 'GDL', 'Mérida']\n",
      "Permutación 100: ['Mérida', 'México', 'GDL', 'León', 'Tapachula', 'Monterrey', 'Tijuana', 'Chihuahua']\n"
     ]
    }
   ],
   "source": [
    "listas_permutaciones = generar_permutaciones(ciudades, n)\n",
    "for i in range(len(listas_permutaciones)):\n",
    "    lista = listas_permutaciones[i]\n",
    "    print(\"Permutación \" + str(i + 1) + \": \" + str(lista))\n"
   ]
  },
  {
   "cell_type": "markdown",
   "id": "c7326a12-a09b-497f-bd57-90f190ecd5d7",
   "metadata": {},
   "source": [
    "6. Calcula la distancia total de todas las rutas generadas y guarda la información en otra lista."
   ]
  },
  {
   "cell_type": "code",
   "execution_count": 126,
   "id": "5ad7df8b-3eba-42f5-a16b-3f4672a6fd68",
   "metadata": {},
   "outputs": [
    {
     "name": "stdout",
     "output_type": "stream",
     "text": [
      "Distancia total de la permutación 1: 12235 kilómetros\n",
      "Distancia total de la permutación 2: 15592 kilómetros\n",
      "Distancia total de la permutación 3: 14599 kilómetros\n",
      "Distancia total de la permutación 4: 12755 kilómetros\n",
      "Distancia total de la permutación 5: 11567 kilómetros\n",
      "Distancia total de la permutación 6: 14853 kilómetros\n",
      "Distancia total de la permutación 7: 12913 kilómetros\n",
      "Distancia total de la permutación 8: 15770 kilómetros\n",
      "Distancia total de la permutación 9: 10689 kilómetros\n",
      "Distancia total de la permutación 10: 15269 kilómetros\n",
      "Distancia total de la permutación 11: 10517 kilómetros\n",
      "Distancia total de la permutación 12: 15952 kilómetros\n",
      "Distancia total de la permutación 13: 15524 kilómetros\n",
      "Distancia total de la permutación 14: 14951 kilómetros\n",
      "Distancia total de la permutación 15: 15838 kilómetros\n",
      "Distancia total de la permutación 16: 14152 kilómetros\n",
      "Distancia total de la permutación 17: 13441 kilómetros\n",
      "Distancia total de la permutación 18: 12873 kilómetros\n",
      "Distancia total de la permutación 19: 14564 kilómetros\n",
      "Distancia total de la permutación 20: 15665 kilómetros\n",
      "Distancia total de la permutación 21: 15770 kilómetros\n",
      "Distancia total de la permutación 22: 12563 kilómetros\n",
      "Distancia total de la permutación 23: 10915 kilómetros\n",
      "Distancia total de la permutación 24: 13874 kilómetros\n",
      "Distancia total de la permutación 25: 15049 kilómetros\n",
      "Distancia total de la permutación 26: 13649 kilómetros\n",
      "Distancia total de la permutación 27: 12588 kilómetros\n",
      "Distancia total de la permutación 28: 11757 kilómetros\n",
      "Distancia total de la permutación 29: 14868 kilómetros\n",
      "Distancia total de la permutación 30: 13155 kilómetros\n",
      "Distancia total de la permutación 31: 14273 kilómetros\n",
      "Distancia total de la permutación 32: 13506 kilómetros\n",
      "Distancia total de la permutación 33: 14341 kilómetros\n",
      "Distancia total de la permutación 34: 11847 kilómetros\n",
      "Distancia total de la permutación 35: 13228 kilómetros\n",
      "Distancia total de la permutación 36: 11425 kilómetros\n",
      "Distancia total de la permutación 37: 14694 kilómetros\n",
      "Distancia total de la permutación 38: 15810 kilómetros\n",
      "Distancia total de la permutación 39: 14580 kilómetros\n",
      "Distancia total de la permutación 40: 14358 kilómetros\n",
      "Distancia total de la permutación 41: 14945 kilómetros\n",
      "Distancia total de la permutación 42: 13305 kilómetros\n",
      "Distancia total de la permutación 43: 10404 kilómetros\n",
      "Distancia total de la permutación 44: 15574 kilómetros\n",
      "Distancia total de la permutación 45: 14993 kilómetros\n",
      "Distancia total de la permutación 46: 15954 kilómetros\n",
      "Distancia total de la permutación 47: 14008 kilómetros\n",
      "Distancia total de la permutación 48: 12564 kilómetros\n",
      "Distancia total de la permutación 49: 15838 kilómetros\n",
      "Distancia total de la permutación 50: 14983 kilómetros\n",
      "Distancia total de la permutación 51: 14649 kilómetros\n",
      "Distancia total de la permutación 52: 13579 kilómetros\n",
      "Distancia total de la permutación 53: 14914 kilómetros\n",
      "Distancia total de la permutación 54: 12583 kilómetros\n",
      "Distancia total de la permutación 55: 13322 kilómetros\n",
      "Distancia total de la permutación 56: 13672 kilómetros\n",
      "Distancia total de la permutación 57: 13803 kilómetros\n",
      "Distancia total de la permutación 58: 10284 kilómetros\n",
      "Distancia total de la permutación 59: 14309 kilómetros\n",
      "Distancia total de la permutación 60: 14560 kilómetros\n",
      "Distancia total de la permutación 61: 13325 kilómetros\n",
      "Distancia total de la permutación 62: 14342 kilómetros\n",
      "Distancia total de la permutación 63: 15524 kilómetros\n",
      "Distancia total de la permutación 64: 14651 kilómetros\n",
      "Distancia total de la permutación 65: 11643 kilómetros\n",
      "Distancia total de la permutación 66: 13823 kilómetros\n",
      "Distancia total de la permutación 67: 15980 kilómetros\n",
      "Distancia total de la permutación 68: 14581 kilómetros\n",
      "Distancia total de la permutación 69: 12049 kilómetros\n",
      "Distancia total de la permutación 70: 14409 kilómetros\n",
      "Distancia total de la permutación 71: 14467 kilómetros\n",
      "Distancia total de la permutación 72: 15266 kilómetros\n",
      "Distancia total de la permutación 73: 12619 kilómetros\n",
      "Distancia total de la permutación 74: 15171 kilómetros\n",
      "Distancia total de la permutación 75: 15552 kilómetros\n",
      "Distancia total de la permutación 76: 14026 kilómetros\n",
      "Distancia total de la permutación 77: 11933 kilómetros\n",
      "Distancia total de la permutación 78: 12619 kilómetros\n",
      "Distancia total de la permutación 79: 11878 kilómetros\n",
      "Distancia total de la permutación 80: 11486 kilómetros\n",
      "Distancia total de la permutación 81: 15075 kilómetros\n",
      "Distancia total de la permutación 82: 14301 kilómetros\n",
      "Distancia total de la permutación 83: 13117 kilómetros\n",
      "Distancia total de la permutación 84: 12209 kilómetros\n",
      "Distancia total de la permutación 85: 13379 kilómetros\n",
      "Distancia total de la permutación 86: 15011 kilómetros\n",
      "Distancia total de la permutación 87: 14221 kilómetros\n",
      "Distancia total de la permutación 88: 14599 kilómetros\n",
      "Distancia total de la permutación 89: 14787 kilómetros\n",
      "Distancia total de la permutación 90: 11567 kilómetros\n",
      "Distancia total de la permutación 91: 15072 kilómetros\n",
      "Distancia total de la permutación 92: 15371 kilómetros\n",
      "Distancia total de la permutación 93: 12565 kilómetros\n",
      "Distancia total de la permutación 94: 15393 kilómetros\n",
      "Distancia total de la permutación 95: 12990 kilómetros\n",
      "Distancia total de la permutación 96: 14079 kilómetros\n",
      "Distancia total de la permutación 97: 15343 kilómetros\n",
      "Distancia total de la permutación 98: 15645 kilómetros\n",
      "Distancia total de la permutación 99: 14696 kilómetros\n",
      "Distancia total de la permutación 100: 12255 kilómetros\n"
     ]
    }
   ],
   "source": [
    "distancias_totales = [] \n",
    "for ruta in listas_permutaciones: \n",
    "    distancia = distancia_total(archivo, ruta) \n",
    "    distancias_totales.append(distancia)\n",
    "for i in range(len(distancias_totales)): \n",
    "    print(\"Distancia total de la permutación \" + str(i + 1) + \": \" + str(distancias_totales[i]) + \" kilómetros\")"
   ]
  },
  {
   "cell_type": "code",
   "execution_count": null,
   "id": "00b67041-0567-4541-a37b-e92a3dbc25e6",
   "metadata": {},
   "outputs": [],
   "source": []
  },
  {
   "cell_type": "markdown",
   "id": "110f4bf1-8ba2-44bb-af76-1ab1411ccdf6",
   "metadata": {},
   "source": [
    "7. ¿Cuál fue la mejor ruta? Compara con tus compañeros"
   ]
  },
  {
   "cell_type": "code",
   "execution_count": 138,
   "id": "f7e21c99-2cd9-4321-abc8-f7f12d450c6e",
   "metadata": {},
   "outputs": [
    {
     "name": "stdout",
     "output_type": "stream",
     "text": [
      "La mejor ruta es: ['México', 'Mérida', 'Tapachula', 'Tijuana', 'Chihuahua', 'Monterrey', 'León', 'GDL']\n",
      "Con una distancia total de: 10284 kilómetros\n"
     ]
    }
   ],
   "source": [
    "mejor_ruta_indice = np.argmin(distancias_totales)\n",
    "mejor_ruta = listas_permutaciones[mejor_ruta_indice]\n",
    "mejor_distancia = distancias_totales[mejor_ruta_indice]\n",
    "\n",
    "print(\"La mejor ruta es:\", mejor_ruta)\n",
    "print(\"Con una distancia total de:\", mejor_distancia, \"kilómetros\")\n"
   ]
  },
  {
   "cell_type": "code",
   "execution_count": null,
   "id": "3f5d5b47-5242-40ce-b91a-91f26fb15e70",
   "metadata": {},
   "outputs": [],
   "source": []
  },
  {
   "cell_type": "markdown",
   "id": "0761dba0-3977-409a-bfaa-fa460d0e507e",
   "metadata": {},
   "source": [
    "## ¿Qué hay detrás?"
   ]
  },
  {
   "cell_type": "markdown",
   "id": "3a690ea9-2e70-425d-b53b-5f29342f0656",
   "metadata": {},
   "source": [
    "Hasta ahora, las optimizaciones que hemos hecho en clase han sido todas de funciones convexas, que garantizan un mínimo/máximo global. Incluso en los casos de regresiones o programación lineal, que teníamos muchas variables y graficarlas era imposible, se sabe desde el planteamiento del problema que la solución será única.\n",
    "\n",
    "![](https://encrypted-tbn0.gstatic.com/images?q=tbn:ANd9GcTWjD1olGFjjZN8Yi99lqDzWa1X5Rz4b4BP7g&s)"
   ]
  },
  {
   "cell_type": "markdown",
   "id": "7ac96682-7833-4196-87ba-bd9ba71b8ccc",
   "metadata": {},
   "source": [
    "Estos casos y campo de estudio se conocen como **Optimización Convexa**. Hay casos en los que el problema se puede adaptar para suavizar su respuesta y *volverlo* convexo, pero en muchos casos las funciones no son convexas y resultan en la aparición de muchos mínimos y máximos.\n",
    "\n",
    "![](https://encrypted-tbn0.gstatic.com/images?q=tbn:ANd9GcTsUVelChbZG6NX2cHTB68j3Ma0_8RUKnPUNg&s)"
   ]
  },
  {
   "cell_type": "markdown",
   "id": "209ab61f-90f4-4b4f-8d99-fc2a0688a4a2",
   "metadata": {},
   "source": [
    "![](https://upload.wikimedia.org/wikipedia/commons/e/e3/Non-Convex_Objective_Function.gif)"
   ]
  },
  {
   "cell_type": "markdown",
   "id": "6ad2ceca-1dce-426a-b02c-15f76daa1609",
   "metadata": {},
   "source": [
    "En los casos donde podemos graficar es muy sencillo saber si el valor óptimo encontrado es global o no, pero una solución general para *n* dimensiones en un problema no existe. Imaginemos el cerebro humano aprendiendo un deporte sin instructor:\n",
    "- Alguien puede aprender a jugar tennis **sin** instructor, viendo y replicando comportamientos y patrones vistos anteriormente (aprendiendo)\n",
    "- Alguien también puede aprender a jugar tennis **con** instructor, donde el instructor corregirá hábitos erróneos."
   ]
  },
  {
   "cell_type": "markdown",
   "id": "56e4f84d-2a61-4372-8ac9-c708944e3ca2",
   "metadata": {},
   "source": [
    "Por lógica, la persona que está aprendiendo sin instructor llegará a un nivel de juego donde sus limitantes serán los malos hábitos formados al aprender y optimizar su forma de juego (óptimo local).\n",
    "\n",
    "La persona con instructor será guiada a un mínimo global pues el instructor conoce su ubicación."
   ]
  },
  {
   "cell_type": "markdown",
   "id": "dc04d58b-5402-40b0-b778-41532bd862f1",
   "metadata": {},
   "source": [
    "Todos aprendemos de formas diferentes y cada quién podría llegar a su óptimo en dado tiempo; no hay garantía de que la forma en la que aprendes sea la mejor, entonces lo mejor es tener una mente abierta para ver si es que te has estancado y quizás hay otro valor óptimo en alguna otra parte."
   ]
  },
  {
   "cell_type": "markdown",
   "id": "5a41d7ad-adb1-43d6-8920-d29210c49ec5",
   "metadata": {},
   "source": [
    "## Uniendo"
   ]
  },
  {
   "cell_type": "markdown",
   "id": "ad106cd0-eefc-4ddd-8439-bdf583da2eb1",
   "metadata": {},
   "source": [
    "En el caso del problema de las ciudades hay 20,160 posibles combinaciones (excluyendo rutas repetidas con el viaje en orden reverso). Con las computadoras de hoy en día podemos revisar todos esos casos y tomar el mejor. ¿Qué pasa si añadimos ciudades?\n",
    "- 9 ciudades → $181,440$ combinaciones\n",
    "- 10 ciudades → $1'814,400$ combinaciones\n",
    "- 15 ciudades → $653,837'184,000$ combinaciones\n",
    "\n",
    "Para 15 ciudades, si cada ruta distinta nos tomara 1 segundo procesarla, se tardaría ~21 años en calcular todos los casos posibles. Si agregamos otra ciudad, entonces serían ~335 años."
   ]
  },
  {
   "cell_type": "markdown",
   "id": "21528c33-77cb-4756-a65a-86f3b848ae23",
   "metadata": {},
   "source": [
    "Los algoritmos de optimización con métodos numéricos necesitan un punto de partida, y a partir de ahí iteran hasta encontrar un mínimo/máximo sin poder saber si es local o global. ¿Cómo sabemos cuántas veces intentar optimizar y con qué punto de partida si no sabemos cuántos mínimos/máximos existen en nuestro problema o si siquiera existe un mínimo/máximo global?"
   ]
  },
  {
   "cell_type": "markdown",
   "id": "c71b3e5f-74cf-4607-92f6-a44d43208cbf",
   "metadata": {},
   "source": [
    "**No sabemos.** Lo mejor que podemos hacer es usar *métodos de búsqueda* / *algoritmos probabilísticos* para intentar encontrar la mejor solución posible en el momento y decidir si esa solución es suficiente."
   ]
  },
  {
   "cell_type": "markdown",
   "id": "fde134fb-e526-48af-a559-72b13dcd03a5",
   "metadata": {},
   "source": [
    "## Siguientes pasos"
   ]
  },
  {
   "cell_type": "markdown",
   "id": "791b7fa4-170c-48a0-a9e2-ae8c3c80cbae",
   "metadata": {},
   "source": [
    "En lugar de usar fuerza bruta (Monte Carlo o algoritmos iterativos) para encontrar la respuesta empezaremos a usar búsquedas dirigidas para intentar mejorar nuestros resultados mientras diminuimos nuestro tiempo de procesamiento."
   ]
  }
 ],
 "metadata": {
  "kernelspec": {
   "display_name": "Python 3 (ipykernel)",
   "language": "python",
   "name": "python3"
  },
  "language_info": {
   "codemirror_mode": {
    "name": "ipython",
    "version": 3
   },
   "file_extension": ".py",
   "mimetype": "text/x-python",
   "name": "python",
   "nbconvert_exporter": "python",
   "pygments_lexer": "ipython3",
   "version": "3.12.4"
  }
 },
 "nbformat": 4,
 "nbformat_minor": 5
}
