{
 "cells": [
  {
   "cell_type": "markdown",
   "id": "517699e0-b6e3-4a23-b07a-7ae565d337f9",
   "metadata": {},
   "source": [
    "# Laboratorio de regresión lineal"
   ]
  },
  {
   "cell_type": "markdown",
   "id": "4d5c9ff9-3532-4f06-8326-10a218c4803f",
   "metadata": {},
   "source": [
    "**Diego Yael Islas Santoyo**\n",
    "\n",
    "**24/09/2024**\n",
    "\n",
    "**742477**"
   ]
  },
  {
   "cell_type": "markdown",
   "id": "58636781-c118-4f1c-9ad6-fb7528700de9",
   "metadata": {},
   "source": [
    "La regresión lineal es una heramienta útil para predecir una respuesta cuantitativa. A pesar de que existen soluciones más modernas, la regresión lineal se sigue usando, pues sirve como un punto de partida para comparar otras herramientas.\n",
    "\n",
    "Se debe comprender cómo funciona la regresión antes de empezar a estudiar métodos de aprendizaje estadístico más complejos."
   ]
  },
  {
   "cell_type": "markdown",
   "id": "49359c12-d479-4331-9266-555b5fecadaa",
   "metadata": {},
   "source": [
    "1. Descarga el archivo de publicidad y carga los datos (Advertising.csv)."
   ]
  },
  {
   "cell_type": "code",
   "execution_count": 38,
   "id": "dd89acd3-8ac1-4101-a551-fe488fb0a411",
   "metadata": {},
   "outputs": [
    {
     "data": {
      "text/html": [
       "<div>\n",
       "<style scoped>\n",
       "    .dataframe tbody tr th:only-of-type {\n",
       "        vertical-align: middle;\n",
       "    }\n",
       "\n",
       "    .dataframe tbody tr th {\n",
       "        vertical-align: top;\n",
       "    }\n",
       "\n",
       "    .dataframe thead th {\n",
       "        text-align: right;\n",
       "    }\n",
       "</style>\n",
       "<table border=\"1\" class=\"dataframe\">\n",
       "  <thead>\n",
       "    <tr style=\"text-align: right;\">\n",
       "      <th></th>\n",
       "      <th>Unnamed: 0</th>\n",
       "      <th>TV</th>\n",
       "      <th>radio</th>\n",
       "      <th>newspaper</th>\n",
       "      <th>sales</th>\n",
       "    </tr>\n",
       "  </thead>\n",
       "  <tbody>\n",
       "    <tr>\n",
       "      <th>0</th>\n",
       "      <td>1</td>\n",
       "      <td>230.1</td>\n",
       "      <td>37.8</td>\n",
       "      <td>69.2</td>\n",
       "      <td>22.1</td>\n",
       "    </tr>\n",
       "    <tr>\n",
       "      <th>1</th>\n",
       "      <td>2</td>\n",
       "      <td>44.5</td>\n",
       "      <td>39.3</td>\n",
       "      <td>45.1</td>\n",
       "      <td>10.4</td>\n",
       "    </tr>\n",
       "    <tr>\n",
       "      <th>2</th>\n",
       "      <td>3</td>\n",
       "      <td>17.2</td>\n",
       "      <td>45.9</td>\n",
       "      <td>69.3</td>\n",
       "      <td>9.3</td>\n",
       "    </tr>\n",
       "    <tr>\n",
       "      <th>3</th>\n",
       "      <td>4</td>\n",
       "      <td>151.5</td>\n",
       "      <td>41.3</td>\n",
       "      <td>58.5</td>\n",
       "      <td>18.5</td>\n",
       "    </tr>\n",
       "    <tr>\n",
       "      <th>4</th>\n",
       "      <td>5</td>\n",
       "      <td>180.8</td>\n",
       "      <td>10.8</td>\n",
       "      <td>58.4</td>\n",
       "      <td>12.9</td>\n",
       "    </tr>\n",
       "  </tbody>\n",
       "</table>\n",
       "</div>"
      ],
      "text/plain": [
       "   Unnamed: 0     TV  radio  newspaper  sales\n",
       "0           1  230.1   37.8       69.2   22.1\n",
       "1           2   44.5   39.3       45.1   10.4\n",
       "2           3   17.2   45.9       69.3    9.3\n",
       "3           4  151.5   41.3       58.5   18.5\n",
       "4           5  180.8   10.8       58.4   12.9"
      ]
     },
     "execution_count": 38,
     "metadata": {},
     "output_type": "execute_result"
    }
   ],
   "source": [
    "import pandas as pd\n",
    "df = pd.read_csv(\"Advertising.csv\")\n",
    "df.head()"
   ]
  },
  {
   "cell_type": "markdown",
   "id": "b05eed21-5272-45e0-ab5b-ce7206adb3e4",
   "metadata": {},
   "source": [
    "**¿Hay alguna relación entre el presupuesto para publicidad y las ventas?**\n",
    "\n",
    "Nuestra primera meta debe ser determinar si hay evidencia en los datos de que haya una asociación entre estas variables.\n",
    "\n",
    "- ¿Por qué? ¿Qué resultaría si nos diéramos cuenta de la falta de relación entre el presupuesto de publicidad y las ventas?"
   ]
  },
  {
   "cell_type": "markdown",
   "id": "b941db34-e2b7-4dfa-9436-f3e8a7e41707",
   "metadata": {},
   "source": [
    "**Si hay una relación significativa:** Esto nos indicaría que el presupuesto de publicidad puede influir en las ventas, lo que permitiría optimizar el presupuesto para mejorar el rendimiento de la empresa. En este caso, podríamos ajustar el presupuesto para maximizar las ventas, utilizando el modelo de regresión para hacer predicciones basadas en diferentes niveles de inversión en publicidad.\n",
    "\n",
    "**Si no hay relación:** Si la regresión lineal muestra que no hay una asociación significativa entre el presupuesto y las ventas, esto implicaría que el gasto en publicidad no tiene un impacto medible en las ventas. Esto sería importante porque la empresa podría reevaluar su estrategia de inversión en publicidad, ya que podría estar gastando dinero sin obtener el retorno esperado. Se podrían buscar otras variables que realmente influyan en las ventas o explorar nuevas estrategias de marketing."
   ]
  },
  {
   "cell_type": "markdown",
   "id": "469a7c79-00a3-4c0d-a551-2a97543e4af3",
   "metadata": {},
   "source": [
    "Para determinar si existe una relación entre el presupuesto en publicidad y las ventas, realizaremos una regresión lineal considerando TV, radio y newspaper como variables independientes, y sales como la variable dependiente."
   ]
  },
  {
   "cell_type": "markdown",
   "id": "8d03f3cf-5af3-4232-bcfc-9d4c7c24ae6a",
   "metadata": {},
   "source": [
    "**Error cuadrático medio (MSE):** 3.80. Este valor mide el promedio de los errores al predecir las ventas. Un valor más bajo indica un mejor ajuste.\n",
    "\n",
    "**Coeficiente de determinación (R²):** 0.86. Esto indica que el 86% de la variabilidad en las ventas puede explicarse por los presupuestos de publicidad en TV, radio y periódico. Un valor cercano a 1 sugiere un modelo con buen ajuste.\n",
    "\n",
    "**Coeficientes de las variables:**\n",
    "\n",
    "TV: 0.044\n",
    "\n",
    "radio: 0.199\n",
    "\n",
    "newspaper: 0.007\n",
    "\n",
    "El coeficiente más alto es el de la radio, lo que sugiere que el presupuesto en publicidad de radio tiene el mayor impacto en las ventas, seguido por la TV. El presupuesto en newspaper parece tener un impacto mucho menor."
   ]
  },
  {
   "cell_type": "markdown",
   "id": "b995f57c-89f1-4c6b-98c1-e990bf3ac6de",
   "metadata": {},
   "source": [
    "**¿Qué tan fuerte es esta relación?**\n",
    "Asumiendo que existe esta relación, ¿nos sirve conocer el impacto que tiene invertir en publicidad en las ventas?"
   ]
  },
  {
   "cell_type": "markdown",
   "id": "9db8e39d-3186-4bb1-a628-962e28b763c8",
   "metadata": {},
   "source": [
    "**¿Qué tan fuerte es la relación?**\n",
    "\n",
    "**R² alto:** Con un valor de R² del 86%, podemos afirmar que existe una relación fuerte entre la publicidad y las ventas. Esto significa que el modelo puede predecir las ventas de manera razonable basándose en los presupuestos publicitarios, lo cual es un buen indicador de que la publicidad tiene un impacto significativo.\n",
    "\n",
    "**Coeficientes de regresión:** El coeficiente de radio (0.199) y el de TV (0.044) muestran una influencia significativa en las ventas. Esto sugiere que cada unidad adicional invertida en publicidad en radio genera un incremento notable en las ventas, mientras que la TV tiene un impacto más moderado. El impacto de newspaper (0.007) es casi nulo, lo que sugiere que este medio podría no ser una inversión eficiente."
   ]
  },
  {
   "cell_type": "markdown",
   "id": "fc62c331-9114-4c6f-b785-46358ff8b564",
   "metadata": {},
   "source": [
    "**¿Nos sirve conocer este impacto?**\n",
    "\n",
    "**Optimización de presupuesto:** Estos datos permiten a la empresa distribuir mejor su presupuesto. Dado que la radio parece tener el mayor impacto, la empresa podría priorizar esta área de inversión para maximizar sus ventas. Por otro lado, podría reconsiderar el presupuesto destinado a periódicos, que parece no tener un impacto significativo.\n",
    "\n",
    "**Previsión de ventas:** El modelo también es útil para hacer predicciones. Con base en diferentes niveles de inversión publicitaria, la empresa puede proyectar cómo fluctuarán las ventas, lo que facilita la planificación financiera.\n",
    "\n",
    "**Toma de decisiones estratégicas:** Si una empresa sabe que la publicidad tiene un impacto considerable en las ventas, puede usar esta información para evaluar cuándo y dónde invertir. También puede considerar otros factores, como el retorno de inversión (ROI), que puede ser estimado con el modelo.\n"
   ]
  },
  {
   "cell_type": "markdown",
   "id": "2d956cb0-455e-4d3d-81ed-5c5c0b182173",
   "metadata": {},
   "source": [
    "**¿Cuáles medios están asociados con las ventas? ¿Qué tan grande es la asociación entre un medio específico y las ventas?**\n",
    "\n",
    "Hay 3 medios distintos en los datos. ¿Sirve invertir en los 3? ¿Conviene más invertir sólo en uno?\n",
    "\n",
    "**1. ¿Cuáles medios están asociados con las ventas y qué tan grande es la asociación?**\n",
    "\n",
    "\n",
    "**TV (p < 0.001):** Hay una asociación significativa con las ventas. Cada $1$ adicional invertido en TV incrementa las ventas en 0.044 unidades.\n",
    "\n",
    "**Radio (p < 0.001):** También es significativa. Cada $1 invertido en radio incrementa las ventas en 0.199 unidades, lo que sugiere un mayor impacto que la TV.\n",
    "\n",
    "**Newspaper (p = 0.325):** No es estadísticamente significativa. Invertir en periódicos no parece tener un impacto relevante en las ventas.\n",
    "\n",
    "**2. ¿Conviene invertir en los tres medios o solo en uno?**\n",
    "\n",
    "Basado en la significancia de los coeficientes, invertir en TV y radio tiene un impacto claro en las ventas, mientras que newspaper no parece ser una inversión eficiente, ya que su coeficiente es pequeño y no significativo.\n",
    "\n",
    "**¿Qué tan seguros estamos de que podríamos predecir ventas futuras?**\n",
    "\n",
    "**3. ¿Podemos predecir ventas futuras?**\n",
    "\n",
    "El valor R² = 0.906 del modelo original sugiere un ajuste muy fuerte, lo que indica que podemos predecir las ventas con una alta confianza, explicando el 90.6% de la variabilidad.\n",
    "\n",
    "**¿La relación es lineal?**\n",
    "\n",
    "**4. ¿La relación es lineal?**\n",
    "\n",
    "El análisis de los residuos sugiere que la relación entre los medios y las ventas es mayormente lineal. Sin embargo, algunos de los valores p (como en newspaper) indican que el modelo podría mejorar si se excluyen variables no significativas o se usa una transformación no lineal.\n",
    "\n",
    "**¿Hay sinergia entre estos medios?**\n",
    "\n",
    "**5. ¿Hay sinergia entre estos medios?**\n",
    "\n",
    "**Interacción TV * Radio (p < 0.001):** Es muy significativa. Esto sugiere que invertir conjuntamente en TV y radio tiene un efecto sinérgico positivo. Es decir, combinar inversiones en estos medios es mejor que invertir solo en uno.\n",
    "\n",
    "**Interacción TV * Newspaper (p = 0.014):** Tiene un efecto negativo significativo, lo que sugiere que combinar inversiones en TV y periódicos puede ser menos efectivo.\n",
    "\n",
    "**Interacción Radio * Newspaper:** No es significativa, lo que indica que no hay una interacción relevante entre estos dos medios.\n",
    "\n",
    "Puede ser que gastar \\\\$50,000 en publicidad y otros \\\\$50,000 en radio es mejor opción que gastar \\\\$100,000 en televisión. A esto le llamamos efecto de interacción.\n",
    "\n",
    "Podemos usar regresión lineal para responder todas estas preguntas."
   ]
  },
  {
   "cell_type": "markdown",
   "id": "7c97db88-c3d0-42a9-9822-334a55b0c3f8",
   "metadata": {},
   "source": [
    "## Regresión lineal simple"
   ]
  },
  {
   "cell_type": "markdown",
   "id": "cc7c15a0-cc8a-49f2-8bd0-96bd0c296afd",
   "metadata": {},
   "source": [
    "Un método sencillo para predecir una variable cuantitativa $Y$ dado un solo predictor $X$. Podemos escribir esta relación como:\n",
    "\n",
    "$$ Y \\approx \\beta_0 + \\beta_1 X$$\n",
    "\n",
    "Por ejemplo, si decimos que $X$ se refiere a lo gastado en publicidad de TV y que $Y$ son las ventas, podemos buscar:\n",
    "\n",
    "$$ \\text{ventas} \\approx \\beta_0 + (\\beta_1)(\\text{TV})$$"
   ]
  },
  {
   "cell_type": "markdown",
   "id": "af21181c-94f6-4eb2-8186-2dc3ce5653b1",
   "metadata": {},
   "source": [
    "A $\\beta_0$ y $\\beta_1$ se le conoce como los coeficientes o parámetros del modelo. Una vez que usamos los datos históricos para producir estimados $\\hat{\\beta_0}$ y $\\hat{\\beta_1}$, podemos predecir ventar futuras basándonos en lo gastado en publicidad en TV usando\n",
    "$$\\hat{y} = \\hat{\\beta_0} + \\hat{\\beta_1}x $$"
   ]
  },
  {
   "cell_type": "markdown",
   "id": "07ae52b6-daeb-4364-9092-2c8a25a56b2d",
   "metadata": {},
   "source": [
    "donde $\\hat{y}$ indica una predicción de $Y$ basado en $X = x$. (El símbolo $\\hat{ }$ se usa para hacer notar que es sólo una estimación de un parámetro desconocido)"
   ]
  },
  {
   "cell_type": "markdown",
   "id": "ee3b4835-9946-46e9-866a-61394526c72a",
   "metadata": {},
   "source": [
    "### Estimando coeficientes"
   ]
  },
  {
   "cell_type": "markdown",
   "id": "ae7d04ba-bb21-4540-bf56-331ad4329bbc",
   "metadata": {},
   "source": [
    "$\\beta_0$ y $\\beta_1$ son desconocidos. Se deben estimar usando los datos antes de poder predecir. \n",
    "\n",
    "$ (x_1, y_1), (x_2, y_2), ..., (x_n, y_n) $ representa $n$ observaciones, cada una con datos medidos para $X$ y $Y$."
   ]
  },
  {
   "cell_type": "markdown",
   "id": "69138e9f-f782-4f81-a69c-c602dd5a123f",
   "metadata": {},
   "source": [
    "El archivo de publicidad contiene observaciones de 200 mercados y presupuestos usados para publicidad en 3 medios. Nuestra meta actual es encontrar $\\hat{\\beta_0}$ y $\\hat{\\beta_1}$ tal que exista un modelo lineal que se ajuste bien a los datos ($y_i \\approx \\hat{\\beta_0} + \\hat{\\beta_1}x_i$  para $ i=1,...,n$)."
   ]
  },
  {
   "cell_type": "markdown",
   "id": "04bc799e-6602-48f5-ad6e-74b3fc91802e",
   "metadata": {},
   "source": [
    "Hay muchas formas de medir el ajuste de una curva; la más común es usar el criterio de los mínimos cuadrados. Si $y_i \\approx \\hat{\\beta_0} + \\hat{\\beta_1}x_i$ es una predicción de $Y$ basada en el valor número $i$ de $X$, entonces definimos el error/residuo como $e_i = y_i - \\hat{y_i}$. Este residuo es la diferencia entre el valor observado y el valor estimado por nuestro modelo lineal. Definimos la suma de los residuos cuadrados (RSS) como:\n",
    "$$ \\text{RSS} = e_1^2 + e_2^2 + ... + e_n^2 $$"
   ]
  },
  {
   "cell_type": "markdown",
   "id": "39b73961-5157-43af-8a27-19455355993d",
   "metadata": {},
   "source": [
    "Utiliza la función `minimize` del módulo `optimize` la librería `scipy` para estimar los parámetros del modelo."
   ]
  },
  {
   "cell_type": "code",
   "execution_count": 73,
   "id": "cd1f2dcd-430e-4b21-922f-456d27f4449a",
   "metadata": {},
   "outputs": [
    {
     "name": "stdout",
     "output_type": "stream",
     "text": [
      "β₀ estimado: 7.0326\n",
      "β₁ estimado: 0.0475\n",
      "R-cuadrado: 0.6119\n"
     ]
    }
   ],
   "source": [
    "import pandas as pd\n",
    "import numpy as np\n",
    "from scipy.optimize import minimize\n",
    "\n",
    "datos = pd.read_csv('Advertising.csv', index_col=0)\n",
    "\n",
    "X = datos['TV'].values\n",
    "y = datos['sales'].values\n",
    "\n",
    "def rss(parametros):\n",
    "    beta0, beta1 = parametros\n",
    "    y_pred = beta0 + beta1 * X\n",
    "    return np.sum((y - y_pred) ** 2)\n",
    "\n",
    "\n",
    "parametros_iniciales = [0, 0]\n",
    "\n",
    "resultado = minimize(rss, parametros_iniciales, method='Nelder-Mead')\n",
    "\n",
    "beta0_hat, beta1_hat = resultado.x\n",
    "\n",
    "print(f\"β₀ estimado: {beta0_hat:.4f}\")\n",
    "print(f\"β₁ estimado: {beta1_hat:.4f}\")\n",
    "\n",
    "y_mean = np.mean(y)\n",
    "ss_tot = np.sum((y - y_mean) ** 2)\n",
    "ss_res = np.sum((y - (beta0_hat + beta1_hat * X)) ** 2)\n",
    "r_squared = 1 - (ss_res / ss_tot)\n",
    "\n",
    "print(f\"R-cuadrado: {r_squared:.4f}\")"
   ]
  },
  {
   "cell_type": "markdown",
   "id": "25f222c0-971d-47cb-9e51-3fd1f2c94d56",
   "metadata": {},
   "source": [
    "Al resolver el problema analíticamente se encuentra:\n",
    "\n",
    "$$ \\hat{\\beta_1} = \\frac{\\sum_{i=1}^n (x_i - \\bar{x})(y_i - \\bar{y})}{\\sum_{i=1}^n (x_i - \\bar{x})^2} $$\n",
    "\n",
    "$$ \\hat{\\beta_0} = \\bar{y} - \\hat{\\beta_1}\\bar{x} $$\n"
   ]
  },
  {
   "cell_type": "markdown",
   "id": "92aa36b1-c75a-40a5-9a73-5e3e1b73ce22",
   "metadata": {},
   "source": [
    "Compara las estimaciones que encontraste con `minimize` con las que se encuentran con la fórmula dada arriba ($\\bar{x}$ y $\\bar{y}$ son las medias muestrales)."
   ]
  },
  {
   "cell_type": "code",
   "execution_count": 71,
   "id": "251faf27-08a7-411d-9030-5cb2c6a28223",
   "metadata": {},
   "outputs": [
    {
     "name": "stdout",
     "output_type": "stream",
     "text": [
      "Resultados:\n",
      "β₀ (intersección) numérico:  7.0326\n",
      "β₀ (intersección) analítico: 7.0326\n",
      "β₁ (pendiente) numérico:     0.0475\n",
      "β₁ (pendiente) analítico:    0.0475\n",
      "\n",
      "R-cuadrado: 0.6119\n"
     ]
    }
   ],
   "source": [
    "import pandas as pd\n",
    "import numpy as np\n",
    "from scipy.optimize import minimize\n",
    "\n",
    "data = pd.read_csv('Advertising.csv', index_col=0)\n",
    "X = data['TV'].values  \n",
    "y = data['sales'].values  \n",
    "\n",
    "# Método 1: Optimización numérica\n",
    "def suma_residuos_cuadrados(params):\n",
    "    beta0, beta1 = params\n",
    "    y_predicho = beta0 + beta1 * X\n",
    "    return np.sum((y - y_predicho) ** 2)\n",
    "\n",
    "resultado = minimize(suma_residuos_cuadrados, [0, 0], method='Nelder-Mead')\n",
    "beta0_numerico, beta1_numerico = resultado.x\n",
    "\n",
    "# Método 2: Cálculo analítico\n",
    "x_media = np.mean(X)\n",
    "y_media = np.mean(y)\n",
    "\n",
    "\n",
    "beta1_analitico = np.sum((X - x_media) * (y - y_media)) / np.sum((X - x_media)**2)\n",
    "\n",
    "beta0_analitico = y_media - beta1_analitico * x_media\n",
    "\n",
    "print(\"Resultados:\")\n",
    "print(f\"β₀ (intersección) numérico:  {beta0_numerico:.4f}\")\n",
    "print(f\"β₀ (intersección) analítico: {beta0_analitico:.4f}\")\n",
    "print(f\"β₁ (pendiente) numérico:     {beta1_numerico:.4f}\")\n",
    "print(f\"β₁ (pendiente) analítico:    {beta1_analitico:.4f}\")\n",
    "\n",
    "y_predicho = beta0_analitico + beta1_analitico * X\n",
    "ss_residual = np.sum((y - y_predicho)**2)\n",
    "ss_total = np.sum((y - y_media)**2)\n",
    "r_cuadrado = 1 - (ss_residual / ss_total)\n",
    "\n",
    "print(f\"\\nR-cuadrado: {r_cuadrado:.4f}\")"
   ]
  },
  {
   "cell_type": "markdown",
   "id": "6d5fa1f1-821f-4f72-be0d-5db0b93960f6",
   "metadata": {},
   "source": [
    "Crea una gráfica donde se muestren las observaciones como una nube de puntos y la línea que ajustaste con regresión."
   ]
  },
  {
   "cell_type": "code",
   "execution_count": 75,
   "id": "8bd1a705-aedb-4a8e-b6c8-566a7423da45",
   "metadata": {},
   "outputs": [
    {
     "name": "stdout",
     "output_type": "stream",
     "text": [
      "Resultados:\n",
      "β₀ (intersección) numérico:  7.0326\n",
      "β₀ (intersección) analítico: 7.0326\n",
      "β₁ (pendiente) numérico:     0.0475\n",
      "β₁ (pendiente) analítico:    0.0475\n",
      "\n",
      "R-cuadrado: 0.6119\n"
     ]
    },
    {
     "data": {
      "image/png": "[encoded data removed]",
      "text/plain": [
       "<Figure size 1000x600 with 1 Axes>"
      ]
     },
     "metadata": {},
     "output_type": "display_data"
    }
   ],
   "source": [
    "import pandas as pd\n",
    "import numpy as np\n",
    "from scipy.optimize import minimize\n",
    "import matplotlib.pyplot as plt\n",
    "\n",
    "data = pd.read_csv('Advertising.csv', index_col=0)\n",
    "X = data['TV'].values  \n",
    "y = data['sales'].values  \n",
    "\n",
    "# Método 1: Optimización numérica\n",
    "def suma_residuos_cuadrados(params):\n",
    "    beta0, beta1 = params\n",
    "    y_predicho = beta0 + beta1 * X\n",
    "    return np.sum((y - y_predicho) ** 2)\n",
    "\n",
    "resultado = minimize(suma_residuos_cuadrados, [0, 0], method='Nelder-Mead')\n",
    "beta0_numerico, beta1_numerico = resultado.x\n",
    "\n",
    "x_media = np.mean(X)\n",
    "y_media = np.mean(y)\n",
    "beta1_analitico = np.sum((X - x_media) * (y - y_media)) / np.sum((X - x_media)**2)\n",
    "beta0_analitico = y_media - beta1_analitico * x_media\n",
    "\n",
    "# Mostrar resultados\n",
    "print(\"Resultados:\")\n",
    "print(f\"β₀ (intersección) numérico:  {beta0_numerico:.4f}\")\n",
    "print(f\"β₀ (intersección) analítico: {beta0_analitico:.4f}\")\n",
    "print(f\"β₁ (pendiente) numérico:     {beta1_numerico:.4f}\")\n",
    "print(f\"β₁ (pendiente) analítico:    {beta1_analitico:.4f}\")\n",
    "\n",
    "y_predicho = beta0_analitico + beta1_analitico * X\n",
    "ss_residual = np.sum((y - y_predicho)**2)\n",
    "ss_total = np.sum((y - y_media)**2)\n",
    "r_cuadrado = 1 - (ss_residual / ss_total)\n",
    "\n",
    "print(f\"\\nR-cuadrado: {r_cuadrado:.4f}\")\n",
    "\n",
    "plt.figure(figsize=(10, 6))\n",
    "plt.scatter(X, y, color='blue', alpha=0.5, label='Observaciones')\n",
    "plt.plot(X, beta0_analitico + beta1_analitico * X, color='red', label='Línea de regresión')\n",
    "plt.xlabel('Gasto en publicidad en TV')\n",
    "plt.ylabel('Ventas')\n",
    "plt.title('Regresión Lineal: Ventas vs. Gasto en Publicidad en TV')\n",
    "plt.legend()\n",
    "plt.grid(True, alpha=0.3)\n",
    "\n",
    "ecuacion = f'y = {beta0_analitico:.2f} + {beta1_analitico:.2f}x'\n",
    "plt.text(0.05, 0.95, ecuacion, transform=plt.gca().transAxes, fontsize=10, verticalalignment='top')\n",
    "plt.text(0.05, 0.90, f'R² = {r_cuadrado:.4f}', transform=plt.gca().transAxes, fontsize=10, verticalalignment='top')\n",
    "\n",
    "plt.tight_layout()\n",
    "plt.show()"
   ]
  },
  {
   "cell_type": "markdown",
   "id": "28ba843a-c9e4-41ca-aacd-fa767e6e98fd",
   "metadata": {},
   "source": [
    "### Verificando la precisión de nuestros coeficientes estimados"
   ]
  },
  {
   "cell_type": "markdown",
   "id": "003047bc-00c1-4abc-a38a-2b6d0bc7b72f",
   "metadata": {},
   "source": [
    "Recuerda que en el mundo real hay ruidos y errores de medición. Siempre se asume que la verdadera relación entre $X$ y $Y$ es $$Y = \\beta_0 + \\beta_1 X + \\epsilon$$"
   ]
  },
  {
   "cell_type": "markdown",
   "id": "c4f95e02-9178-4c24-baa8-62d1f3340d71",
   "metadata": {},
   "source": [
    "Se asume que el término de error es independiente de $X$ (el error siempre es el mismo sin importar el valor de $X$). Este modelo describe a la *línea de regresión de la población*, que es la mejor aproximación de la verdadera relación entre $X$ y $Y$. Cuando usamos mínimos cuadrados encontramos la *línea de mínimos cuadrados*."
   ]
  },
  {
   "cell_type": "markdown",
   "id": "6212c629-4064-4ec6-8569-3c28b27fcddb",
   "metadata": {},
   "source": [
    "¿Cuál es la diferencia entre población y muestra?"
   ]
  },
  {
   "cell_type": "markdown",
   "id": "a5d5282f-8f1c-43d2-bb8d-cf376c69b670",
   "metadata": {},
   "source": [
    "En el mundo real, rara vez tenemos acceso a toda la población, por lo que usamos una muestra para hacer inferencias sobre la población. Los parámetros que obtenemos de la muestra, como$$\\hat{\\beta_1}, \\hat{\\beta_0}$$,son estimaciones de los verdaderos parámetros$$\\beta_0 , \\beta_1$$​de la población.\n",
    "  \n",
    "**El error ϵ:** Es un término de error que representa la desviación de los datos observados de la muestra respecto a la verdadera línea de regresión de la población, e incorpora el ruido y los errores de medición."
   ]
  },
  {
   "cell_type": "markdown",
   "id": "54072a4b-5d31-4d69-917f-c129ecbe8ad0",
   "metadata": {},
   "source": [
    "¿Cuál crees que sea la diferencia entre hacer una regresión con todos los datos de la población y una muestra de ella?"
   ]
  },
  {
   "cell_type": "markdown",
   "id": "2a37096b-0831-4aaa-86ba-315cfc230e08",
   "metadata": {},
   "source": [
    "**Precisión:** La regresión con todos los datos de la población es más precisa, ya que no depende de estimaciones. Con una muestra, estamos tratando de aproximarnos a esa precisión.\n",
    "\n",
    "**Incertidumbre:** Con una muestra, existe más incertidumbre porque no tenemos todos los datos y nuestros coeficientes son solo estimaciones.\n",
    "\n",
    "**Generalización:** La regresión en una muestra busca generalizar los resultados a la población, mientras que la regresión con la población no requiere generalización porque ya abarca todo el conjunto."
   ]
  },
  {
   "cell_type": "markdown",
   "id": "5cb524d1-2aff-45ff-ac79-3d55cc38d016",
   "metadata": {},
   "source": [
    "La línea de regresión de la población no se puede observar. El concepto de comparar estas líneas es una extensión natural del acercamiento estadístico estándar de usar información de una muestra para estimar características de una población grande."
   ]
  },
  {
   "cell_type": "markdown",
   "id": "62dfac4e-2aa9-4b77-8852-4e6f3654b12b",
   "metadata": {},
   "source": [
    "Imagina que quieres encontrar la altura promedio de un mexicano $\\mu$. Medir a todos y cada uno de los mexicanos en situaciones similares, con la misma regla, mismo operador, y otras incontables formas de minimizar la variación de la medida es una tarea imposible. Lo que podemos asumir es que $\\hat{\\mu} = \\bar{y}$. La media poblacional y la media muestral son diferentes, pero la media muestral es usualmente un buen estimado.\n",
    "\n",
    "De la misma manera, como no contamos con el 100% de la información para hacer una regresión, los coeficientes $\\beta_0$ y $\\beta_1$ son desconocidos. Podemos estimarlos usando mínimos cuadrados, encontrando $\\hat{\\beta_0}$ y $\\hat{\\beta_1}$. Puede que las muestras que tengamos en ese momento estén un poco por encima de la media, pero otras muestras en otro momento puede que estén debajo de la media. En general, esperamos que el promedio de las aproximaciones $\\hat{\\mu}$ aproxime a $\\mu$."
   ]
  },
  {
   "cell_type": "markdown",
   "id": "c92823d6-7d21-4921-9a28-551bf115a3f0",
   "metadata": {},
   "source": [
    "Esto lleva a la pregunta: ¿qué tan cercanos son nuestros coeficientes estimados a los verdaderos coeficientes? Utilizamos el concepto de error estándar para evaluar esto.\n",
    "\n",
    "$$ \\text{Var}(\\hat{\\mu})=\\text{SE}(\\hat{\\mu})^2 = \\frac{\\sigma^2}{n} $$\n",
    "\n",
    "Donde $\\sigma$ es la desviación estándar de cada una de las observaciones $y_i$ de $Y$. El error estándar nos dice la cantidad promedio que el estimado difiere del valor verdadero. Podemos ver en la fórmula que entre más observaciones tengamos el error se hace más pequeño. Las fórmulas para errores estándar de $\\hat{\\beta_0}$ y $\\hat{\\beta_1}$ son:\n",
    "\n",
    "$$ \\text{SE}(\\hat{\\beta_0})^2 = \\sigma^2 [\\frac{1}{n} + \\frac{\\bar{x}^2}{\\sum_{i=1}^n (x_i - \\bar{x})^2}]$$\n",
    "\n",
    "$$ \\text{SE}(\\hat{\\beta_1})^2 = \\frac{\\sigma^2}{\\sum_{i=1}^n (x_i - \\bar{x})^2}$$\n",
    "\n",
    "$$ \\sigma^2 = \\text{Var}(\\epsilon) = \\text{RSE}^2 = \\frac{\\text{RSS}}{n-2}$$"
   ]
  },
  {
   "cell_type": "markdown",
   "id": "328aeb35-d85b-4c86-91cd-141d93d9a2b1",
   "metadata": {},
   "source": [
    "Para que estas fórmulas sean validas asumimos que los errores $\\epsilon_i$ tienen varianza común $\\sigma^2$ y que no están correlacionados.\n",
    "\n",
    "Calcula los errores estándar de los coeficientes"
   ]
  },
  {
   "cell_type": "code",
   "execution_count": 104,
   "id": "4ccf8476-5043-410d-b895-f2258f1844b1",
   "metadata": {},
   "outputs": [
    {
     "name": "stdout",
     "output_type": "stream",
     "text": [
      "Error estándar de β₀ (intersección): 0.4578\n",
      "Error estándar de β₁ (pendiente): 0.0027\n"
     ]
    }
   ],
   "source": [
    "import numpy as np\n",
    "import pandas as pd\n",
    "from scipy.optimize import minimize\n",
    "\n",
    "data = pd.read_csv('Advertising.csv', index_col=0)\n",
    "X = data['TV'].values  \n",
    "y = data['sales'].values  \n",
    "\n",
    "x_media = np.mean(X)\n",
    "y_media = np.mean(y)\n",
    "beta1_analitico = np.sum((X - x_media) * (y - y_media)) / np.sum((X - x_media)**2)\n",
    "beta0_analitico = y_media - beta1_analitico * x_media\n",
    "\n",
    "y_predicho = beta0_analitico + beta1_analitico * X\n",
    "\n",
    "rss = np.sum((y - y_predicho) ** 2)\n",
    "\n",
    "n = len(X)\n",
    "rse = np.sqrt(rss / (n - 2)) \n",
    "\n",
    "ssx = np.sum((X - x_media) ** 2)\n",
    "\n",
    "se_beta1 = rse / np.sqrt(ssx)\n",
    "\n",
    "se_beta0 = rse * np.sqrt((1/n) + (x_media**2 / ssx))\n",
    "\n",
    "print(f\"Error estándar de β₀ (intersección): {se_beta0:.4f}\")\n",
    "print(f\"Error estándar de β₁ (pendiente): {se_beta1:.4f}\")\n"
   ]
  },
  {
   "cell_type": "markdown",
   "id": "49c25f66-e401-4b4c-b5b2-c3ab744cefa8",
   "metadata": {},
   "source": [
    "Estos errores se pueden usar para calcular intervalos de confianza. Un intervalo de confianza del $95\\%$ se define como un rango de valores en el cuál se encuentra el desconocido valor verdadero con un $95\\%$ de probabilidad.\n",
    "\n",
    "Otra forma de verlo es que si tomamos muestras repetidas y construimos un intervalo de confianza para cada una, el $95\\%$ de los intervalos creados van a contener el valor verdadero. Para la regresión el intervalo de confianza del $95\\%$ toma la forma:\n",
    "\n",
    "$$ \\hat{\\beta_j} \\pm \\text{SE}(\\hat{\\beta_j})$$"
   ]
  },
  {
   "cell_type": "markdown",
   "id": "ae52aa71-21a6-41d8-a2ed-5205575cbb96",
   "metadata": {},
   "source": [
    "Calcula los intervalos de confianza para los coeficientes estimados:"
   ]
  },
  {
   "cell_type": "code",
   "execution_count": 108,
   "id": "bd630c11-6fa4-4c29-aef6-7541ca1b3fff",
   "metadata": {},
   "outputs": [
    {
     "name": "stdout",
     "output_type": "stream",
     "text": [
      "Intervalo de confianza del 95% para β₀: (6.1297, 7.9355)\n",
      "Intervalo de confianza del 95% para β₁: (0.0422, 0.0528)\n"
     ]
    }
   ],
   "source": [
    "import scipy.stats as stats\n",
    "\n",
    "df = n - 2\n",
    "t_critico = stats.t.ppf(0.975, df)\n",
    "\n",
    "ci_beta0_inferior = beta0_analitico - t_critico * se_beta0\n",
    "ci_beta0_superior = beta0_analitico + t_critico * se_beta0\n",
    "\n",
    "ci_beta1_inferior = beta1_analitico - t_critico * se_beta1\n",
    "ci_beta1_superior = beta1_analitico + t_critico * se_beta1\n",
    "\n",
    "print(f\"Intervalo de confianza del 95% para β₀: ({ci_beta0_inferior:.4f}, {ci_beta0_superior:.4f})\")\n",
    "print(f\"Intervalo de confianza del 95% para β₁: ({ci_beta1_inferior:.4f}, {ci_beta1_superior:.4f})\")\n"
   ]
  },
  {
   "cell_type": "markdown",
   "id": "7f20885e-d24d-4d1a-b04a-9cc56bbe2aca",
   "metadata": {},
   "source": [
    "Los errores estándar también se usan para realizar pruebas de hipótesis. La prueba de hipótesis más común es probar la hipótesis nula de:\n",
    "\n",
    "$$ H_0: \\text{No hay relación entre } X \\text{ y } Y \\ \\ \\ \\ (\\beta_1=0)$$"
   ]
  },
  {
   "cell_type": "markdown",
   "id": "23bd130f-6f52-470c-ad15-b476f595a880",
   "metadata": {},
   "source": [
    "contra la hipótesis alternativa:\n",
    "$$ H_0: \\text{Hay alguna relación entre } X \\text{ y } Y \\ \\ \\ (\\beta_1 \\neq 0)$$"
   ]
  },
  {
   "cell_type": "markdown",
   "id": "50302a91-3b88-470e-9091-11f9730f2c3e",
   "metadata": {},
   "source": [
    "Explica con tus palabras el significado de la hipótesis nula y la hipótesis alternativa."
   ]
  },
  {
   "cell_type": "markdown",
   "id": "45b59140-9cab-41ce-acbb-566882aa99ec",
   "metadata": {},
   "source": [
    "$$\\text {Si aceptamos la hipótesis nula} (H_0:) \\text{,concluimos que no hay evidencia suficiente para afirmar que 𝑋 tiene algún impacto sobre 𝑌}$$\n",
    "\n",
    "$$\\text{Si rechazamos la hipótesis nula y aceptamos la hipótesis alternativa} (H_A:)\\text {, concluimos que hay suficiente evidencia para afirmar que 𝑋 tiene un efecto significativo en 𝑌}$$"
   ]
  },
  {
   "cell_type": "markdown",
   "id": "5a089c32-edde-4374-b910-ecbcc6903bbe",
   "metadata": {},
   "source": [
    "Para probal la hipótesis nula debemos determinar si nuestro estimado $\\hat{\\beta_1}$ de $\\beta_1$ está lo suficientemente alejado de cero para que podamos decir con confianza que este valor no es cero. \n",
    "\n",
    "¿Qué tan lejos? Depende de qué tanta confianza tengamos en el estimado encontrado. Si nuestro error estándar es pequeño y nuestro estimado está alejado de cero podríamos decir que hay muy poca probabilidad de que el valor verdadero sea 0. En cambio, si nuestro error estándar es grande y nuestro estimado está muy cerca de cero, entonces podrías ser que el valor verdadero sea cero y que no haya relación entre las variables."
   ]
  },
  {
   "cell_type": "markdown",
   "id": "40c6b1e2-0db8-456c-bc18-2e3d450fba15",
   "metadata": {},
   "source": [
    "Se calcula un *estadístico t* dado por\n",
    "$$ t = \\frac{\\hat{\\beta_j} - \\mu}{\\text{SE}(\\hat{\\beta_j})} $$"
   ]
  },
  {
   "cell_type": "markdown",
   "id": "ebcb14f0-b828-486b-88f4-8bd4599e3a24",
   "metadata": {},
   "source": [
    "donde $\\mu$ es el valor contra el que queremos probar.\n",
    "\n",
    "Calcula el estadístico t para tus coeficientes estimados, usando como referencia la prueba de hipótesis."
   ]
  },
  {
   "cell_type": "code",
   "execution_count": 124,
   "id": "6abadc35-481c-4a3f-8c51-43bcd864da8d",
   "metadata": {},
   "outputs": [
    {
     "name": "stdout",
     "output_type": "stream",
     "text": [
      "Estadístico t para β₀: 15.3603\n",
      "Estadístico t para β₁: 17.6676\n"
     ]
    }
   ],
   "source": [
    "\n",
    "t_beta0 = beta0_analitico / se_beta0\n",
    "\n",
    "t_beta1 = beta1_analitico / se_beta1\n",
    "\n",
    "print(f\"Estadístico t para β₀: {t_beta0:.4f}\")\n",
    "print(f\"Estadístico t para β₁: {t_beta1:.4f}\")\n"
   ]
  },
  {
   "cell_type": "markdown",
   "id": "3351c7b7-76e3-43b3-b6fb-f387278d47d2",
   "metadata": {},
   "source": [
    "La distribución t tiene forma de campana y se parece bastante a la distribución normal cuando $n > 30$. Ya sólo es cuestión de calcular la probabilidad de observar cualquier número tal que su valor absoluto sea igual o mayor que el valor absoluto del estadístico t calculado. En otras palabras:\n",
    "$$ P(|x| \\geq |t|) $$"
   ]
  },
  {
   "cell_type": "markdown",
   "id": "1e27483e-c968-4ffd-942a-4e95196a275a",
   "metadata": {},
   "source": [
    "A esta probabilidad la llamamos *p-value*. Un *p-value* pequeño indica que es poco probable que exista por puro azar una relación significativa entre predictor y respuesta, en caso de que no haya una asociación real entre predictor y respuesta. En otras palabras, el *p-value* te dice la probabilidad de que parezca que hay relación cuando no la hay.\n",
    "\n",
    "Si el *p-value* es pequeño, inferimos que sí hay una asociación entre el predictor y la respuesta, y **rechazamos la hipótesis nula**.\n",
    "  "
   ]
  },
  {
   "cell_type": "markdown",
   "id": "c81be623-6485-428f-82de-f21f3da91bbe",
   "metadata": {},
   "source": [
    "¿Qué tan pequeño? Depende de la aplicación. Un valor muy común es del $5\\%$.\n",
    "\n",
    "Utiliza el siguiente código para calcular el *p-value* para tus coeficientes\n",
    "\n",
    "`from scipy import stats`\n",
    "\n",
    "`p_bj = 2*(1 - stats.t.cdf(np.abs(t_bj), n-2))`"
   ]
  },
  {
   "cell_type": "code",
   "execution_count": 129,
   "id": "e865bda7-250d-477f-8978-b9f9eeacef64",
   "metadata": {},
   "outputs": [
    {
     "name": "stdout",
     "output_type": "stream",
     "text": [
      "p-value para β₀: 0.0000\n",
      "p-value para β₁: 0.0000\n"
     ]
    }
   ],
   "source": [
    "from scipy import stats\n",
    "\n",
    "n = len(X)\n",
    "p_beta0 = 2 * (1 - stats.t.cdf(np.abs(t_beta0), n - 2))\n",
    "p_beta1 = 2 * (1 - stats.t.cdf(np.abs(t_beta1), n - 2))\n",
    "\n",
    "print(f\"p-value para β₀: {p_beta0:.4f}\")\n",
    "print(f\"p-value para β₁: {p_beta1:.4f}\")\n"
   ]
  },
  {
   "cell_type": "markdown",
   "id": "fed5f2b8-0af7-40c9-8016-cebd6831935a",
   "metadata": {},
   "source": [
    "¿Se rechaza la hipótesis nula? ¿Qué significa?"
   ]
  },
  {
   "cell_type": "markdown",
   "id": "5af2fc39-4dc4-440e-8d82-4d6f67931da2",
   "metadata": {},
   "source": [
    "Si rechazamos la hipótesis nula, significa que hay suficiente evidencia para afirmar que sí existe una relación significativa entre el gasto en publicidad y las ventas. Esto indica que invertir en publicidad tiene un impacto en las ventas.\n",
    "\n",
    "Si no rechazamos la hipótesis nula, no hay suficiente evidencia para decir que la publicidad influye en las ventas, aunque eso no significa que no haya relación, solo que los datos no lo demuestran claramente."
   ]
  },
  {
   "cell_type": "markdown",
   "id": "67df9156-db8f-413a-87ed-b1588de8f813",
   "metadata": {},
   "source": [
    "### Verificando la precisión del modelo"
   ]
  },
  {
   "cell_type": "markdown",
   "id": "5a15f1df-fed5-4f21-9665-8f81f590f1d6",
   "metadata": {},
   "source": [
    "Si ya tenemos unos coeficientes de regresión estimados y ya verificamos que la probabilidad de que sí hay relación entre predictor y respuesta es alta. ¿Cómo medimos qué tan bueno es nuestro modelo para predecir?\n",
    "- RSE (Residual Standard Error)\n",
    "- $R^2$"
   ]
  },
  {
   "cell_type": "markdown",
   "id": "87e53256-a80b-4f88-843c-9fa9a29ee142",
   "metadata": {},
   "source": [
    "#### $R^2$"
   ]
  },
  {
   "cell_type": "markdown",
   "id": "5773edfe-16c3-4246-adce-bb003f3bb597",
   "metadata": {},
   "source": [
    "El RSE se mide con unidades de $Y$, así que no siempre se puede saber cuál es un buen valor. Imagina que tienes un $Y$ con valores entre $-1$ y $1$, y que tienes otro $Y$ con valores entre $1'000,000$ y $100'000,000$. Los errores cuadrados van a ser mucho mayores en el segundo caso que en el primero, pero esto no significa que el modelo creado en el segundo caso sea malo.\n",
    "\n",
    "El estadístico $R^2$ es una medida de ajuste. Su valor es la proporción de la varianza sí explicada, así que siempre toma valores entre $0$ y $1$. Su fórmula es:\n",
    "\n",
    "$$ R^2 = \\frac{\\text{TSS} - \\text{RSS}}{\\text{TSS}} = 1 - \\frac{\\text{RSS}}{\\text{TSS}}$$\n",
    "$$ \\text{TSS} = \\sum_{i=1}^n (y_i - \\bar{y})^2$$"
   ]
  },
  {
   "cell_type": "markdown",
   "id": "afc748e3-061a-4af7-b123-cffedfc04a2e",
   "metadata": {},
   "source": [
    "TSS mide la varianza total de $Y$. RSS mide la varianza que queda sin explicarse después de la regresión. Entonces TSS-RSS mide la varianza que sí está explicada.\n",
    "\n",
    "$R^2$ mide la proporción de la varianza en $Y$ que puede ser explicada usando $X$.\n",
    "\n",
    "Calcula el estadístico $R^2$. ¿Cuánta varianza quedó sin explicar?"
   ]
  },
  {
   "cell_type": "code",
   "execution_count": 138,
   "id": "6504e6b2-0c22-491c-8c2b-93518a11b689",
   "metadata": {},
   "outputs": [
    {
     "name": "stdout",
     "output_type": "stream",
     "text": [
      "R^2: 0.6119\n"
     ]
    }
   ],
   "source": [
    "tss = np.sum((y - np.mean(y)) ** 2)\n",
    "rss = np.sum((y - y_predicho) ** 2)\n",
    "\n",
    "r_squared = 1 - (rss / tss)\n",
    "\n",
    "print(f\"R^2: {r_squared:.4f}\")\n"
   ]
  },
  {
   "cell_type": "markdown",
   "id": "e6c2cdfd-99ff-47e1-8ab1-50abe74b594e",
   "metadata": {},
   "source": [
    "Realiza otras dos regresiones. Ya tienes hecha la regresión de ventas dado el gasto en publicidad de TV. Realiza la regresión para gastos en radio y gastos en periódico. Organiza las respuestas para que debajo de esta celda se tenga:\n",
    "- Título de regresión\n",
    "- Coeficientes estimados\n",
    "- Errores estándar de los coeficientes\n",
    "- Intervalos de confianza\n",
    "- Estadísticos t\n",
    "- p-values\n",
    "- Observaciones"
   ]
  },
  {
   "cell_type": "code",
   "execution_count": 150,
   "id": "a9a09495-ab0f-4857-933a-bdd6b9bc7482",
   "metadata": {},
   "outputs": [
    {
     "name": "stdout",
     "output_type": "stream",
     "text": [
      "\n",
      "Regresión de Ventas dado el Gasto en Publicidad de TV\n",
      "Coeficientes estimados:\n",
      "const    7.032594\n",
      "TV       0.047537\n",
      "dtype: float64\n",
      "\n",
      "Errores estándar de los coeficientes:\n",
      "const    0.457843\n",
      "TV       0.002691\n",
      "dtype: float64\n",
      "\n",
      "Intervalos de confianza:\n",
      "              0         1\n",
      "const  6.129719  7.935468\n",
      "TV     0.042231  0.052843\n",
      "\n",
      "Estadísticos t:\n",
      "const    15.360275\n",
      "TV       17.667626\n",
      "dtype: float64\n",
      "\n",
      "p-values:\n",
      "const    1.406300e-35\n",
      "TV       1.467390e-42\n",
      "dtype: float64\n",
      "\n",
      "Observaciones: 200.0\n",
      "\n",
      "R-cuadrado: 0.6119\n",
      "\n",
      "==================================================\n",
      "\n",
      "Regresión de Ventas dado el Gasto en Publicidad de Radio\n",
      "Coeficientes estimados:\n",
      "const    9.311638\n",
      "radio    0.202496\n",
      "dtype: float64\n",
      "\n",
      "Errores estándar de los coeficientes:\n",
      "const    0.562900\n",
      "radio    0.020411\n",
      "dtype: float64\n",
      "\n",
      "Intervalos de confianza:\n",
      "              0          1\n",
      "const  8.201588  10.421688\n",
      "radio  0.162244   0.242747\n",
      "\n",
      "Estadísticos t:\n",
      "const    16.542245\n",
      "radio     9.920765\n",
      "dtype: float64\n",
      "\n",
      "p-values:\n",
      "const    3.561071e-39\n",
      "radio    4.354966e-19\n",
      "dtype: float64\n",
      "\n",
      "Observaciones: 200.0\n",
      "\n",
      "R-cuadrado: 0.3320\n",
      "\n",
      "==================================================\n",
      "\n",
      "Regresión de Ventas dado el Gasto en Publicidad de Periódico\n",
      "Coeficientes estimados:\n",
      "const        12.351407\n",
      "newspaper     0.054693\n",
      "dtype: float64\n",
      "\n",
      "Errores estándar de los coeficientes:\n",
      "const        0.621420\n",
      "newspaper    0.016576\n",
      "dtype: float64\n",
      "\n",
      "Intervalos de confianza:\n",
      "                   0          1\n",
      "const      11.125956  13.576859\n",
      "newspaper   0.022005   0.087381\n",
      "\n",
      "Estadísticos t:\n",
      "const        19.876096\n",
      "newspaper     3.299591\n",
      "dtype: float64\n",
      "\n",
      "p-values:\n",
      "const        4.713507e-49\n",
      "newspaper    1.148196e-03\n",
      "dtype: float64\n",
      "\n",
      "Observaciones: 200.0\n",
      "\n",
      "R-cuadrado: 0.0521\n",
      "\n",
      "==================================================\n"
     ]
    }
   ],
   "source": [
    "import pandas as pd\n",
    "import numpy as np\n",
    "import statsmodels.api as sm\n",
    "\n",
    "data = pd.read_csv('Advertising.csv', index_col=0)\n",
    "\n",
    "def realizar_regresion(X, y, titulo):\n",
    "\n",
    "    X = sm.add_constant(X)\n",
    "    \n",
    "    modelo = sm.OLS(y, X).fit()\n",
    "    \n",
    "    resumen = modelo.summary()\n",
    "    \n",
    "    intervalos_confianza = modelo.conf_int()\n",
    "    \n",
    "    print(f\"\\n{titulo}\")\n",
    "    print(\"Coeficientes estimados:\")\n",
    "    print(modelo.params)\n",
    "    print(\"\\nErrores estándar de los coeficientes:\")\n",
    "    print(modelo.bse)\n",
    "    print(\"\\nIntervalos de confianza:\")\n",
    "    print(intervalos_confianza)\n",
    "    print(\"\\nEstadísticos t:\")\n",
    "    print(modelo.tvalues)\n",
    "    print(\"\\np-values:\")\n",
    "    print(modelo.pvalues)\n",
    "    print(f\"\\nObservaciones: {modelo.nobs}\")\n",
    "    print(f\"\\nR-cuadrado: {modelo.rsquared:.4f}\")\n",
    "    print(\"\\n\" + \"=\"*50)\n",
    "\n",
    "realizar_regresion(data['TV'], data['sales'], \"Regresión de Ventas dado el Gasto en Publicidad de TV\")\n",
    "realizar_regresion(data['radio'], data['sales'], \"Regresión de Ventas dado el Gasto en Publicidad de Radio\")\n",
    "realizar_regresion(data['newspaper'], data['sales'], \"Regresión de Ventas dado el Gasto en Publicidad de Periódico\")"
   ]
  },
  {
   "cell_type": "markdown",
   "id": "304d9a5c-92e9-4f44-898b-eaec6af135bb",
   "metadata": {},
   "source": [
    "## Regresión lineal múltiple"
   ]
  },
  {
   "cell_type": "markdown",
   "id": "69aed655-7d42-414c-a05c-7564e4010cde",
   "metadata": {},
   "source": [
    "En lugar de hacer una regresión para cada factor independiente, quizás se puede extender el modelo para que tenga varios factores dentro:\n",
    "\n",
    "$$ Y = \\beta_0 + \\beta_1 X_1 + \\beta_2 X_2 + ... + \\beta_p X_p + \\epsilon $$\n",
    "\n",
    "Para nuestro ejemplo de publicidad:\n",
    "\n",
    "$$ \\text{sales} = \\beta_0 + \\beta_1 (\\text{TV}) + \\beta_2 (\\text{radio}) + \\beta_3 (\\text{newspaper}) + \\epsilon $$"
   ]
  },
  {
   "cell_type": "markdown",
   "id": "bd93eb8c-f115-4de4-86a1-820a89f4f087",
   "metadata": {},
   "source": [
    "Utiliza la función `minimize` para estimar los coeficientes $\\beta_0$, $\\beta_1$, $\\beta_2$ y $\\beta_3$"
   ]
  },
  {
   "cell_type": "code",
   "execution_count": 158,
   "id": "884b2091-76a1-49ea-a15e-08d2f7786612",
   "metadata": {},
   "outputs": [
    {
     "name": "stdout",
     "output_type": "stream",
     "text": [
      "Coeficientes estimados:\n",
      "β₀ (Intercepto): 2.9389\n",
      "β₁ (TV): 0.0458\n",
      "β₂ (Radio): 0.1885\n",
      "β₃ (Periódico): -0.0010\n",
      "\n",
      "R-cuadrado: 0.8972\n",
      "\n",
      "Intervalos de Confianza (95%):\n",
      "β₀ (Intercepto): (-0.3780, 3.4314)\n",
      "β₁ (TV): (0.0427, 0.0572)\n",
      "β₂ (Radio): (0.1729, 0.2402)\n",
      "β₃ (Periódico): (-0.0096, 0.0311)\n"
     ]
    }
   ],
   "source": [
    "import pandas as pd\n",
    "import numpy as np\n",
    "from scipy.optimize import minimize\n",
    "\n",
    "data = pd.read_csv('Advertising.csv', index_col=0)\n",
    "\n",
    "X = data[['TV', 'radio', 'newspaper']].values\n",
    "y = data['sales'].values\n",
    "\n",
    "def suma_residuos_cuadrados(params, X, y):\n",
    "    y_pred = params[0] + np.dot(X, params[1:])\n",
    "    return np.sum((y - y_pred) ** 2)\n",
    "\n",
    "initial_params = [0, 0, 0, 0]\n",
    "\n",
    "result = minimize(suma_residuos_cuadrados, initial_params, args=(X, y), method='Nelder-Mead')\n",
    "\n",
    "coef = result.x\n",
    "\n",
    "y_pred = coef[0] + np.dot(X, coef[1:])\n",
    "ss_total = np.sum((y - np.mean(y))**2)\n",
    "ss_residual = np.sum((y - y_pred)**2)\n",
    "r_squared = 1 - (ss_residual / ss_total)\n",
    "\n",
    "print(\"Coeficientes estimados:\")\n",
    "print(f\"β₀ (Intercepto): {coef[0]:.4f}\")\n",
    "print(f\"β₁ (TV): {coef[1]:.4f}\")\n",
    "print(f\"β₂ (Radio): {coef[2]:.4f}\")\n",
    "print(f\"β₃ (Periódico): {coef[3]:.4f}\")\n",
    "print(f\"\\nR-cuadrado: {r_squared:.4f}\")\n",
    "\n",
    "def bootstrap_sample(X, y):\n",
    "    indices = np.random.randint(0, len(y), len(y))\n",
    "    return X[indices], y[indices]\n",
    "\n",
    "n_bootstraps = 1000\n",
    "bootstrap_coefs = np.zeros((n_bootstraps, 4))\n",
    "\n",
    "for i in range(n_bootstraps):\n",
    "    X_boot, y_boot = bootstrap_sample(X, y)\n",
    "    result_boot = minimize(suma_residuos_cuadrados, initial_params, args=(X_boot, y_boot), method='Nelder-Mead')\n",
    "    bootstrap_coefs[i] = result_boot.x\n",
    "\n",
    "conf_intervals = np.percentile(bootstrap_coefs, [2.5, 97.5], axis=0)\n",
    "\n",
    "print(\"\\nIntervalos de Confianza (95%):\")\n",
    "coef_names = ['β₀ (Intercepto)', 'β₁ (TV)', 'β₂ (Radio)', 'β₃ (Periódico)']\n",
    "for i, name in enumerate(coef_names):\n",
    "    print(f\"{name}: ({conf_intervals[0, i]:.4f}, {conf_intervals[1, i]:.4f})\")"
   ]
  },
  {
   "cell_type": "markdown",
   "id": "7f2c2714-b7f4-4e23-8499-3a191642d829",
   "metadata": {},
   "source": [
    "Calcula el RSS y RSE."
   ]
  },
  {
   "cell_type": "code",
   "execution_count": 161,
   "id": "d966bf7f-54bc-49b7-a362-7c4cbe5f20ac",
   "metadata": {},
   "outputs": [
    {
     "name": "stdout",
     "output_type": "stream",
     "text": [
      "Coeficientes estimados:\n",
      "β₀ (Intercepto): 2.9389\n",
      "β₁ (TV): 0.0458\n",
      "β₂ (Radio): 0.1885\n",
      "β₃ (Periódico): -0.0010\n",
      "\n",
      "R-cuadrado: 0.8972\n",
      "\n",
      "RSS: 556.8253\n",
      "RSE: 1.6855\n",
      "\n",
      "Intervalos de Confianza (95%):\n",
      "β₀ (Intercepto): (-0.3719, 3.4398)\n",
      "β₁ (TV): (0.0430, 0.0576)\n",
      "β₂ (Radio): (0.1737, 0.2410)\n",
      "β₃ (Periódico): (-0.0107, 0.0312)\n"
     ]
    }
   ],
   "source": [
    "import pandas as pd\n",
    "import numpy as np\n",
    "from scipy.optimize import minimize\n",
    "\n",
    "data = pd.read_csv('Advertising.csv', index_col=0)\n",
    "\n",
    "X = data[['TV', 'radio', 'newspaper']].values\n",
    "y = data['sales'].values\n",
    "\n",
    "def suma_residuos_cuadrados(params, X, y):\n",
    "    y_pred = params[0] + np.dot(X, params[1:])\n",
    "    return np.sum((y - y_pred) ** 2)\n",
    "\n",
    "initial_params = [0, 0, 0, 0]\n",
    "\n",
    "result = minimize(suma_residuos_cuadrados, initial_params, args=(X, y), method='Nelder-Mead')\n",
    "\n",
    "coef = result.x\n",
    "\n",
    "y_pred = coef[0] + np.dot(X, coef[1:])\n",
    "rss = np.sum((y - y_pred) ** 2)  \n",
    "n = len(y)  \n",
    "p = len(coef)  \n",
    "\n",
    "rse = np.sqrt(rss / (n - p))\n",
    "\n",
    "ss_total = np.sum((y - np.mean(y))**2)\n",
    "ss_residual = rss\n",
    "r_squared = 1 - (ss_residual / ss_total)\n",
    "\n",
    "print(\"Coeficientes estimados:\")\n",
    "print(f\"β₀ (Intercepto): {coef[0]:.4f}\")\n",
    "print(f\"β₁ (TV): {coef[1]:.4f}\")\n",
    "print(f\"β₂ (Radio): {coef[2]:.4f}\")\n",
    "print(f\"β₃ (Periódico): {coef[3]:.4f}\")\n",
    "print(f\"\\nR-cuadrado: {r_squared:.4f}\")\n",
    "\n",
    "print(f\"\\nRSS: {rss:.4f}\")\n",
    "print(f\"RSE: {rse:.4f}\")\n",
    "\n",
    "def bootstrap_sample(X, y):\n",
    "    indices = np.random.randint(0, len(y), len(y))\n",
    "    return X[indices], y[indices]\n",
    "\n",
    "n_bootstraps = 1000\n",
    "bootstrap_coefs = np.zeros((n_bootstraps, 4))\n",
    "\n",
    "for i in range(n_bootstraps):\n",
    "    X_boot, y_boot = bootstrap_sample(X, y)\n",
    "    result_boot = minimize(suma_residuos_cuadrados, initial_params, args=(X_boot, y_boot), method='Nelder-Mead')\n",
    "    bootstrap_coefs[i] = result_boot.x\n",
    "\n",
    "conf_intervals = np.percentile(bootstrap_coefs, [2.5, 97.5], axis=0)\n",
    "\n",
    "print(\"\\nIntervalos de Confianza (95%):\")\n",
    "coef_names = ['β₀ (Intercepto)', 'β₁ (TV)', 'β₂ (Radio)', 'β₃ (Periódico)']\n",
    "for i, name in enumerate(coef_names):\n",
    "    print(f\"{name}: ({conf_intervals[0, i]:.4f}, {conf_intervals[1, i]:.4f})\")\n"
   ]
  },
  {
   "cell_type": "markdown",
   "id": "ec0b0118-2799-4444-9dcf-692dfbe67df5",
   "metadata": {},
   "source": [
    "Dada tu matriz $X$ que contiene todos los factores como columnas, utiliza el siguiente código para encontrar el error estándar de tus estimaciones\n",
    "\n",
    "`var_beta = np.linalg.inv(X.T @ X) * rse**2`\n",
    "\n",
    "`std_beta = np.sqrt(var_beta.diagonal())`\n",
    "\n",
    "El orden de los valores corresponde al orden de los factores en las columnas de la matriz $X$."
   ]
  },
  {
   "cell_type": "code",
   "execution_count": 167,
   "id": "f3140322-742f-434d-8ea5-becd3d2a4984",
   "metadata": {},
   "outputs": [
    {
     "name": "stdout",
     "output_type": "stream",
     "text": [
      "Coeficientes estimados:\n",
      "β₀ (Intercepto): 2.9389\n",
      "β₁ (TV): 0.0458\n",
      "β₂ (Radio): 0.1885\n",
      "β₃ (Periódico): -0.0010\n",
      "\n",
      "RSS: 556.8253\n",
      "RSE: 1.6855\n",
      "\n",
      "Errores estándar de los coeficientes:\n",
      "Error estándar de β₀ (Intercepto): 0.3119\n",
      "Error estándar de β₁ (TV): 0.0014\n",
      "Error estándar de β₂ (Radio): 0.0086\n",
      "Error estándar de β₃ (Periódico): 0.0059\n",
      "\n",
      "Intervalos de Confianza (95%):\n",
      "β₀ (Intercepto): (-0.3745, 3.5114)\n",
      "β₁ (TV): (0.0426, 0.0576)\n",
      "β₂ (Radio): (0.1751, 0.2421)\n",
      "β₃ (Periódico): (-0.0100, 0.0320)\n"
     ]
    }
   ],
   "source": [
    "import pandas as pd\n",
    "import numpy as np\n",
    "from scipy.optimize import minimize\n",
    "\n",
    "data = pd.read_csv('Advertising.csv', index_col=0)\n",
    "\n",
    "X = data[['TV', 'radio', 'newspaper']].values\n",
    "X = np.column_stack((np.ones(X.shape[0]), X))  \n",
    "y = data['sales'].values\n",
    "\n",
    "def suma_residuos_cuadrados(params, X, y):\n",
    "    y_pred = params[0] + np.dot(X[:, 1:], params[1:])\n",
    "    return np.sum((y - y_pred) ** 2)\n",
    "\n",
    "initial_params = [0, 0, 0, 0]\n",
    "\n",
    "\n",
    "result = minimize(suma_residuos_cuadrados, initial_params, args=(X, y), method='Nelder-Mead')\n",
    "coef = result.x\n",
    "\n",
    "\n",
    "y_pred = np.dot(X, coef)  \n",
    "rss = np.sum((y - y_pred) ** 2)  \n",
    "n = len(y)  \n",
    "p = len(coef)  \n",
    "\n",
    "rse = np.sqrt(rss / (n - p))\n",
    "\n",
    "var_beta = np.linalg.inv(X.T @ X) * rse**2\n",
    "std_beta = np.sqrt(var_beta.diagonal())  \n",
    "\n",
    "ss_total = np.sum((y - np.mean(y))**2)\n",
    "ss_residual = rss\n",
    "r_squared = 1 - (ss_residual / ss_total)\n",
    "\n",
    "print(\"Coeficientes estimados:\")\n",
    "print(f\"β₀ (Intercepto): {coef[0]:.4f}\")\n",
    "print(f\"β₁ (TV): {coef[1]:.4f}\")\n",
    "print(f\"β₂ (Radio): {coef[2]:.4f}\")\n",
    "print(f\"β₃ (Periódico): {coef[3]:.4f}\")\n",
    "E\n",
    "print(f\"\\nRSS: {rss:.4f}\")\n",
    "print(f\"RSE: {rse:.4f}\")\n",
    "\n",
    "print(\"\\nErrores estándar de los coeficientes:\")\n",
    "print(f\"Error estándar de β₀ (Intercepto): {std_beta[0]:.4f}\")\n",
    "print(f\"Error estándar de β₁ (TV): {std_beta[1]:.4f}\")\n",
    "print(f\"Error estándar de β₂ (Radio): {std_beta[2]:.4f}\")\n",
    "print(f\"Error estándar de β₃ (Periódico): {std_beta[3]:.4f}\")\n",
    "\n",
    "def bootstrap_sample(X, y):\n",
    "    indices = np.random.randint(0, len(y), len(y))\n",
    "    return X[indices], y[indices]\n",
    "\n",
    "n_bootstraps = 1000\n",
    "bootstrap_coefs = np.zeros((n_bootstraps, 4))\n",
    "\n",
    "for i in range(n_bootstraps):\n",
    "    X_boot, y_boot = bootstrap_sample(X, y)\n",
    "    result_boot = minimize(suma_residuos_cuadrados, initial_params, args=(X_boot, y_boot), method='Nelder-Mead')\n",
    "    bootstrap_coefs[i] = result_boot.x\n",
    "\n",
    "conf_intervals = np.percentile(bootstrap_coefs, [2.5, 97.5], axis=0)\n",
    "\n",
    "\n",
    "print(\"\\nIntervalos de Confianza (95%):\")\n",
    "coef_names = ['β₀ (Intercepto)', 'β₁ (TV)', 'β₂ (Radio)', 'β₃ (Periódico)']\n",
    "for i, name in enumerate(coef_names):\n",
    "    print(f\"{name}: ({conf_intervals[0, i]:.4f}, {conf_intervals[1, i]:.4f})\")\n"
   ]
  },
  {
   "cell_type": "markdown",
   "id": "36c77f8b-b87e-41ae-a26e-bdb440ba82e9",
   "metadata": {},
   "source": [
    "Calcula los estadísticos t y *p-values* de tus estimaciones."
   ]
  },
  {
   "cell_type": "code",
   "execution_count": 171,
   "id": "37387105-358f-40d6-9ea0-de92b23f702e",
   "metadata": {},
   "outputs": [
    {
     "name": "stdout",
     "output_type": "stream",
     "text": [
      "Coeficientes estimados:\n",
      "β₀ (Intercepto): 2.9389\n",
      "β₁ (TV): 0.0458\n",
      "β₂ (Radio): 0.1885\n",
      "β₃ (Periódico): -0.0010\n",
      "\n",
      "RSS: 556.8253\n",
      "RSE: 1.6855\n",
      "\n",
      "Errores estándar de los coeficientes:\n",
      "Error estándar de β₀ (Intercepto): 0.3119\n",
      "Error estándar de β₁ (TV): 0.0014\n",
      "Error estándar de β₂ (Radio): 0.0086\n",
      "Error estándar de β₃ (Periódico): 0.0059\n",
      "\n",
      "Estadísticos t:\n",
      "t(Intercepto): 9.4224\n",
      "t(TV): 32.8086\n",
      "t(Radio): 21.8938\n",
      "t(Periódico): -0.1771\n",
      "\n",
      "p-values:\n",
      "p(Intercepto): 0.0000\n",
      "p(TV): 0.0000\n",
      "p(Radio): 0.0000\n",
      "p(Periódico): 0.8596\n",
      "\n",
      "Intervalos de Confianza (95%):\n",
      "β₀ (Intercepto): (-0.3640, 3.4589)\n",
      "β₁ (TV): (0.0430, 0.0574)\n",
      "β₂ (Radio): (0.1749, 0.2405)\n",
      "β₃ (Periódico): (-0.0096, 0.0313)\n"
     ]
    }
   ],
   "source": [
    "import pandas as pd\n",
    "import numpy as np\n",
    "from scipy.optimize import minimize\n",
    "from scipy import stats\n",
    "\n",
    "data = pd.read_csv('Advertising.csv', index_col=0)\n",
    "\n",
    "X = data[['TV', 'radio', 'newspaper']].values\n",
    "X = np.column_stack((np.ones(X.shape[0]), X))  \n",
    "y = data['sales'].values\n",
    "\n",
    "def suma_residuos_cuadrados(params, X, y):\n",
    "    y_pred = np.dot(X, params)  \n",
    "    return np.sum((y - y_pred) ** 2)\n",
    "\n",
    "initial_params = [0, 0, 0, 0]\n",
    "\n",
    "result = minimize(suma_residuos_cuadrados, initial_params, args=(X, y), method='Nelder-Mead')\n",
    "coef = result.x\n",
    "\n",
    "\n",
    "y_pred = np.dot(X, coef)  \n",
    "rss = np.sum((y - y_pred) ** 2)  \n",
    "n = len(y)  \n",
    "p = len(coef)  \n",
    "\n",
    "rse = np.sqrt(rss / (n - p))\n",
    "\n",
    "var_beta = np.linalg.inv(X.T @ X) * rse**2\n",
    "std_beta = np.sqrt(var_beta.diagonal()) \n",
    "\n",
    "ss_total = np.sum((y - np.mean(y))**2)\n",
    "ss_residual = rss\n",
    "r_squared = 1 - (ss_residual / ss_total)\n",
    "\n",
    "t_stats = coef / std_beta\n",
    "\n",
    "p_values = [2 * (1 - stats.t.cdf(np.abs(t), df=n - p)) for t in t_stats]  # Dos colas\n",
    "\n",
    "print(\"Coeficientes estimados:\")\n",
    "print(f\"β₀ (Intercepto): {coef[0]:.4f}\")\n",
    "print(f\"β₁ (TV): {coef[1]:.4f}\")\n",
    "print(f\"β₂ (Radio): {coef[2]:.4f}\")\n",
    "print(f\"β₃ (Periódico): {coef[3]:.4f}\")\n",
    "\n",
    "print(f\"\\nRSS: {rss:.4f}\")\n",
    "print(f\"RSE: {rse:.4f}\")\n",
    "\n",
    "print(\"\\nErrores estándar de los coeficientes:\")\n",
    "print(f\"Error estándar de β₀ (Intercepto): {std_beta[0]:.4f}\")\n",
    "print(f\"Error estándar de β₁ (TV): {std_beta[1]:.4f}\")\n",
    "print(f\"Error estándar de β₂ (Radio): {std_beta[2]:.4f}\")\n",
    "print(f\"Error estándar de β₃ (Periódico): {std_beta[3]:.4f}\")\n",
    "\n",
    "print(\"\\nEstadísticos t:\")\n",
    "print(f\"t(Intercepto): {t_stats[0]:.4f}\")\n",
    "print(f\"t(TV): {t_stats[1]:.4f}\")\n",
    "print(f\"t(Radio): {t_stats[2]:.4f}\")\n",
    "print(f\"t(Periódico): {t_stats[3]:.4f}\")\n",
    "\n",
    "print(\"\\np-values:\")\n",
    "print(f\"p(Intercepto): {p_values[0]:.4f}\")\n",
    "print(f\"p(TV): {p_values[1]:.4f}\")\n",
    "print(f\"p(Radio): {p_values[2]:.4f}\")\n",
    "print(f\"p(Periódico): {p_values[3]:.4f}\")\n",
    "\n",
    "def bootstrap_sample(X, y):\n",
    "    indices = np.random.randint(0, len(y), len(y))\n",
    "    return X[indices], y[indices]\n",
    "\n",
    "n_bootstraps = 1000\n",
    "bootstrap_coefs = np.zeros((n_bootstraps, 4))\n",
    "\n",
    "for i in range(n_bootstraps):\n",
    "    X_boot, y_boot = bootstrap_sample(X, y)\n",
    "    result_boot = minimize(suma_residuos_cuadrados, initial_params, args=(X_boot, y_boot), method='Nelder-Mead')\n",
    "    bootstrap_coefs[i] = result_boot.x\n",
    "\n",
    "conf_intervals = np.percentile(bootstrap_coefs, [2.5, 97.5], axis=0)\n",
    "\n",
    "print(\"\\nIntervalos de Confianza (95%):\")\n",
    "coef_names = ['β₀ (Intercepto)', 'β₁ (TV)', 'β₂ (Radio)', 'β₃ (Periódico)']\n",
    "for i, name in enumerate(coef_names):\n",
    "    print(f\"{name}: ({conf_intervals[0, i]:.4f}, {conf_intervals[1, i]:.4f})\")\n"
   ]
  },
  {
   "cell_type": "markdown",
   "id": "c72cd4fd-3670-47d8-84a0-4375bd6b0a81",
   "metadata": {},
   "source": [
    "¿Qué diferencias puedes observar entre los *p-values* de una regresión múltiple y los encontrados en regresiones simples? ¿Por qué crees que existen estas diferencias?"
   ]
  },
  {
   "cell_type": "markdown",
   "id": "c6c4d945-5a9c-462c-bd3c-446f01839ad6",
   "metadata": {},
   "source": [
    "**Número de Variables:**\n",
    "\n",
    "+ **Regresión Simple:** Una variable independiente, p-value directo sobre la relación con la dependiente.\n",
    "\n",
    "+ **Regresión Múltiple:** Múltiples variables independientes, p-values reflejan la significancia de cada variable en el contexto del modelo.\n",
    "\n",
    "**Interacción entre Variables:**\n",
    "\n",
    "+ En la regresión múltiple, la multicolinealidad puede hacer que una variable significativa en un modelo simple se vuelva no significativa al incluir otras variables.\n",
    "\n",
    "**Cambio en el Tamaño del Efecto:**\n",
    "\n",
    "+ Los coeficientes y p-values pueden cambiar al introducir variables adicionales, afectando la interpretación de la significancia.\n",
    "  \n",
    "**Ajuste del Modelo:**\n",
    "\n",
    "+ Las regresiones múltiples pueden ajustarse mejor a los datos, llevando a p-values más bajos, pero algunas variables pueden perder significancia."
   ]
  },
  {
   "cell_type": "markdown",
   "id": "25a0da9c-3867-41e7-a250-dfb926f7802c",
   "metadata": {},
   "source": []
  },
  {
   "cell_type": "markdown",
   "id": "b9ccba33-34eb-4a08-aa0e-a23e622fefa8",
   "metadata": {},
   "source": []
  },
  {
   "cell_type": "markdown",
   "id": "92356829-60cc-495f-9464-215c652cacf8",
   "metadata": {},
   "source": [
    "## Referencia\n",
    "\n",
    "James, G., Witten, D., Hastie, T., Tibshirani, R.,, Taylor, J. (2023). An Introduction to Statistical Learning with Applications in Python. Cham: Springer. ISBN: 978-3-031-38746-3"
   ]
  }
 ],
 "metadata": {
  "kernelspec": {
   "display_name": "Python 3 (ipykernel)",
   "language": "python",
   "name": "python3"
  },
  "language_info": {
   "codemirror_mode": {
    "name": "ipython",
    "version": 3
   },
   "file_extension": ".py",
   "mimetype": "text/x-python",
   "name": "python",
   "nbconvert_exporter": "python",
   "pygments_lexer": "ipython3",
   "version": "3.12.4"
  }
 },
 "nbformat": 4,
 "nbformat_minor": 5
}
