{
 "cells": [
  {
   "cell_type": "markdown",
   "id": "28086fca-2cdd-41ac-b7bf-bc1af9f759a2",
   "metadata": {
    "id": "28086fca-2cdd-41ac-b7bf-bc1af9f759a2"
   },
   "source": [
    "# Laboratorio: Métodos de búsqueda"
   ]
  },
  {
   "cell_type": "markdown",
   "id": "9e19abc1-82f0-4f28-9493-468e4227c14f",
   "metadata": {
    "id": "9e19abc1-82f0-4f28-9493-468e4227c14f"
   },
   "source": [
    "En las clases anteriores creaste códigos para realizar búsquedas aleatorias (Simulated Annealing) y búsquedas dirigidas (Optimización Bayesiana). Estos métodos de búsqueda se utilizan para facilitar el proceso de optimización de funciones objetivos compleja y costosas de computar."
   ]
  },
  {
   "cell_type": "markdown",
   "id": "038474ce-6e2f-4d45-895a-bb17f7c8871d",
   "metadata": {
    "id": "038474ce-6e2f-4d45-895a-bb17f7c8871d"
   },
   "source": [
    "En este laboratorio usaremos el dataset de los diferentes tipos de iris, y sus longitudes y anchos de pétalos y sépalos. Utilizaremos un RandomForest para crear un modelo de clasificación y el métrico F1 para decidir cuál es el mejor modelo de acuerdo a lo que tenemos disponible."
   ]
  },
  {
   "cell_type": "markdown",
   "id": "c04956ea-14f4-419e-adf8-add3b81da443",
   "metadata": {
    "id": "c04956ea-14f4-419e-adf8-add3b81da443"
   },
   "source": [
    "1. Carga el dataset de Iris"
   ]
  },
  {
   "cell_type": "code",
   "execution_count": 63,
   "id": "aad912f2-1359-437e-af68-3c8cca8d1b03",
   "metadata": {
    "executionInfo": {
     "elapsed": 851,
     "status": "ok",
     "timestamp": 1732052878679,
     "user": {
      "displayName": "Eliud Gamboa",
      "userId": "18164005834896390136"
     },
     "user_tz": 360
    },
    "id": "aad912f2-1359-437e-af68-3c8cca8d1b03"
   },
   "outputs": [],
   "source": [
    "from sklearn import datasets\n",
    "X, y = datasets.load_iris(return_X_y=True)"
   ]
  },
  {
   "cell_type": "markdown",
   "id": "9b97ad91-d82b-491c-ac5d-be6f872c5334",
   "metadata": {
    "id": "9b97ad91-d82b-491c-ac5d-be6f872c5334"
   },
   "source": [
    "2. Importa el archivo `Bosque.py`.\n",
    "\n",
    "Este archivo contiene la función `RegresionBosque`, que recibe:\n",
    "- X: las características independientes\n",
    "- y: la variable de respuesta\n",
    "- árboles: cantidad total de árboles\n",
    "- profundidad de bosque: niveles de profundidad del bosque\n",
    "\n",
    "Su salida es:\n",
    "- modelo: El objeto con el modelo ajustado\n",
    "- f1: El métrico que califica qué tan bueno es el modelo que se ajustó.\n"
   ]
  },
  {
   "cell_type": "code",
   "execution_count": 65,
   "id": "23f875f1-a72a-4a57-8355-16d6bb9fb33a",
   "metadata": {
    "colab": {
     "base_uri": "https://localhost:8080/"
    },
    "executionInfo": {
     "elapsed": 1637,
     "status": "ok",
     "timestamp": 1732052880609,
     "user": {
      "displayName": "Eliud Gamboa",
      "userId": "18164005834896390136"
     },
     "user_tz": 360
    },
    "id": "23f875f1-a72a-4a57-8355-16d6bb9fb33a",
    "outputId": "73f0aa3b-b376-4cf4-910e-edfdf9a2e647"
   },
   "outputs": [
    {
     "data": {
      "text/plain": [
       "0.9444444444444444"
      ]
     },
     "execution_count": 65,
     "metadata": {},
     "output_type": "execute_result"
    }
   ],
   "source": [
    "import Bosque\n",
    "import numpy as np\n",
    "import matplotlib.pyplot as plt\n",
    "\n",
    "modelo, f1 = Bosque.RegresionBosque(X, y, 10, 3)\n",
    "\n",
    "f1"
   ]
  },
  {
   "cell_type": "markdown",
   "id": "15ac2825-33ac-4919-9ccb-8324701ce99f",
   "metadata": {
    "id": "15ac2825-33ac-4919-9ccb-8324701ce99f"
   },
   "source": [
    "### Actividad 1:"
   ]
  },
  {
   "cell_type": "markdown",
   "id": "a8eb265f-9ccf-4fb4-b8c0-8fe221ea534c",
   "metadata": {
    "id": "a8eb265f-9ccf-4fb4-b8c0-8fe221ea534c"
   },
   "source": [
    "Inicializa un espacio con 5 muestras en nuestro dominio de variables independientes:\n",
    "- árboles: números enteros entre 5 y 50.\n",
    "- profundidad: números enteros entre 2 y 10"
   ]
  },
  {
   "cell_type": "markdown",
   "id": "1ed7c396-af97-49a6-828e-c5d63c1b6999",
   "metadata": {
    "id": "1ed7c396-af97-49a6-828e-c5d63c1b6999"
   },
   "source": [
    "Utiliza optimización Bayesiana para encontrar la combinación de árboles y profundidad que **maximice** el métrico F1."
   ]
  },
  {
   "cell_type": "code",
   "execution_count": 80,
   "id": "de00bcfe-9350-4954-80f6-1ea060276da1",
   "metadata": {
    "colab": {
     "base_uri": "https://localhost:8080/",
     "height": 598
    },
    "executionInfo": {
     "elapsed": 13184,
     "status": "ok",
     "timestamp": 1732052904055,
     "user": {
      "displayName": "Eliud Gamboa",
      "userId": "18164005834896390136"
     },
     "user_tz": 360
    },
    "id": "de00bcfe-9350-4954-80f6-1ea060276da1",
    "outputId": "ef1ae05b-5ce2-478a-d31c-1195a48381df"
   },
   "outputs": [
    {
     "data": {
      "text/plain": [
       "array([0.95555556, 0.95555556, 0.93333333, 0.95555556, 0.95555556,\n",
       "       0.93333333, 0.95555556, 0.95555556, 0.95555556, 0.95555556,\n",
       "       0.94444444, 0.95555556, 0.94444444, 0.93333333, 0.93333333])"
      ]
     },
     "execution_count": 80,
     "metadata": {},
     "output_type": "execute_result"
    }
   ],
   "source": [
    "import numpy as np\n",
    "from sklearn.gaussian_process import GaussianProcessRegressor\n",
    "from sklearn.gaussian_process.kernels import RBF\n",
    "\n",
    "arboles = np.random.randint(5, 51, 5).reshape(-1, 1)  \n",
    "profundidad = np.random.randint(2, 11, 5).reshape(-1, 1)  \n",
    "\n",
    "X_hyper = np.hstack((arboles, profundidad))  \n",
    "valores_z = []\n",
    "\n",
    "\n",
    "for i in range(len(arboles)):\n",
    "    modelo, resultado = Bosque.RegresionBosque(X, y, int(arboles[i][0]), int(profundidad[i][0]))\n",
    "    valores_z.append(resultado)\n",
    "\n",
    "valores_z = np.array(valores_z)\n",
    "\n",
    "n_iteraciones = 10\n",
    "kernel = 1.0 * RBF(length_scale=1.0)\n",
    "\n",
    "for i in range(n_iteraciones):\n",
    "    \n",
    "    gp = GaussianProcessRegressor(kernel=kernel, n_restarts_optimizer=10).fit(X_hyper, valores_z)\n",
    "    \n",
    "    x_tree = np.linspace(5, 50, 1000).reshape(-1, 1)\n",
    "    x_profundidad = np.linspace(2, 10, 1000).reshape(-1, 1)\n",
    "    x_hyper = np.hstack((x_tree, x_profundidad))\n",
    "    \n",
    "    y_pred, y_std = gp.predict(x_hyper, return_std=True)\n",
    "    y_pred_upper = y_pred + 1.96 * y_std  \n",
    "    \n",
    "    i_next = np.argmax(y_pred_upper)\n",
    "    siguiente_hyper = x_hyper[i_next]\n",
    "    \n",
    "    modelo, nuevo_valor = Bosque.RegresionBosque(X, y, int(siguiente_hyper[0]), int(siguiente_hyper[1]))\n",
    "    X_hyper = np.vstack((X_hyper, siguiente_hyper))  s\n",
    "    valores_z = np.hstack((valores_z, nuevo_valor))  \n",
    "\n",
    "\n",
    "valores_z\n",
    "\n",
    "\n",
    "\n"
   ]
  },
  {
   "cell_type": "code",
   "execution_count": 84,
   "id": "0b3f5727-2b62-4310-82e6-d9608cd22728",
   "metadata": {},
   "outputs": [
    {
     "data": {
      "text/plain": [
       "0.9555555555555556"
      ]
     },
     "execution_count": 84,
     "metadata": {},
     "output_type": "execute_result"
    }
   ],
   "source": [
    "valores_z.max()"
   ]
  },
  {
   "cell_type": "markdown",
   "id": "5e083a3c-fa68-4942-b5d3-f1f7130b4fbb",
   "metadata": {
    "id": "5e083a3c-fa68-4942-b5d3-f1f7130b4fbb"
   },
   "source": [
    "### Actividad 2:"
   ]
  },
  {
   "cell_type": "markdown",
   "id": "2817a47c-0081-4376-b222-c65735f4ab9d",
   "metadata": {
    "id": "2817a47c-0081-4376-b222-c65735f4ab9d"
   },
   "source": [
    "Inicializa 2 vectores con posibles valores para las variables independientes:\n",
    "- árboles: números enteros entre 5 y 50\n",
    "- profundidad: números enteros entre 2 y 10\n",
    "\n",
    "Utiliza el algoritmo de Simulated Annealing que siga el siguiente orden:\n",
    "- Elige un punto de partida para las variables.\n",
    "- Selecciona al azar una de las dos para modificarlas.\n",
    "- Selecciona un elemento al azar de la lista que contiene los posibles valores de esa variable.\n",
    "- Sigue el algoritmo ($p$ y $q$) para decidir si usas esa combinación nueva o si mantienes la anterior."
   ]
  },
  {
   "cell_type": "code",
   "execution_count": 95,
   "id": "e6286fe8-ec56-4871-9c31-8d4d3ca4c0ae",
   "metadata": {
    "executionInfo": {
     "elapsed": 2,
     "status": "ok",
     "timestamp": 1732052934995,
     "user": {
      "displayName": "Eliud Gamboa",
      "userId": "18164005834896390136"
     },
     "user_tz": 360
    },
    "id": "e6286fe8-ec56-4871-9c31-8d4d3ca4c0ae"
   },
   "outputs": [],
   "source": [
    "\n",
    "valores_arboles = [i + 5 for i in range(46)]  \n",
    "arreglo_arboles = np.array(valores_arboles).reshape([-1, 1])  \n",
    "arreglo_profundidades = np.array([2, 3, 4, 5, 6, 7, 8, 9, 10]).reshape([-1, 1])  \n",
    "temperatura = 1 \n",
    "\n",
    "def generar_vector():\n",
    "    arbol = arreglo_arboles[np.random.randint(len(arreglo_arboles))][0]\n",
    "    profundidad = arreglo_profundidades[np.random.randint(len(arreglo_profundidades))][0]\n",
    "    return np.array([arbol, profundidad])\n",
    "\n",
    "vector_actual = generar_vector()\n",
    "\n",
    "\n",
    "def actualizar_vector(vector_entrada):\n",
    "    vector_temporal = vector_entrada.copy()\n",
    "    indice_a_modificar = np.random.choice([0, 1])  \n",
    "\n",
    "    if indice_a_modificar == 0:\n",
    "        vector_temporal[0] = arreglo_arboles[np.random.randint(len(arreglo_arboles))][0]\n",
    "    else:\n",
    "        vector_temporal[1] = arreglo_profundidades[np.random.randint(len(arreglo_profundidades))][0]\n",
    "\n",
    "    _, d1 = Bosque.RegresionBosque(X, y, vector_entrada[0], vector_entrada[1])\n",
    "    _, d2 = Bosque.RegresionBosque(X, y, vector_temporal[0], vector_temporal[1])\n",
    "\n",
    "    def calcular_probabilidad(delta1, delta2, temp):\n",
    "        return np.exp((delta1 - delta2) / temp)\n",
    "\n",
    "    q = calcular_probabilidad(d1, d2, temperatura)\n",
    "    valor_random = np.random.rand() * 1.4\n",
    "\n",
    "    if valor_random < q:\n",
    "        return vector_temporal\n",
    "    else:\n",
    "        return vector_entrada\n",
    "\n",
    "def aplicar_actualizaciones(vector, iteraciones):\n",
    "    for _ in range(iteraciones):\n",
    "        vector = actualizar_vector(vector)\n",
    "    return vector\n",
    "\n",
    "def recocido_simulado(temp, iteraciones):\n",
    "    vector = generar_vector()\n",
    "    while temp > 1:\n",
    "        for _ in range(iteraciones):\n",
    "            vector = aplicar_actualizaciones(vector, iteraciones)\n",
    "        temp *= 0.9  \n",
    "    return vector\n",
    "\n",
    "def simulacion_final(temp, ciclos_max, iteraciones):\n",
    "    resultados = []\n",
    "    modelos = []\n",
    "    for _ in range(ciclos_max):\n",
    "        for _ in range(iteraciones):\n",
    "            vector_final = recocido_simulado(temp, iteraciones)\n",
    "            _, resultado = Bosque.RegresionBosque(X, y, vector_final[0], vector_final[1])\n",
    "            modelos.append(vector_final)\n",
    "            resultados.append(resultado)\n",
    "    return resultados, modelos\n",
    "\n",
    "\n",
    "ciclos_maximos = 4\n",
    "iteraciones_por_ciclo = 4\n",
    "resultados_finales, modelos_finales = simulacion_final(temperatura, ciclos_maximos, iteraciones_por_ciclo)\n",
    "\n"
   ]
  },
  {
   "cell_type": "code",
   "execution_count": 92,
   "id": "239fa243-bd6d-4ec4-860a-2eae65cea710",
   "metadata": {
    "executionInfo": {
     "elapsed": 3,
     "status": "ok",
     "timestamp": 1732052934996,
     "user": {
      "displayName": "Eliud Gamboa",
      "userId": "18164005834896390136"
     },
     "user_tz": 360
    },
    "id": "239fa243-bd6d-4ec4-860a-2eae65cea710"
   },
   "outputs": [
    {
     "data": {
      "text/plain": [
       "0.9555555555555556"
      ]
     },
     "execution_count": 92,
     "metadata": {},
     "output_type": "execute_result"
    }
   ],
   "source": [
    "np.max(np.array(resultados_finales))"
   ]
  },
  {
   "cell_type": "code",
   "execution_count": 114,
   "id": "00442559-60d2-440a-9ba0-5217ea775ac7",
   "metadata": {
    "executionInfo": {
     "elapsed": 2,
     "status": "ok",
     "timestamp": 1732052934996,
     "user": {
      "displayName": "Eliud Gamboa",
      "userId": "18164005834896390136"
     },
     "user_tz": 360
    },
    "id": "00442559-60d2-440a-9ba0-5217ea775ac7"
   },
   "outputs": [],
   "source": []
  }
 ],
 "metadata": {
  "colab": {
   "provenance": []
  },
  "kernelspec": {
   "display_name": "Python 3 (ipykernel)",
   "language": "python",
   "name": "python3"
  },
  "language_info": {
   "codemirror_mode": {
    "name": "ipython",
    "version": 3
   },
   "file_extension": ".py",
   "mimetype": "text/x-python",
   "name": "python",
   "nbconvert_exporter": "python",
   "pygments_lexer": "ipython3",
   "version": "3.12.4"
  }
 },
 "nbformat": 4,
 "nbformat_minor": 5
}
