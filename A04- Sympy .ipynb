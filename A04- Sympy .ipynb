{
 "cells": [
  {
   "cell_type": "markdown",
   "id": "afb96836-49c3-4d6e-a163-0dbb7b592242",
   "metadata": {},
   "source": [
    "Diego Yael Islas Santoyo 29/08/2024"
   ]
  },
  {
   "cell_type": "markdown",
   "id": "0354b1c1-346a-46dc-b165-3e17744e0985",
   "metadata": {},
   "source": [
    "# Sympy"
   ]
  },
  {
   "cell_type": "markdown",
   "id": "394fd426-0a73-4b49-aee2-36843c17e90a",
   "metadata": {},
   "source": [
    "Utiliza sympy y encuentra los valores de las incógnitas que hagan que los siguientes sistemas de ecuaciones sean verdaderos:"
   ]
  },
  {
   "cell_type": "markdown",
   "id": "20e38618-edb8-46b5-ae55-a2f94cc21b6f",
   "metadata": {},
   "source": [
    "$$ x + y = 10$$\n",
    "$$ x-y = 2 $$ "
   ]
  },
  {
   "cell_type": "code",
   "execution_count": 5,
   "id": "9ac6dd3e-5fad-407b-acc1-485c50d26b71",
   "metadata": {},
   "outputs": [
    {
     "ename": "ModuleNotFoundError",
     "evalue": "No module named 'sympy'",
     "output_type": "error",
     "traceback": [
      "\u001b[0;31m---------------------------------------------------------------------------\u001b[0m",
      "\u001b[0;31mModuleNotFoundError\u001b[0m                       Traceback (most recent call last)",
      "Cell \u001b[0;32mIn[5], line 1\u001b[0m\n\u001b[0;32m----> 1\u001b[0m \u001b[38;5;28;01mimport\u001b[39;00m \u001b[38;5;21;01msympy\u001b[39;00m \u001b[38;5;28;01mas\u001b[39;00m \u001b[38;5;21;01msp\u001b[39;00m\n\u001b[1;32m      2\u001b[0m \u001b[38;5;28;01mimport\u001b[39;00m \u001b[38;5;21;01mnumpy\u001b[39;00m \u001b[38;5;28;01mas\u001b[39;00m \u001b[38;5;21;01mnp\u001b[39;00m\n\u001b[1;32m      3\u001b[0m \u001b[38;5;28;01mimport\u001b[39;00m \u001b[38;5;21;01mmatplotlib\u001b[39;00m\u001b[38;5;21;01m.\u001b[39;00m\u001b[38;5;21;01mpyplot\u001b[39;00m \u001b[38;5;28;01mas\u001b[39;00m \u001b[38;5;21;01mplt\u001b[39;00m\n",
      "\u001b[0;31mModuleNotFoundError\u001b[0m: No module named 'sympy'"
     ]
    }
   ],
   "source": [
    "import sympy as sp\n",
    "import numpy as np\n",
    "import matplotlib.pyplot as plt\n",
    "sp.var('x')\n",
    "sp.var('y')\n",
    "sp.var('z')\n",
    "Eq1 = sp.Eq(x + y,10)\n",
    "Eq2 = sp.Eq(x-y,2)\n",
    "Sol = sp.solve((Eq1,Eq2),(x,y))\n",
    "print(Sol)\n"
   ]
  },
  {
   "cell_type": "markdown",
   "id": "421d009e-7ceb-4d9e-a7c2-fda340e7f879",
   "metadata": {},
   "source": [
    "$$ \\frac{3x-2y}{3} + 4y = \\frac{13}{3} $$\n",
    "$$ \\frac{2(-2y + x)}{3} - \\frac{3x}{2} = -\\frac{13}{6}$$"
   ]
  },
  {
   "cell_type": "code",
   "execution_count": null,
   "id": "fd7bc58c-8bd5-4f96-9cc9-2b595824e074",
   "metadata": {},
   "outputs": [
    {
     "name": "stdout",
     "output_type": "stream",
     "text": [
      "{x: 1.00000000000000, y: 1.00000000000000}\n"
     ]
    }
   ],
   "source": [
    "Eq3 = sp.Eq((3*x-2*y)/3 + 4*y,13/3)\n",
    "Eq4 = sp.Eq((2*(-2*y+x))/3-3*x/2,-13/6)\n",
    "Sol2 = sp.solve((Eq3,Eq4),(x,y))\n",
    "print(Sol2)"
   ]
  },
  {
   "cell_type": "markdown",
   "id": "8ef5620a-6697-4c29-aae5-00d4a2b3c886",
   "metadata": {},
   "source": [
    "$$ x^2 - 2y = 16$$\n",
    "$$ x-y = 3 $$ "
   ]
  },
  {
   "cell_type": "code",
   "execution_count": null,
   "id": "10efc4aa-08fc-4c9b-90dd-ff25d7f1b735",
   "metadata": {},
   "outputs": [
    {
     "name": "stdout",
     "output_type": "stream",
     "text": [
      "[(1 - sqrt(11), -sqrt(11) - 2), (1 + sqrt(11), -2 + sqrt(11))]\n"
     ]
    }
   ],
   "source": [
    "Eq5 = sp.Eq((x**2) - 2*y,16)\n",
    "Eq6 = sp.Eq(x-y,3)\n",
    "Sol3 = sp.solve((Eq5,Eq6),(x,y))\n",
    "print(Sol3)"
   ]
  },
  {
   "cell_type": "markdown",
   "id": "8d80271f-4fe3-47e0-a8bb-2f630e87adcd",
   "metadata": {},
   "source": [
    "$$ x + y - z = 10$$\n",
    "$$ x-y = 2 $$ \n",
    "$$ y + z = -2 $$"
   ]
  },
  {
   "cell_type": "code",
   "execution_count": null,
   "id": "3c7c7d91-f421-4b27-b1e9-fdf088071cd5",
   "metadata": {},
   "outputs": [
    {
     "name": "stdout",
     "output_type": "stream",
     "text": [
      "{x: 4, y: 2, z: -4}\n"
     ]
    }
   ],
   "source": [
    "Eq7 = sp.Eq(x + y - z,10)\n",
    "Eq8 = sp.Eq(x-y,2)\n",
    "Eq9 = sp.Eq(y+z,-2)\n",
    "Sol4 = sp.solve((Eq7,Eq8,Eq9),(x,y,z))\n",
    "print(Sol4)"
   ]
  },
  {
   "cell_type": "markdown",
   "id": "7c06d95e-52a1-445c-96b5-48274706df47",
   "metadata": {},
   "source": [
    "Encuentra los puntos críticos usando cálculo diferencial, decide si son máximos o mínimos usando el criterio de la segunda derivada, y grafica para decidir se son óptimos locales o globales:"
   ]
  },
  {
   "cell_type": "markdown",
   "id": "863b9c4a-ea46-41eb-9637-a39de2886952",
   "metadata": {},
   "source": [
    "$$ f(x) = 1235 +113x-6x^2 $$"
   ]
  },
  {
   "cell_type": "code",
   "execution_count": null,
   "id": "b9074e76-2f9b-4856-8a8b-79a92306a3cc",
   "metadata": {},
   "outputs": [
    {
     "ename": "ModuleNotFoundError",
     "evalue": "No module named 'sympy'",
     "output_type": "error",
     "traceback": [
      "\u001b[0;31m---------------------------------------------------------------------------\u001b[0m",
      "\u001b[0;31mModuleNotFoundError\u001b[0m                       Traceback (most recent call last)",
      "Cell \u001b[0;32mIn[4], line 1\u001b[0m\n\u001b[0;32m----> 1\u001b[0m \u001b[38;5;28;01mimport\u001b[39;00m \u001b[38;5;21;01msympy\u001b[39;00m \u001b[38;5;28;01mas\u001b[39;00m \u001b[38;5;21;01msp\u001b[39;00m\n\u001b[1;32m      2\u001b[0m \u001b[38;5;28;01mimport\u001b[39;00m \u001b[38;5;21;01mnumpy\u001b[39;00m \u001b[38;5;28;01mas\u001b[39;00m \u001b[38;5;21;01mnp\u001b[39;00m\n\u001b[1;32m      3\u001b[0m \u001b[38;5;28;01mimport\u001b[39;00m \u001b[38;5;21;01mmatplotlib\u001b[39;00m\u001b[38;5;21;01m.\u001b[39;00m\u001b[38;5;21;01mpyplot\u001b[39;00m \u001b[38;5;28;01mas\u001b[39;00m \u001b[38;5;21;01mplt\u001b[39;00m\n",
      "\u001b[0;31mModuleNotFoundError\u001b[0m: No module named 'sympy'"
     ]
    }
   ],
   "source": [
    "\n",
    "def f(x):\n",
    "    return 1235 + 113 * x - 6 * x**2\n",
    "\n",
    "df = sp.diff(f(x), x)\n",
    "pc = sp.solve(df, x)\n",
    "pc = [p.evalf() for p in pc if -10 <= p.evalf() <= 10]\n",
    "d2f = sp.diff(df, x)\n",
    "for p in pc:\n",
    "    d2f_value = d2f.subs(x, p)\n",
    "    if d2f_value > 0:\n",
    "        print(f\"En x = {p:.2f}: Es un mínimo\")\n",
    "    elif d2f_value == 0:\n",
    "        print(f\"En x = {p:.2f}: No se puede determinar (punto de inflexión)\")\n",
    "    else:\n",
    "        print(f\"En x = {p:.2f}: Es un máximo\")\n",
    "\n",
    "x_vals = np.linspace(-10, 10, 100)\n",
    "y_vals = [f(val) for val in x_vals]\n",
    "\n",
    "plt.figure(figsize=(6, 4))\n",
    "plt.plot(x_vals, y_vals, label=r'$f(x) = 1235 + 113x - 6x^2$')\n",
    "plt.axhline(0, color='black', linewidth=0.5)  # Eje x\n",
    "plt.axvline(0, color='black', linewidth=0.5)  # Eje y\n",
    "plt.grid(True)\n",
    "\n",
    "plt.title('Gráfico de f(x)')\n",
    "plt.xlabel('x')\n",
    "plt.ylabel('f(x)')\n",
    "plt.legend()\n",
    "\n",
    "for p in pc:\n",
    "    plt.plot(p, f(p), \"*r\", label=f'Punto crítico en x = {p:.2f}')\n",
    "\n",
    "plt.show()\n",
    "\n"
   ]
  },
  {
   "cell_type": "markdown",
   "id": "86bc4fcb-8bf1-4271-953f-e8f156bad6e3",
   "metadata": {},
   "source": [
    "$$g(x) = -3 + x + \\frac{\\pi}{x}, x>0 $$"
   ]
  },
  {
   "cell_type": "code",
   "execution_count": 6,
   "id": "1e4f4fae-7939-467d-9262-23b24f74d52e",
   "metadata": {},
   "outputs": [
    {
     "ename": "NameError",
     "evalue": "name 'sp' is not defined",
     "output_type": "error",
     "traceback": [
      "\u001b[0;31m---------------------------------------------------------------------------\u001b[0m",
      "\u001b[0;31mNameError\u001b[0m                                 Traceback (most recent call last)",
      "Cell \u001b[0;32mIn[6], line 1\u001b[0m\n\u001b[0;32m----> 1\u001b[0m pi \u001b[38;5;241m=\u001b[39m \u001b[43msp\u001b[49m\u001b[38;5;241m.\u001b[39mpi\n\u001b[1;32m      2\u001b[0m \u001b[38;5;28;01mdef\u001b[39;00m \u001b[38;5;21mg\u001b[39m(x):\n\u001b[1;32m      3\u001b[0m     \u001b[38;5;28;01mreturn\u001b[39;00m \u001b[38;5;241m-\u001b[39m\u001b[38;5;241m3\u001b[39m \u001b[38;5;241m+\u001b[39m x \u001b[38;5;241m+\u001b[39m pi \u001b[38;5;241m/\u001b[39m x\n",
      "\u001b[0;31mNameError\u001b[0m: name 'sp' is not defined"
     ]
    }
   ],
   "source": [
    "pi = sp.pi\n",
    "def g(x):\n",
    "    return -3 + x + pi / x\n",
    "\n",
    "dg = sp.diff(g(x), x)\n",
    "pc1 = sp.solve(dg, x)\n",
    "pc1 = [p.evalf() for p in pc1 if p.evalf() > 0]\n",
    "d2g = sp.diff(dg, x)\n",
    "\n",
    "for pc in pc1:\n",
    "    d2g_value = d2g.subs(x, pc)\n",
    "    if d2g_value > 0:\n",
    "        print(f\"En x = {pc:.2f}: Es un mínimo\")\n",
    "    elif d2g_value == 0:\n",
    "        print(f\"En x = {pc:.2f}: No se puede determinar (punto de inflexión)\")\n",
    "    else:\n",
    "        print(f\"En x = {pc:.2f}: Es un máximo\")\n",
    "\n",
    "\n",
    "x_vals = np.linspace(0.5, 2, 100)  \n",
    "y_vals = [g(val) for val in x_vals]\n",
    "\n",
    "plt.figure(figsize=(6, 4))\n",
    "plt.plot(x_vals, y_vals, label=r'$g(x) = -3 + x + \\frac{\\pi}{x}$')\n",
    "plt.axhline(0, color='black', linewidth=0.5)  # Eje x\n",
    "plt.axvline(0, color='black', linewidth=0.5)  # Eje y\n",
    "plt.grid(True)\n",
    "\n",
    "plt.title('Gráfico de g(x)')\n",
    "plt.xlabel('x')\n",
    "plt.ylabel('g(x)')\n",
    "plt.legend()\n",
    "\n",
    "for pc in pc1:\n",
    "    plt.plot(pc, g(pc), \"*r\", label=f'Punto crítico en x = {pc:.2f}')\n",
    "\n",
    "plt.show()"
   ]
  },
  {
   "cell_type": "markdown",
   "id": "10f20757-8047-4d78-b9db-804704217c2d",
   "metadata": {},
   "source": [
    "$$ f(x) = 2-3x + \\sqrt{8-2x^2} , -2<= x <= 2 $$"
   ]
  },
  {
   "cell_type": "code",
   "execution_count": null,
   "id": "34ccdcba-cdf2-460d-b1fd-8c79a2721c32",
   "metadata": {},
   "outputs": [],
   "source": [
    "def h(x):\n",
    "    return 2 - 3 * x + sp.sqrt(8 - 2 * x**2)\n",
    "dh = sp.diff(h(x), x)\n",
    "pc2 = sp.solve(dh, x)\n",
    "pc2 = [p.evalf() for p in pc2 if -2 <= p.evalf() <= 2]\n",
    "d2h = sp.diff(dh, x)\n",
    "\n",
    "for pc in pc2:\n",
    "    d2h_value = d2h.subs(x, pc)\n",
    "    if d2h_value > 0:\n",
    "        print(f\"En x = {pc:.2f}: Es un mínimo\")\n",
    "    elif d2h_value == 0:\n",
    "        print(f\"En x = {pc:.2f}: No se puede determinar (punto de inflexión)\")\n",
    "    else:\n",
    "        print(f\"En x = {pc:.2f}: Es un máximo\")\n",
    "\n",
    "x_vals = np.linspace(-2, 2, 100)\n",
    "y_vals = [h(val) for val in x_vals]\n",
    "\n",
    "\n",
    "plt.figure(figsize=(6, 4))\n",
    "plt.plot(x_vals, y_vals, label=r'$h(x) = 2 - 3x + \\sqrt{8 - 2x^2}$')\n",
    "plt.axhline(0, color='black', linewidth=0.5)  # Eje x\n",
    "plt.axvline(0, color='black', linewidth=0.5)  # Eje y\n",
    "plt.grid(True)\n",
    "\n",
    "plt.title('Gráfico de h(x)')\n",
    "plt.xlabel('x')\n",
    "plt.ylabel('h(x)')\n",
    "plt.legend()\n",
    "\n",
    "\n",
    "for pc in pc2:\n",
    "    plt.plot(pc, h(pc), \"*r\", label=f'Punto crítico en x = {pc:.2f}')\n",
    "\n",
    "plt.show()"
   ]
  },
  {
   "cell_type": "markdown",
   "id": "8e778cd3",
   "metadata": {},
   "source": [
    "$$ f(x) = \\frac{1}{4}x^4 + \\frac{1}{3}x^3-x^2, [-3,1.7] $$"
   ]
  },
  {
   "cell_type": "code",
   "execution_count": null,
   "id": "19cd8ef4",
   "metadata": {},
   "outputs": [],
   "source": [
    "def k(x):\n",
    "    return 1/4*x**4+1/3*x**3-x**2\n",
    "dk = sp.diff(k(x), x)\n",
    "pc3 = sp.solve(dk, x)\n",
    "pc3 = [p.evalf() for p in pc3 if -3 <= p.evalf() <= 1.7]\n",
    "d2k = sp.diff(dk, x)\n",
    "\n",
    "for pc in pc3:\n",
    "    d2k_value = d2k.subs(x, pc)\n",
    "    if d2k_value > 0:\n",
    "        print(f\"En x = {pc:.2f}: Es un mínimo\")\n",
    "    elif d2k_value == 0:\n",
    "        print(f\"En x = {pc:.2f}: No se puede determinar (punto de inflexión)\")\n",
    "    else:\n",
    "        print(f\"En x = {pc:.2f}: Es un máximo\")\n",
    "\n",
    "x_vals = np.linspace(-2, 2, 100)\n",
    "y_vals = [k(val) for val in x_vals]\n",
    "\n",
    "\n",
    "plt.figure(figsize=(6, 4))\n",
    "plt.plot(x_vals, y_vals, label=r'$k(x) =\\frac{1}{4}x^4 + \\frac{1}{3}x^3-x^2$')\n",
    "plt.axhline(0, color='black', linewidth=0.5)  # Eje x\n",
    "plt.axvline(0, color='black', linewidth=0.5)  # Eje y\n",
    "plt.grid(True)\n",
    "\n",
    "plt.title('Gráfico de k(x)')\n",
    "plt.xlabel('x')\n",
    "plt.ylabel('k(x)')\n",
    "plt.legend()\n",
    "\n",
    "\n",
    "for pc in pc2:\n",
    "    plt.plot(pc, k(pc), \"*r\", label=f'Punto crítico en x = {pc:.2f}')\n",
    "\n",
    "plt.show()"
   ]
  },
  {
   "cell_type": "code",
   "execution_count": null,
   "id": "43b694f2-3dcb-4ba7-8b95-3515eac6f568",
   "metadata": {},
   "outputs": [],
   "source": []
  },
  {
   "cell_type": "code",
   "execution_count": null,
   "id": "ad58cbb8-1032-430e-a3ee-476c70edfabe",
   "metadata": {},
   "outputs": [],
   "source": []
  },
  {
   "cell_type": "code",
   "execution_count": null,
   "id": "68545711-b65c-42ef-9ac4-a7284bf297f0",
   "metadata": {},
   "outputs": [],
   "source": []
  },
  {
   "cell_type": "code",
   "execution_count": null,
   "id": "55c9d513-976e-42f6-89fc-3ded88c49b0d",
   "metadata": {},
   "outputs": [],
   "source": []
  },
  {
   "cell_type": "code",
   "execution_count": null,
   "id": "d0398925-4089-4b62-ae1e-17b8568ed76d",
   "metadata": {},
   "outputs": [],
   "source": []
  },
  {
   "cell_type": "code",
   "execution_count": null,
   "id": "d83407a4-0979-438f-9e5b-7fc703e73411",
   "metadata": {},
   "outputs": [],
   "source": []
  },
  {
   "cell_type": "code",
   "execution_count": null,
   "id": "7eb73f66-0162-4676-b864-fa5341580e1d",
   "metadata": {},
   "outputs": [],
   "source": []
  }
 ],
 "metadata": {
  "kernelspec": {
   "display_name": "Python 3 (ipykernel)",
   "language": "python",
   "name": "python3"
  },
  "language_info": {
   "codemirror_mode": {
    "name": "ipython",
    "version": 3
   },
   "file_extension": ".py",
   "mimetype": "text/x-python",
   "name": "python",
   "nbconvert_exporter": "python",
   "pygments_lexer": "ipython3",
   "version": "3.12.1"
  }
 },
 "nbformat": 4,
 "nbformat_minor": 5
}
