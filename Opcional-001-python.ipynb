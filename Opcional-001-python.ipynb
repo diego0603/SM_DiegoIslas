{
 "cells": [
  {
   "cell_type": "markdown",
   "id": "1ad6ce92-7674-47c1-95ad-ea2cc644a88f",
   "metadata": {},
   "source": [
    "Diego Yael Islas Santoyo 29/08/2024"
   ]
  },
  {
   "cell_type": "markdown",
   "id": "bca0b935-3f9e-4fc4-822e-d79e88cd0c2f",
   "metadata": {},
   "source": [
    "# OPCIONAL - 001 - PYTHON"
   ]
  },
  {
   "cell_type": "markdown",
   "id": "fdc3ea78-6ef8-41ad-b7df-b722d9cd4a0b",
   "metadata": {},
   "source": [
    "**Ejercicio 1.**"
   ]
  },
  {
   "cell_type": "markdown",
   "id": "a89e2fbc-529e-4ff9-8fec-2bf5b1f76de7",
   "metadata": {},
   "source": [
    "En una empresa el salario de un empleado se calcula de la siguiente manera:\n",
    "\n",
    "* 500 USD mensuales.\n",
    "* 20 USD adicionales por cada año de antigüedad.\n",
    "* 15 USD de apoyo gubernamental por cada dependiente.\n",
    "* 100 USD si no hubo ausencias injustificadas."
   ]
  },
  {
   "cell_type": "markdown",
   "id": "183de3fd-aba5-4983-bc55-7ec0e4a4c490",
   "metadata": {},
   "source": [
    "Escribe una función que reciba la antigüedad del empleado y su cantidad de dependientes como número entero, y la confirmación de asistencia como booleano. Si se ingresa un tipo de dato en una variable diferente al esperado la función debe regresar \"Error. Revisar entradas.\"\n",
    "\n",
    "\n"
   ]
  },
  {
   "cell_type": "code",
   "execution_count": 41,
   "id": "a7b4261c-0785-4a7b-86d7-d439768ef811",
   "metadata": {},
   "outputs": [
    {
     "name": "stdin",
     "output_type": "stream",
     "text": [
      "Ingrese los años de antigüedad del empleado:  80\n",
      "Ingrese el número de dependientes:  6\n",
      "¿El empleado tuvo asistencia perfecta? (s/n):  s\n"
     ]
    },
    {
     "name": "stdout",
     "output_type": "stream",
     "text": [
      "El salario total es $2290: $500 de salario mínimo + $1600 por 80 años de experiencia + $90 por 6 dependientes + $100 por no inasistencias.\n"
     ]
    }
   ],
   "source": [
    "def calcular_salario(antiguedad, dependientes, asistencia_perfecta):\n",
    "    if not isinstance(antiguedad, int) or not isinstance(dependientes, int) or not isinstance(asistencia_perfecta, bool):\n",
    "        return \"Error. Revisar entradas.\"\n",
    "    \n",
    "    salario_base = 500\n",
    "    bono_antiguedad = 20 * antiguedad\n",
    "    apoyo_dependientes = 15 * dependientes\n",
    "    bono_asistencia = 100 if asistencia_perfecta else 0\n",
    "    \n",
    "    salario_total = salario_base + bono_antiguedad + apoyo_dependientes + bono_asistencia\n",
    "    \n",
    "    return f\"El salario total es ${salario_total}: $500 de salario mínimo + ${bono_antiguedad} por {antiguedad} años de experiencia + ${apoyo_dependientes} por {dependientes} dependientes + ${bono_asistencia} por {'no inasistencias' if asistencia_perfecta else 'asistencia imperfecta'}.\"\n",
    "\n",
    "try:\n",
    "    antiguedad = int(input(\"Ingrese los años de antigüedad del empleado: \"))\n",
    "    dependientes = int(input(\"Ingrese el número de dependientes: \"))\n",
    "    asistencia = input(\"¿El empleado tuvo asistencia perfecta? (s/n): \").lower()\n",
    "    asistencia_perfecta = asistencia == 's'\n",
    "    \n",
    "    resultado = calcular_salario(antiguedad, dependientes, asistencia_perfecta)\n",
    "    print(resultado)\n",
    "except ValueError:\n",
    "    print(\"Error. Por favor, ingrese números enteros para antigüedad y dependientes.\")"
   ]
  },
  {
   "cell_type": "markdown",
   "id": "0379552e-61c8-4f6d-8957-adf5af40d95e",
   "metadata": {},
   "source": [
    "**Ejercicio 2**"
   ]
  },
  {
   "cell_type": "markdown",
   "id": "f47754f1-cd04-4ad4-96a0-ede3a8d79762",
   "metadata": {},
   "source": [
    "Escribe una función que recibe un número entero de 3 cifras y que responda de la siguiente manera:\r\n",
    "* El número tiene x centenas\n",
    "* El número tiene y decenas \n",
    "* El número tiene z unidadesades"
   ]
  },
  {
   "cell_type": "code",
   "execution_count": 39,
   "id": "8a7e0287-eb84-4500-934a-1de122c1f608",
   "metadata": {},
   "outputs": [
    {
     "name": "stdin",
     "output_type": "stream",
     "text": [
      "Ingrese un número entero de 3 cifras:  100\n"
     ]
    },
    {
     "name": "stdout",
     "output_type": "stream",
     "text": [
      "El número tiene 1 centenas\n",
      "El número tiene 0 decenas\n",
      "El número tiene 0 unidades\n"
     ]
    }
   ],
   "source": [
    "def descomponer_numero(numero):\n",
    "    if not isinstance(numero, int) or numero < 100 or numero > 999:\n",
    "        return \"Error. Ingrese un número entero de 3 cifras.\"\n",
    "    \n",
    "    centenas = numero // 100\n",
    "    decenas = (numero % 100) // 10\n",
    "    unidades = numero % 10\n",
    "    \n",
    "    return f\"\"\"El número tiene {centenas} centenas\n",
    "El número tiene {decenas} decenas\n",
    "El número tiene {unidades} unidades\"\"\"\n",
    "\n",
    "try:\n",
    "    numero = int(input(\"Ingrese un número entero de 3 cifras: \"))\n",
    "    resultado = descomponer_numero(numero)\n",
    "    print(resultado)\n",
    "except ValueError:\n",
    "    print(\"Error. Por favor, ingrese un número entero válido.\") "
   ]
  },
  {
   "cell_type": "markdown",
   "id": "a2df5eee-d752-4708-9ed0-26fa283b86db",
   "metadata": {},
   "source": [
    "**Ejercicio 3**"
   ]
  },
  {
   "cell_type": "markdown",
   "id": "b7f5654e-2a23-4b30-bc70-f3c47dc59acd",
   "metadata": {},
   "source": [
    "En un cibercafé hay 2 formas de cobrar a un cliente. Se cobra 10 pesos la hora si el cliente está registrado como miembro, y 25 si no. Además, el impuesto cobrado a un miembro es del 10% y a un no miembro de 20%.\r\n",
    "\r\n",
    "Los clientes registrados como miembros so\n",
    "* Magnolia\n",
    "* Pedro\n",
    "* Iván\n",
    "* Sabrina\n",
    "* Montserrat\n",
    "* Miguel\n",
    "\n",
    "Escribe una función que reciba como entrada:\n",
    "\n",
    "* Cuántas horas estuvo el cliente usando el equipo\n",
    "* El nombre del cliente\n",
    "\n",
    "La función debe buscar al cliente en la base de datos para saber si es miembro, y debe imprimir:\r\n",
    "\r\n",
    "\"El usuario (no) es un miembro y estuvo (x) horas + el impuesto del (y)%. Total: 'zzz'.\"n:"
   ]
  },
  {
   "cell_type": "code",
   "execution_count": 52,
   "id": "d84313bf-0221-436a-8225-fe4dc8f4882d",
   "metadata": {},
   "outputs": [
    {
     "name": "stdin",
     "output_type": "stream",
     "text": [
      "Ingrese el nombre del cliente:  Adrian\n",
      "Ingrese el número de horas de uso:  40\n"
     ]
    },
    {
     "name": "stdout",
     "output_type": "stream",
     "text": [
      "El usuario no es un miembro y estuvo 40.0 horas + el impuesto del 20.0%. Total: $1200.00.\n"
     ]
    }
   ],
   "source": [
    "def cobrar_cliente(horas, nombre):\n",
    "    miembros = [\"Magnolia\", \"Pedro\", \"Iván\", \"Sabrina\", \"Montserrat\", \"Miguel\"]\n",
    "    \n",
    "    if not isinstance(horas, (int, float)) or horas <= 0:\n",
    "        return \"Error. Las horas deben ser un número positivo.\"\n",
    "    \n",
    "    if nombre in miembros:\n",
    "        es_miembro = True\n",
    "        costo_por_hora = 10\n",
    "        impuesto = 0.10\n",
    "    else:\n",
    "        es_miembro = False\n",
    "        costo_por_hora = 25\n",
    "        impuesto = 0.20\n",
    "    \n",
    "    subtotal = costo_por_hora * horas\n",
    "    total = subtotal + (subtotal * impuesto)\n",
    "    \n",
    "    return f\"El usuario {'es' if es_miembro else 'no es'} un miembro y estuvo {horas} horas + el impuesto del {impuesto*100}%. Total: ${total:.2f}.\"\n",
    "\n",
    "try:\n",
    "    nombre = input(\"Ingrese el nombre del cliente: \")\n",
    "    horas = float(input(\"Ingrese el número de horas de uso: \"))\n",
    "    \n",
    "    resultado = cobrar_cliente(horas, nombre)\n",
    "    print(resultado)\n",
    "except ValueError:\n",
    "    print(\"Error. Por favor, ingrese un número válido para las horas.\")"
   ]
  },
  {
   "cell_type": "markdown",
   "id": "fe002aa8-0a91-4d2b-a83c-72c85ffbf1c8",
   "metadata": {},
   "source": [
    "**Ejercicio 4**"
   ]
  },
  {
   "cell_type": "markdown",
   "id": "47be2a0b-bb1d-4649-af0b-8f15fae2c6bb",
   "metadata": {},
   "source": [
    "Crea una función que reciba un número entero 'n' y que regrese la sumatoria de 1 hasta ese número. E.g. sumatoria(5) regresa 1+2+3+4+5 = 15. No se puede usar la fórmula de respuesta para una sumatoria, se deben usar ciclos."
   ]
  },
  {
   "cell_type": "code",
   "execution_count": 54,
   "id": "e480a94c-c50f-45b6-a558-c9246701d873",
   "metadata": {},
   "outputs": [
    {
     "name": "stdin",
     "output_type": "stream",
     "text": [
      "Ingrese un número entero positivo para calcular la sumatoria:  6\n"
     ]
    },
    {
     "name": "stdout",
     "output_type": "stream",
     "text": [
      "La sumatoria de 1 hasta 6 es: 21\n"
     ]
    }
   ],
   "source": [
    "def sumatoria(n):\r\n",
    "    if not isinstance(n, int) or n < 1:\r\n",
    "        return \"Error. Ingrese un número entero positivo.\"\r\n",
    "    \r\n",
    "    suma = 0\r\n",
    "    for i in range(1, n + 1):\r\n",
    "        suma += i\r\n",
    "    \r\n",
    "    return f\"La sumatoria de 1 hasta {n} es: el usuario\r\n",
    "try:\r\n",
    "    numero = int(input(\"Ingrese un número entero positivo para calcular la sumatoria: \"))\r\n",
    "    resultado = sumatoria(numero)\r\n",
    "    print(resultado)\r\n",
    "except ValueError:\r\n",
    "    print(\"Error. Por favor, ingrese un número entero válido.\")"
   ]
  },
  {
   "cell_type": "markdown",
   "id": "b93104b1-6259-4e15-9068-87617e8d93d5",
   "metadata": {},
   "source": [
    "**Ejercicio 5**"
   ]
  },
  {
   "cell_type": "markdown",
   "id": "29acc471-fb54-4ed7-b509-9ec43ff05d75",
   "metadata": {},
   "source": [
    "Crea una función que calcule el promedio de una lista de números. Usar ciclos para iterar sobre la lista e imprimir error si alguno de los objetos en la lista no es un número."
   ]
  },
  {
   "cell_type": "code",
   "execution_count": 58,
   "id": "699268be-7bdc-4ccc-aea3-52857975ce82",
   "metadata": {},
   "outputs": [
    {
     "name": "stdout",
     "output_type": "stream",
     "text": [
      "Ingrese los números para calcular el promedio (presione Enter sin escribir nada para terminar):\n"
     ]
    },
    {
     "name": "stdin",
     "output_type": "stream",
     "text": [
      " 20\n",
      " 10\n",
      " 30\n",
      " \"\"\n",
      " \"\n",
      " \"\":\n",
      " \n"
     ]
    },
    {
     "name": "stdout",
     "output_type": "stream",
     "text": [
      "Error. Todos los elementos deben ser números.\n"
     ]
    }
   ],
   "source": [
    "def calcular_promedio(lista):\n",
    "    if not lista:\n",
    "        return \"Error. La lista está vacía.\"\n",
    "    \n",
    "    try:\n",
    "        suma = sum(float(num) for num in lista)\n",
    "        promedio = suma / len(lista)\n",
    "        return f\"El promedio de la lista es: {promedio:.2f}\"\n",
    "    except ValueError:\n",
    "        return \"Error. Todos los elementos deben ser números.\"\n",
    "        \n",
    "print(\"Ingrese los números para calcular el promedio (presione Enter sin escribir nada para terminar):\")\n",
    "numeros = []\n",
    "while True:\n",
    "    entrada = input()\n",
    "    if entrada == \"\":\n",
    "        break\n",
    "    numeros.append(entrada)\n",
    "\n",
    "resultado = calcular_promedio(numeros)\n",
    "print(resultado)"
   ]
  },
  {
   "cell_type": "markdown",
   "id": "e447ecf4-d4ed-4832-9261-849a72f5b32b",
   "metadata": {},
   "source": [
    "**Ejercicio 6**"
   ]
  },
  {
   "cell_type": "markdown",
   "id": "b5435095-3aeb-4e09-ba75-221f73e9dbd1",
   "metadata": {},
   "source": [
    "Tienes las siguientes listas que corresponden a nombres de miembros de un gimnasio y su código de acceso:\n",
    "\n",
    "[\"María\", \"Juan\", \"Jorge\", \"Nina\", \"Álex\", \"Beatriz\"]\n",
    "\n",
    "[[32343, 12134, 25342, 35342, 42343, 32134, 15342, 25342]\n",
    "\n",
    "La relación es uno a uno.\n",
    "\n",
    "Crea un programa que te ayuda a ordenar estas dos listas:\n",
    "\n",
    "1. En orden alfabético (respetando también la lista de códigos de acceso)\n",
    "\n",
    "2. De código de acceso menor a mayor (respetando la lista de nombres)"
   ]
  },
  {
   "cell_type": "code",
   "execution_count": 60,
   "id": "c75f6164-2afb-4740-9908-ee5085ef9226",
   "metadata": {},
   "outputs": [
    {
     "name": "stdout",
     "output_type": "stream",
     "text": [
      "Listas originales:\n",
      "Nombres: ['María', 'Juan', 'Jorge', 'Nina', 'Álex', 'Beatriz']\n",
      "Códigos: [32343, 12134, 25342, 35342, 42343, 32134, 15342, 25342]\n"
     ]
    },
    {
     "name": "stdin",
     "output_type": "stream",
     "text": [
      "¿Cómo desea ordenar las listas? (1: Alfabéticamente, 2: Por código de acceso):  Alfabéticamente\n"
     ]
    },
    {
     "name": "stdout",
     "output_type": "stream",
     "text": [
      "Opción no válida. No se realizará ningún ordenamiento.\n",
      "Nombres ordenados: ['María', 'Juan', 'Jorge', 'Nina', 'Álex', 'Beatriz']\n",
      "Códigos ordenados: [32343, 12134, 25342, 35342, 42343, 32134, 15342, 25342]\n"
     ]
    }
   ],
   "source": [
    "def ordenar_alfabeticamente(nombres, codigos):\n",
    "    pares = list(zip(nombres, codigos))\n",
    "    pares_ordenados = sorted(pares, key=lambda x: x[0])\n",
    "    nombres_ordenados, codigos_ordenados = zip(*pares_ordenados)\n",
    "    return list(nombres_ordenados), list(codigos_ordenados)\n",
    "\n",
    "def ordenar_por_codigo(nombres, codigos):\n",
    "    pares = list(zip(nombres, codigos))\n",
    "    pares_ordenados = sorted(pares, key=lambda x: x[1])\n",
    "    nombres_ordenados, codigos_ordenados = zip(*pares_ordenados)\n",
    "    return list(nombres_ordenados), list(codigos_ordenados)\n",
    "\n",
    "# Listas iniciales\n",
    "nombres = [\"María\", \"Juan\", \"Jorge\", \"Nina\", \"Álex\", \"Beatriz\"]\n",
    "codigos = [32343, 12134, 25342, 35342, 42343, 32134, 15342, 25342]\n",
    "\n",
    "# Interacción con el usuario\n",
    "print(\"Listas originales:\")\n",
    "print(\"Nombres:\", nombres)\n",
    "print(\"Códigos:\", codigos)\n",
    "\n",
    "opcion = input(\"¿Cómo desea ordenar las listas? (1: Alfabéticamente, 2: Por código de acceso): \")\n",
    "\n",
    "if opcion == \"1\":\n",
    "    nombres_ordenados, codigos_ordenados = ordenar_alfabeticamente(nombres, codigos)\n",
    "    print(\"\\nListas ordenadas alfabéticamente:\")\n",
    "elif opcion == \"2\":\n",
    "    nombres_ordenados, codigos_ordenados = ordenar_por_codigo(nombres, codigos)\n",
    "    print(\"\\nListas ordenadas por código de acceso:\")\n",
    "else:\n",
    "    print(\"Opción no válida. No se realizará ningún ordenamiento.\")\n",
    "    nombres_ordenados, codigos_ordenados = nombres, codigos\n",
    "\n",
    "print(\"Nombres ordenados:\", nombres_ordenados)\n",
    "print(\"Códigos ordenados:\", codigos_ordenados)"
   ]
  },
  {
   "cell_type": "markdown",
   "id": "ce1a7c97-e671-409b-a424-524feadd23f3",
   "metadata": {},
   "source": [
    "**Ejercicio 7**"
   ]
  },
  {
   "cell_type": "markdown",
   "id": "bc332ba8-7b7f-4acc-b29d-a9b840555457",
   "metadata": {},
   "source": [
    "Un banco tiene dos listas de clientes\r\n",
    "\r\n",
    "clientes activos\r\n",
    "clientes inactivos\r\n",
    "Cada valor en cualquiera de las listas se compone de la siguiente manera:\r\n",
    "\r\n",
    "[ str: nombre,  str: apellido,  float: saldo,  bool: premium ]\r\n",
    "\r\n",
    "Por ejemplo: la lista de clientes activos podría contener:\r\n",
    "\r\n",
    "clientes_activos = [[\"gabriel\", \"morales\", 5, False], [\"magnolia\", \"lara\", 0, True], [\"iván\", \"ruiz\", 0, False]]\r\n",
    "\r\n",
    "Crea una función que itere sobre la lista de clientes activos y que pase un registro a la lista de clientes inactivos si el saldo es 0 y el estado premium es falso.\r\n",
    "\r\n",
    "Crea otra función que itere sobre la lista de clientes inactivos y que pase registros a activos si el saldo es mayor a 0 o si el estado premium es verdadero."
   ]
  },
  {
   "cell_type": "code",
   "execution_count": 62,
   "id": "add0f982-50a3-4c45-b9d4-5b037df31242",
   "metadata": {},
   "outputs": [
    {
     "name": "stdout",
     "output_type": "stream",
     "text": [
      "\n",
      "Estado actual de las listas:\n",
      "Clientes activos: [['gabriel', 'morales', 5, False], ['magnolia', 'lara', 0, True], ['iván', 'ruiz', 0, False]]\n",
      "Clientes inactivos: [['ana', 'lópez', 0, False], ['carlos', 'garcía', 10, False]]\n"
     ]
    },
    {
     "name": "stdin",
     "output_type": "stream",
     "text": [
      "\n",
      "¿Qué desea hacer? (1: Actualizar activos, 2: Actualizar inactivos, 3: Salir):  1\n"
     ]
    },
    {
     "name": "stdout",
     "output_type": "stream",
     "text": [
      "Clientes activos actualizados.\n",
      "\n",
      "Estado actual de las listas:\n",
      "Clientes activos: [['gabriel', 'morales', 5, False], ['magnolia', 'lara', 0, True]]\n",
      "Clientes inactivos: [['ana', 'lópez', 0, False], ['carlos', 'garcía', 10, False], ['iván', 'ruiz', 0, False]]\n"
     ]
    },
    {
     "name": "stdin",
     "output_type": "stream",
     "text": [
      "\n",
      "¿Qué desea hacer? (1: Actualizar activos, 2: Actualizar inactivos, 3: Salir):  1\n"
     ]
    },
    {
     "name": "stdout",
     "output_type": "stream",
     "text": [
      "Clientes activos actualizados.\n",
      "\n",
      "Estado actual de las listas:\n",
      "Clientes activos: [['gabriel', 'morales', 5, False], ['magnolia', 'lara', 0, True]]\n",
      "Clientes inactivos: [['ana', 'lópez', 0, False], ['carlos', 'garcía', 10, False], ['iván', 'ruiz', 0, False]]\n"
     ]
    },
    {
     "name": "stdin",
     "output_type": "stream",
     "text": [
      "\n",
      "¿Qué desea hacer? (1: Actualizar activos, 2: Actualizar inactivos, 3: Salir):  3\n"
     ]
    },
    {
     "name": "stdout",
     "output_type": "stream",
     "text": [
      "Programa finalizado.\n"
     ]
    }
   ],
   "source": [
    "def actualizar_clientes_activos(activos, inactivos):\n",
    "    nuevos_activos = []\n",
    "    for cliente in activos:\n",
    "        if cliente[2] == 0 and not cliente[3]:\n",
    "            inactivos.append(cliente)\n",
    "        else:\n",
    "            nuevos_activos.append(cliente)\n",
    "    return nuevos_activos, inactivos\n",
    "\n",
    "def actualizar_clientes_inactivos(activos, inactivos):\n",
    "    nuevos_inactivos = []\n",
    "    for cliente in inactivos:\n",
    "        if cliente[2] > 0 or cliente[3]:\n",
    "            activos.append(cliente)\n",
    "        else:\n",
    "            nuevos_inactivos.append(cliente)\n",
    "    return activos, nuevos_inactivos\n",
    "\n",
    "clientes_activos = [[\"gabriel\", \"morales\", 5, False], [\"magnolia\", \"lara\", 0, True], [\"iván\", \"ruiz\", 0, False]]\n",
    "clientes_inactivos = [[\"ana\", \"lópez\", 0, False], [\"carlos\", \"garcía\", 10, False]]\n",
    "\n",
    "while True:\n",
    "    print(\"\\nEstado actual de las listas:\")\n",
    "    print(\"Clientes activos:\", clientes_activos)\n",
    "    print(\"Clientes inactivos:\", clientes_inactivos)\n",
    "    \n",
    "    opcion = input(\"\\n¿Qué desea hacer? (1: Actualizar activos, 2: Actualizar inactivos, 3: Salir): \")\n",
    "    \n",
    "    if opcion == \"1\":\n",
    "        clientes_activos, clientes_inactivos = actualizar_clientes_activos(clientes_activos, clientes_inactivos)\n",
    "        print(\"Clientes activos actualizados.\")\n",
    "    elif opcion == \"2\":\n",
    "        clientes_activos, clientes_inactivos = actualizar_clientes_inactivos(clientes_activos, clientes_inactivos)\n",
    "        print(\"Clientes inactivos actualizados.\")\n",
    "    elif opcion == \"3\":\n",
    "        print(\"Programa finalizado.\")\n",
    "        break\n",
    "    else:\n",
    "        print(\"Opción no válida. Por favor, intente de nuevo.\")"
   ]
  }
 ],
 "metadata": {
  "kernelspec": {
   "display_name": "Python 3 (ipykernel)",
   "language": "python",
   "name": "python3"
  },
  "language_info": {
   "codemirror_mode": {
    "name": "ipython",
    "version": 3
   },
   "file_extension": ".py",
   "mimetype": "text/x-python",
   "name": "python",
   "nbconvert_exporter": "python",
   "pygments_lexer": "ipython3",
   "version": "3.12.4"
  }
 },
 "nbformat": 4,
 "nbformat_minor": 5
}
