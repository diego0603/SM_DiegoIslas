{
 "cells": [
  {
   "cell_type": "markdown",
   "id": "e2b6edcd-890d-4d85-a3ad-0808311d974b",
   "metadata": {},
   "source": [
    "Diego Yael Islas Santoyo                                         19/Ago/2024"
   ]
  },
  {
   "cell_type": "markdown",
   "id": "3b9edf32-de4e-4942-a5d1-1130186403a0",
   "metadata": {},
   "source": [
    "# A02-Python"
   ]
  },
  {
   "cell_type": "markdown",
   "id": "76086cf4-85fc-4aff-a683-541db76b889c",
   "metadata": {},
   "source": [
    "## Función para determinar si un múmero es primo"
   ]
  },
  {
   "cell_type": "code",
   "execution_count": null,
   "id": "7ce299c5-4423-4a8f-8d1b-f6acbc548dbe",
   "metadata": {},
   "outputs": [
    {
     "name": "stdout",
     "output_type": "stream",
     "text": [
      "Elige una opción:\n",
      "1. Verificar si un número es primo\n",
      "2. Encontrar el número primo más cercano\n",
      "3. Calcular factoriales de una lista de números\n",
      "4. Generar lista con los primeros 100 múltiplos de 3\n"
     ]
    }
   ],
   "source": [
    "def es_primo(a):\n",
    "    if a <= 1:\n",
    "        return False\n",
    "    for i in range(2, int(a**0.5) + 1):\n",
    "        if a % i == 0:\n",
    "            return False\n",
    "    return True\n",
    "\n",
    "def primo_mas_cercano(a):\n",
    "    if a < 0 or a > 100:\n",
    "        return None  \n",
    "    if es_primo(a):\n",
    "        return a\n",
    "    menor = a\n",
    "    while menor > 0:\n",
    "        menor -= 1\n",
    "        if es_primo(menor):\n",
    "            break\n",
    "    mayor = a\n",
    "    while mayor < 100:\n",
    "        mayor += 1\n",
    "        if es_primo(mayor):\n",
    "            break\n",
    "    if abs(a - menor) <= abs(mayor - a):\n",
    "        return menor\n",
    "    else:\n",
    "        return mayor\n",
    "\n",
    "def factorial(n):\n",
    "    if n == 0 or n == 1:\n",
    "        return 1\n",
    "    return n * factorial(n - 1)\n",
    "\n",
    "def calcular_factoriales(numeros):\n",
    "    for num in numeros:\n",
    "        print(\"Factorial de\", num,\":\" ,factorial(num))\n",
    "\n",
    "def generar_multiplos_de_3():\n",
    "    multiplos_de_3 = [3 * i for i in range(1, 101)]\n",
    "    print(multiplos_de_3)\n",
    "\n",
    "def main():\n",
    "    print(\"Elige una opción:\")\n",
    "    print(\"1. Verificar si un número es primo\")\n",
    "    print(\"2. Encontrar el número primo más cercano\")\n",
    "    print(\"3. Calcular factoriales de una lista de números\")\n",
    "    print(\"4. Generar lista con los primeros 100 múltiplos de 3\")\n",
    "    opcion = int(input(\"Opción: \"))\n",
    "\n",
    "    if opcion == 1:\n",
    "        a = int(input(\"Ingresa un número: \"))\n",
    "        if es_primo(a):\n",
    "            print(a ,\"es un número primo.\")\n",
    "        else:\n",
    "            print(a , \"no es un número primo.\")\n",
    "\n",
    "    elif opcion == 2:\n",
    "        a = int(input(\"Ingresa un número entre 0 y 100: \"))\n",
    "        primo_cercano = primo_mas_cercano(a)\n",
    "        if primo_cercano is not None:\n",
    "            print(\"El número primo más cercano a\", a ,\"es\", primo_mas_cercano)\n",
    "        else:\n",
    "            print(\"El número está fuera del rango permitido.\")\n",
    "\n",
    "    elif opcion == 3:\n",
    "        numeros = [4, 7, 5, 8, 9, 3]\n",
    "        calcular_factoriales(numeros)\n",
    "\n",
    "    elif opcion == 4:\n",
    "        generar_multiplos_de_3()\n",
    "\n",
    "    else:\n",
    "        print(\"Opción no válida.\")\n",
    "\n",
    "if __name__ == \"__main__\":\n",
    "    main()\n"
   ]
  },
  {
   "cell_type": "markdown",
   "id": "461a2a2a-185f-40a3-8c34-aa647576cacd",
   "metadata": {},
   "source": [
    "!(Diagrama)[https://github.com/diego0603/SM_Diego-Islas/blob/main/A02.Python.png?raw=true]\n"
   ]
  },
  {
   "cell_type": "code",
   "execution_count": null,
   "id": "a80fb375-7026-43f1-8be3-ceb0dbc7d9a2",
   "metadata": {},
   "outputs": [],
   "source": []
  },
  {
   "cell_type": "code",
   "execution_count": null,
   "id": "8b18304c-8b7b-42d9-9073-0dfa94ddcd57",
   "metadata": {},
   "outputs": [],
   "source": []
  }
 ],
 "metadata": {
  "kernelspec": {
   "display_name": "Python 3 (ipykernel)",
   "language": "python",
   "name": "python3"
  },
  "language_info": {
   "codemirror_mode": {
    "name": "ipython",
    "version": 3
   },
   "file_extension": ".py",
   "mimetype": "text/x-python",
   "name": "python",
   "nbconvert_exporter": "python",
   "pygments_lexer": "ipython3",
   "version": "3.12.4"
  }
 },
 "nbformat": 4,
 "nbformat_minor": 5
}
