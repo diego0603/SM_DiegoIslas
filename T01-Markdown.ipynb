{
 "cells": [
  {
   "cell_type": "markdown",
   "id": "880a0296-9bcb-47aa-9d6b-eb46c95cd860",
   "metadata": {},
   "source": [
    "# Estructuras cristalinas"
   ]
  },
  {
   "cell_type": "markdown",
   "id": "1582268e-c1ca-45fe-9079-a6c7ccaed02d",
   "metadata": {},
   "source": [
    "---"
   ]
  },
  {
   "cell_type": "markdown",
   "id": "680475a9-fce9-440e-978f-b76b3f212e42",
   "metadata": {},
   "source": [
    "## Introducción"
   ]
  },
  {
   "cell_type": "markdown",
   "id": "b631b8c1-9240-4463-b6d4-f5c930ecb034",
   "metadata": {},
   "source": [
    "Las estructuras cristalinas son como la forma en que los átomos se organizan dentro de un sólido. Imagina que los átomos están en un patrón regular y repetitivo que se extiende en todas las direcciones. Esta organización ordenada hace que los materiales tengan propiedades únicas. Por ejemplo, hay diferentes tipos de estructuras cristalinas, como la cúbica (como en la sal común), la hexagonal (como en el grafito), y otras. Cada una de estas estructuras afecta cosas como la densidad, el punto de fusión y cómo el material conduce la electricidad."
   ]
  },
  {
   "cell_type": "markdown",
   "id": "90654758-7d79-46d8-a749-c7194a2db6d6",
   "metadata": {},
   "source": [
    "### Tipos de estructuras cristalinas"
   ]
  },
  {
   "cell_type": "markdown",
   "id": "aa5f919c-3cea-4084-80d1-08f6beb5be5d",
   "metadata": {},
   "source": [
    "**1. Estructura cúbicas**"
   ]
  },
  {
   "cell_type": "markdown",
   "id": "cee82001-d8d6-471e-8772-06a32e124760",
   "metadata": {},
   "source": [
    " - **Cúbica simple:** Los átomos están en las esquinas de un cubo. Ejemplo: polonio."
   ]
  },
  {
   "cell_type": "markdown",
   "id": "2e3a8ba9-6aee-4c6d-8ed8-8a97e5126351",
   "metadata": {},
   "source": [
    "- **Cúbica Centrada en el Cuerpo (*BCC*):** Los átomos están en las esquinas y en el centro del cubo. Ejemplo: hierro en estado alfa."
   ]
  },
  {
   "cell_type": "markdown",
   "id": "4c09dccf-c579-4b58-8108-af56b036d6f2",
   "metadata": {},
   "source": [
    "- **Cúbica Centrada en las Caras (*FCC*):** Los átomos están en las esquinas y en el centro de cada cara del cubo. Ejemplo: aluminio y cobre."
   ]
  },
  {
   "cell_type": "markdown",
   "id": "44257285-64eb-4eb1-9c38-a396714ab09e",
   "metadata": {},
   "source": [
    "**2. Estructura hexágonal**"
   ]
  },
  {
   "cell_type": "markdown",
   "id": "46d2ad95-5d4e-4524-8f29-2d6d22e6c259",
   "metadata": {},
   "source": [
    "- **Hexagonal Compacta (*HCP*):** Los átomos forman un patrón de capas alternas en forma de hexágono. Ejemplo: zinc y magnesio.\n"
   ]
  },
  {
   "cell_type": "markdown",
   "id": "56fc40e1-0331-42c1-b814-55345508726e",
   "metadata": {},
   "source": [
    "**3. Estructura Tetragonal**"
   ]
  },
  {
   "cell_type": "markdown",
   "id": "7e46627e-13a1-445d-abb6-a49ad3eecea2",
   "metadata": {},
   "source": [
    "- Los átomos están en un patrón que forma un prisma rectangular. Ejemplo: titanio."
   ]
  },
  {
   "cell_type": "markdown",
   "id": "413746d3-8d72-4307-8839-56d529d21235",
   "metadata": {},
   "source": [
    "**4. Estructura Ortorrómbica**"
   ]
  },
  {
   "cell_type": "markdown",
   "id": "34c3c9a2-1a8a-4827-befe-a93e758c108f",
   "metadata": {},
   "source": [
    "- Los átomos están organizados en un prisma rectangular con ángulos de 90 grados. Ejemplo: azufre"
   ]
  },
  {
   "cell_type": "markdown",
   "id": "14274cbb-d058-4b72-9474-faaf1dd4a159",
   "metadata": {},
   "source": [
    "### Propiedades y aplicaciones"
   ]
  },
  {
   "cell_type": "markdown",
   "id": "eb18e3dd-ce5d-44f6-996e-6fa201123e01",
   "metadata": {},
   "source": [
    "Cada tipo de estructura cristalina influye en las propiedades físicas del material. Por ejemplo:"
   ]
  },
  {
   "cell_type": "markdown",
   "id": "d3746290-5d80-448a-99ae-16c6aa7e230d",
   "metadata": {},
   "source": [
    "- **La densidad** puede variar según cómo se empaquetan los átomos."
   ]
  },
  {
   "cell_type": "markdown",
   "id": "83f5fdfe-dac1-45a7-91a2-b3ead50c4dab",
   "metadata": {},
   "source": [
    "- **El punto de fusión** también puede depender de la estructura, ya que algunos patrones son más estables a altas temperaturas."
   ]
  },
  {
   "cell_type": "markdown",
   "id": "844cc698-ee08-44c0-b1cb-7c08e7ffc9c7",
   "metadata": {},
   "source": [
    "- **La conductividad eléctrica** puede cambiar según la facilidad con la que los electrones se mueven a través del cristal."
   ]
  },
  {
   "cell_type": "markdown",
   "id": "c1ab959f-07f2-4f11-8310-8d3c997ff89b",
   "metadata": {},
   "source": [
    "Estas propiedades hacen que diferentes materiales sean útiles para diferentes aplicaciones, desde la fabricación de herramientas hasta la creación de dispositivos electrónicos."
   ]
  },
  {
   "cell_type": "markdown",
   "id": "23eeaa14-a1b7-4d41-be77-b0d7b90e5dfa",
   "metadata": {},
   "source": [
    "![Estructuras cristalinas](https://th.bing.com/th/id/OIP.Pzk1QrXQymtcfeekYuzOxQHaFu?rs=1&pid=ImgDetMain)"
   ]
  },
  {
   "cell_type": "markdown",
   "id": "b1fc1cee-918a-438d-804b-1c54323852bc",
   "metadata": {},
   "source": [
    "### Parámetros de red BÁSICOS Y ESCENCIALES"
   ]
  },
  {
   "cell_type": "markdown",
   "id": "18267001-b698-4cd7-a5ba-221c393080d8",
   "metadata": {},
   "source": [
    "- ***BS***: "
   ]
  },
  {
   "cell_type": "markdown",
   "id": "bb326e36-1084-435a-aa8e-de101728d801",
   "metadata": {},
   "source": [
    "$ a = 2r $"
   ]
  },
  {
   "cell_type": "markdown",
   "id": "7778eba8-30f3-40b3-8a1f-eb7833c06838",
   "metadata": {},
   "source": [
    "- ***BCC:***"
   ]
  },
  {
   "cell_type": "markdown",
   "id": "28850590-0626-4563-b55b-e67b158f0d91",
   "metadata": {},
   "source": [
    "$ a = \\frac{4r}{\\sqrt3} $"
   ]
  },
  {
   "cell_type": "markdown",
   "id": "7a481dee-6149-497e-96ed-0a963d89c240",
   "metadata": {},
   "source": [
    "- ***FCC:***"
   ]
  },
  {
   "cell_type": "markdown",
   "id": "ac556d18-3db6-4518-ad18-13aea78b7ac8",
   "metadata": {},
   "source": [
    "$ a = \\frac{4r}{\\sqrt2} $"
   ]
  }
 ],
 "metadata": {
  "kernelspec": {
   "display_name": "Python 3 (ipykernel)",
   "language": "python",
   "name": "python3"
  },
  "language_info": {
   "codemirror_mode": {
    "name": "ipython",
    "version": 3
   },
   "file_extension": ".py",
   "mimetype": "text/x-python",
   "name": "python",
   "nbconvert_exporter": "python",
   "pygments_lexer": "ipython3",
   "version": "3.12.4"
  }
 },
 "nbformat": 4,
 "nbformat_minor": 5
}
